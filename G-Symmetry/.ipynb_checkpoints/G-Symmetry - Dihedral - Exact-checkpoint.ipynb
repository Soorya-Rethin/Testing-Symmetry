{
 "cells": [
  {
   "cell_type": "code",
   "execution_count": 3,
   "id": "0e2cf47a",
   "metadata": {},
   "outputs": [],
   "source": [
    "#Import Relevant Libraries\n",
    "import random\n",
    "import numpy as np\n",
    "import cvxpy as cp\n",
    "\n",
    "from qiskit import QuantumCircuit, execute, Aer, IBMQ, BasicAer\n",
    "from qiskit.visualization import plot_histogram, plot_state_qsphere as plot_q\n",
    "from qiskit.quantum_info import Statevector\n",
    "\n",
    "from qiskit import quantum_info as qi\n",
    "from toqito.channel_metrics import channel_fidelity\n",
    "\n",
    "from toqito.state_metrics import fidelity\n",
    "from toqito.channels import partial_trace as pt\n",
    "from qiskit.quantum_info import DensityMatrix, state_fidelity, partial_trace"
   ]
  },
  {
   "cell_type": "code",
   "execution_count": 4,
   "id": "0a73ceb2",
   "metadata": {},
   "outputs": [],
   "source": [
    "unitary_param_1 = np.array([])\n",
    "#for i in range(0, 8):\n",
    "#    unitary_param_1 = np.append(unitary_param_1, np.array([rand_numb(0,2*np.pi)]))\n",
    " \n",
    "unitary_param_1 = [1.86051851, 3.72215261, 1.57043552, 5.48869762, \n",
    "                   2.30980358, 5.01476937, 0.5581273, 3.88907588]"
   ]
  },
  {
   "cell_type": "code",
   "execution_count": 5,
   "id": "780cd4b6",
   "metadata": {},
   "outputs": [
    {
     "data": {
      "text/html": [
       "<pre style=\"word-wrap: normal;white-space: pre;background: #fff0;line-height: 1.1;font-family: &quot;Courier New&quot;,Courier,monospace\">     ┌────────────┐┌────────────┐     ┌────────────┐┌─────────────┐     \n",
       "q_0: ┤ Rx(1.8605) ├┤ Ry(1.5704) ├──■──┤ Rx(2.3098) ├┤ Ry(0.55813) ├──■──\n",
       "     ├────────────┤├────────────┤┌─┴─┐├────────────┤└┬────────────┤┌─┴─┐\n",
       "q_1: ┤ Rx(3.7222) ├┤ Ry(5.4887) ├┤ X ├┤ Rx(5.0148) ├─┤ Ry(3.8891) ├┤ X ├\n",
       "     └────────────┘└────────────┘└───┘└────────────┘ └────────────┘└───┘</pre>"
      ],
      "text/plain": [
       "     ┌────────────┐┌────────────┐     ┌────────────┐┌─────────────┐     \n",
       "q_0: ┤ Rx(1.8605) ├┤ Ry(1.5704) ├──■──┤ Rx(2.3098) ├┤ Ry(0.55813) ├──■──\n",
       "     ├────────────┤├────────────┤┌─┴─┐├────────────┤└┬────────────┤┌─┴─┐\n",
       "q_1: ┤ Rx(3.7222) ├┤ Ry(5.4887) ├┤ X ├┤ Rx(5.0148) ├─┤ Ry(3.8891) ├┤ X ├\n",
       "     └────────────┘└────────────┘└───┘└────────────┘ └────────────┘└───┘"
      ]
     },
     "execution_count": 5,
     "metadata": {},
     "output_type": "execute_result"
    }
   ],
   "source": [
    "#State \\rho_S\n",
    "size = 2\n",
    "layers = 2\n",
    "state = QuantumCircuit(size)\n",
    "for j in range(layers):\n",
    "    for i in range(size):\n",
    "        state.rx(unitary_param_1[j*size*2 + i], i)\n",
    "        state.ry(unitary_param_1[j*2*size + i + size], i)\n",
    "\n",
    "    for i in range(size-1):\n",
    "        state.cx(i, i+1)\n",
    "\n",
    "state.draw()"
   ]
  },
  {
   "cell_type": "code",
   "execution_count": 6,
   "id": "d77f35e9",
   "metadata": {},
   "outputs": [],
   "source": [
    "psi = np.array(DensityMatrix.from_instruction(state.reverse_bits()))\n",
    "rho = pt(psi, [1], [2, 2])"
   ]
  },
  {
   "cell_type": "code",
   "execution_count": 13,
   "id": "e2bd4d30",
   "metadata": {},
   "outputs": [
    {
     "name": "stdout",
     "output_type": "stream",
     "text": [
      "WARN: A->p (column pointers) not strictly increasing, column 8 empty\n",
      "WARN: A->p (column pointers) not strictly increasing, column 11 empty\n",
      "Root Fidelity is : 0.9650935696646968\n"
     ]
    }
   ],
   "source": [
    "shape = rho.shape\n",
    "Z = [[1, 0],[0, -1]]\n",
    "\n",
    "X = cp.Variable(shape, complex=True)\n",
    "sig = cp.Variable(shape, complex=True)\n",
    "G = cp.bmat([[rho, X.H],[X, sig]])\n",
    "\n",
    "c = [sig>>0, G>>0, cp.real(cp.trace(sig))==1, Z@sig@Z == sig]\n",
    "\n",
    "obj = cp.Maximize(cp.trace(cp.real(X)))\n",
    "problem = cp.Problem(obj, constraints = c)\n",
    "rootFid = problem.solve()\n",
    "print(\"Root Fidelity is : \" + str(rootFid))"
   ]
  },
  {
   "cell_type": "code",
   "execution_count": 14,
   "id": "88930506",
   "metadata": {},
   "outputs": [
    {
     "name": "stdout",
     "output_type": "stream",
     "text": [
      "Fidelity is : 0.9314055982081471\n"
     ]
    }
   ],
   "source": [
    "print(\"Fidelity is : \" + str(rootFid**2))"
   ]
  },
  {
   "cell_type": "code",
   "execution_count": null,
   "id": "a51a6e89",
   "metadata": {},
   "outputs": [],
   "source": []
  }
 ],
 "metadata": {
  "kernelspec": {
   "display_name": "Python 3",
   "language": "python",
   "name": "python3"
  },
  "language_info": {
   "codemirror_mode": {
    "name": "ipython",
    "version": 3
   },
   "file_extension": ".py",
   "mimetype": "text/x-python",
   "name": "python",
   "nbconvert_exporter": "python",
   "pygments_lexer": "ipython3",
   "version": "3.9.6"
  }
 },
 "nbformat": 4,
 "nbformat_minor": 5
}
