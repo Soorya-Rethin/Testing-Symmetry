{
 "cells": [
  {
   "cell_type": "code",
   "execution_count": 7,
   "id": "0e2cf47a",
   "metadata": {},
   "outputs": [],
   "source": [
    "#Import Relevant Libraries\n",
    "import random\n",
    "import numpy as np\n",
    "import cvxpy as cp\n",
    "\n",
    "from qiskit import QuantumCircuit, execute, Aer, IBMQ, BasicAer\n",
    "from qiskit.visualization import plot_histogram, plot_state_qsphere as plot_q\n",
    "from qiskit.quantum_info import Statevector\n",
    "\n",
    "from qiskit import quantum_info as qi\n",
    "from toqito.channel_metrics import channel_fidelity\n",
    "\n",
    "from qiskit.circuit.library.standard_gates import CHGate\n",
    "\n",
    "from toqito.state_metrics import fidelity\n",
    "from toqito.channels import partial_trace as pt\n",
    "from qiskit.quantum_info import DensityMatrix, state_fidelity, partial_trace"
   ]
  },
  {
   "cell_type": "code",
   "execution_count": 8,
   "id": "0a73ceb2",
   "metadata": {},
   "outputs": [
    {
     "data": {
      "image/png": "[encoded data removed]",
      "text/plain": [
       "<Figure size 872.774x367.889 with 1 Axes>"
      ]
     },
     "execution_count": 8,
     "metadata": {},
     "output_type": "execute_result"
    }
   ],
   "source": [
    "'''\n",
    "Defines parameters that specify the purification of state to be tested. Create a QuantumCircuit object that\n",
    "creates the purification on (size) number of qubits.\n",
    "'''\n",
    "unitary_param_1 = np.array([5.40530723, 0.30789834, 5.48565623, 5.49679285, 5.58904428, 3.67626375,\n",
    "                            5.38444934, 0.19679063, 6.16917933, 0.2308673,  5.04796852, 6.02401649,\n",
    "                            0.93282454, 4.6738944,  3.02576907, 2.90214658])\n",
    "\n",
    "size = 4\n",
    "layers = 2\n",
    "state = QuantumCircuit(size)\n",
    "for j in range(layers):\n",
    "    for i in range(size):\n",
    "        state.rx(unitary_param_1[j*size*2 + i], i)\n",
    "        state.ry(unitary_param_1[j*2*size + i + size], i)\n",
    "\n",
    "    for i in range(size-1):\n",
    "        state.cx(i, i+1)\n",
    "\n",
    "state.draw('mpl')"
   ]
  },
  {
   "cell_type": "code",
   "execution_count": 9,
   "id": "d561aba9",
   "metadata": {},
   "outputs": [],
   "source": [
    "def prune(oper):\n",
    "    '''\n",
    "    Takes in a matrix and removes the fractional part below 1e-6. Needed to pretty print output.\n",
    "    '''\n",
    "    for i in range(oper.shape[0]):\n",
    "        for j in range(oper.shape[1]):\n",
    "            x = np.real(oper[i, j])\n",
    "            y = np.imag(oper[i, j] )\n",
    "            tx = np.round_(x, 6)\n",
    "            ty = np.round_(y, 6)\n",
    "            oper[i, j] = tx + 1j*ty\n",
    "    return oper"
   ]
  },
  {
   "cell_type": "code",
   "execution_count": 10,
   "id": "a6ff5530",
   "metadata": {},
   "outputs": [],
   "source": [
    "def Rx(theta):\n",
    "    '''\n",
    "    Define matrix representation of Rx gate\n",
    "    '''\n",
    "    return np.matrix([[np.cos(theta/2), -1j*np.sin(theta/2)], [-1j*np.sin(theta/2), np.cos(theta/2)]], dtype=complex)"
   ]
  },
  {
   "cell_type": "code",
   "execution_count": 11,
   "id": "9b7390d7",
   "metadata": {},
   "outputs": [],
   "source": [
    "def Ry(theta):\n",
    "    '''\n",
    "    Define matrix representation of Ry gate\n",
    "    '''\n",
    "    return np.matrix([[np.cos(theta/2), -np.sin(theta/2)], [np.sin(theta/2), np.cos(theta/2)]], dtype=complex)"
   ]
  },
  {
   "cell_type": "code",
   "execution_count": 12,
   "id": "89c30b07",
   "metadata": {},
   "outputs": [],
   "source": [
    "def Rz(theta):\n",
    "    '''\n",
    "    Define matrix representation of Rz gate\n",
    "    '''\n",
    "    return np.matrix([[np.exp(-1j*theta/2), 0], [0, np.exp(1j*theta/2)]], dtype=complex)"
   ]
  },
  {
   "cell_type": "code",
   "execution_count": 13,
   "id": "fced4bf6",
   "metadata": {},
   "outputs": [],
   "source": [
    "def Bx():\n",
    "    '''\n",
    "    Define bilateral rotation Bx\n",
    "    '''\n",
    "    return prune(np.kron(Rx(-np.pi/2), Rx(-np.pi/2)))"
   ]
  },
  {
   "cell_type": "code",
   "execution_count": 14,
   "id": "ae98f02c",
   "metadata": {},
   "outputs": [],
   "source": [
    "def By():\n",
    "    '''\n",
    "    Define bilateral rotation By\n",
    "    '''\n",
    "    return prune(np.kron(Ry(-np.pi/2), Ry(-np.pi/2)))"
   ]
  },
  {
   "cell_type": "code",
   "execution_count": 15,
   "id": "3c310060",
   "metadata": {},
   "outputs": [],
   "source": [
    "def Bz():\n",
    "    '''\n",
    "    Define bilateral rotation Bz\n",
    "    '''\n",
    "    return prune(np.kron(Rz(-np.pi/2), Rz(-np.pi/2)))"
   ]
  },
  {
   "cell_type": "code",
   "execution_count": 16,
   "id": "6b60f05d",
   "metadata": {},
   "outputs": [],
   "source": [
    "def createOplist():\n",
    "    '''\n",
    "    Creates list of group element unitary representations\n",
    "    '''\n",
    "    opList = []\n",
    "    opList.append(np.kron(np.eye(2), np.eye(2)))\n",
    "    \n",
    "    opList.append(prune(np.matmul(Bx(), Bx())))\n",
    "    opList.append(prune(np.matmul(By(), By())))\n",
    "    opList.append(prune(np.matmul(Bz(), Bz())))\n",
    "    \n",
    "    opList.append(prune(np.matmul(Bx(), By())))\n",
    "    opList.append(prune(np.matmul(By(), Bz())))\n",
    "    opList.append(prune(np.matmul(Bz(), Bx())))\n",
    "    opList.append(prune(np.matmul(By(), Bx())))\n",
    "    \n",
    "    temp = prune(np.matmul(Bx(), By()))\n",
    "    opList.append(prune(np.matmul(temp, temp)))\n",
    "    \n",
    "    temp = prune(np.matmul(By(), Bz()))\n",
    "    opList.append(prune(np.matmul(temp, temp)))\n",
    "    \n",
    "    temp = prune(np.matmul(Bz(), Bx()))\n",
    "    opList.append(prune(np.matmul(temp, temp)))\n",
    "    \n",
    "    temp = prune(np.matmul(By(), Bx()))\n",
    "    opList.append(prune(np.matmul(temp, temp)))\n",
    "    \n",
    "    return opList"
   ]
  },
  {
   "cell_type": "code",
   "execution_count": 17,
   "id": "0d9ddadb",
   "metadata": {},
   "outputs": [],
   "source": [
    "'''\n",
    "Create list of unitaries.\n",
    "'''\n",
    "opList = createOplist()"
   ]
  },
  {
   "cell_type": "code",
   "execution_count": 18,
   "id": "4fbc5d8c",
   "metadata": {},
   "outputs": [],
   "source": [
    "'''\n",
    "Define matrix representations of required gates.\n",
    "'''\n",
    "phiPlus = np.matrix([[0.5, 0, 0, 0.5], [0, 0, 0, 0], [0, 0, 0, 0], [0.5, 0, 0, 0.5]], dtype=complex)\n",
    "phiMinus = np.matrix([[0.5, 0, 0, -0.5], [0, 0, 0, 0], [0, 0, 0, 0], [-0.5, 0, 0, 0.5]], dtype=complex)\n",
    "psiPlus = np.matrix([[0, 0, 0, 0], [0, 0.5, 0.5, 0], [0, 0.5, 0.5, 0], [0, 0, 0, 0]], dtype=complex)\n",
    "psiMinus = np.matrix([[0, 0, 0, 0], [0, 0.5, -0.5, 0], [0, -0.5, 0.5, 0], [0, 0, 0, 0]], dtype=complex)"
   ]
  },
  {
   "cell_type": "code",
   "execution_count": 19,
   "id": "76187f09",
   "metadata": {},
   "outputs": [],
   "source": [
    "def createWerner(F):\n",
    "    '''\n",
    "    Creates the matrix representation of the Werner state with parameter F.\n",
    "    '''\n",
    "    werner = np.zeros((4, 4), dtype=complex)\n",
    "    werner += F*psiMinus\n",
    "    werner += ((1-F)/3)*psiPlus\n",
    "    werner += ((1-F)/3)*phiPlus\n",
    "    werner += ((1-F)/3)*phiMinus\n",
    "\n",
    "    return werner"
   ]
  },
  {
   "cell_type": "code",
   "execution_count": 20,
   "id": "d77f35e9",
   "metadata": {},
   "outputs": [],
   "source": [
    "'''\n",
    "Extract the matrix representation of the state \\rho_S\n",
    "'''\n",
    "psi = np.array(DensityMatrix.from_instruction(state.reverse_bits()))\n",
    "rho = pt(psi, [3, 4], [2, 2, 2, 2])"
   ]
  },
  {
   "cell_type": "code",
   "execution_count": 21,
   "id": "e2bd4d30",
   "metadata": {},
   "outputs": [
    {
     "name": "stdout",
     "output_type": "stream",
     "text": [
      "Root Fidelity is : 0.9222341072756876\n"
     ]
    }
   ],
   "source": [
    "'''\n",
    "SDP to calculate the Fidelity. Refer to Section 5.\n",
    "'''\n",
    "shape = rho.shape\n",
    "\n",
    "X = cp.Variable(shape, complex=True)\n",
    "sig = cp.Variable(shape, complex=True)\n",
    "G = cp.bmat([[rho, X.H],[X, sig]])\n",
    "\n",
    "c = [sig>>0, G>>0, cp.real(cp.trace(sig))==1]\n",
    "\n",
    "'''\n",
    "Add the constraints to ensure that sig is G-symmetric\n",
    "'''\n",
    "for op in opList:\n",
    "    c.append(op@sig == sig@op)\n",
    "\n",
    "obj = cp.Maximize(0.5*(cp.real(cp.trace(X)) + cp.real(cp.trace(X.H))))\n",
    "problem = cp.Problem(obj, constraints = c)\n",
    "rootFid = problem.solve()\n",
    "print(\"Root Fidelity is : \" + str(rootFid))"
   ]
  },
  {
   "cell_type": "code",
   "execution_count": 22,
   "id": "88930506",
   "metadata": {},
   "outputs": [
    {
     "name": "stdout",
     "output_type": "stream",
     "text": [
      "Fidelity is : 0.8505157486225844\n"
     ]
    }
   ],
   "source": [
    "print(\"Fidelity is : \" + str(rootFid**2))"
   ]
  },
  {
   "cell_type": "code",
   "execution_count": null,
   "id": "4342e7a4",
   "metadata": {},
   "outputs": [],
   "source": []
  }
 ],
 "metadata": {
  "kernelspec": {
   "display_name": "Python 3",
   "language": "python",
   "name": "python3"
  },
  "language_info": {
   "codemirror_mode": {
    "name": "ipython",
    "version": 3
   },
   "file_extension": ".py",
   "mimetype": "text/x-python",
   "name": "python",
   "nbconvert_exporter": "python",
   "pygments_lexer": "ipython3",
   "version": "3.9.6"
  }
 },
 "nbformat": 4,
 "nbformat_minor": 5
}
