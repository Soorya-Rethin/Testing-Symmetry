{
 "cells": [
  {
   "cell_type": "code",
   "execution_count": 1,
   "id": "0d4be473",
   "metadata": {},
   "outputs": [],
   "source": [
    "import math\n",
    "import random\n",
    "import numpy as np\n",
    "from itertools import product\n",
    "\n",
    "from qiskit import *\n",
    "\n",
    "# Importing standard Qiskit libraries\n",
    "from qiskit.tools.jupyter import *\n",
    "from qiskit.visualization import *\n",
    "from qiskit.providers.aer import QasmSimulator\n",
    "\n",
    "import matplotlib.pyplot as plt\n",
    "plt.rcParams['font.size'] = 14\n",
    "\n",
    "from qiskit.utils import QuantumInstance\n",
    "\n",
    "from qiskit.opflow import I, X, Y, Z\n",
    "from qiskit.opflow import StateFn\n",
    "from qiskit.opflow import Gradient\n",
    "from qiskit.opflow import CircuitSampler\n",
    "from qiskit.opflow.primitive_ops import MatrixOp\n",
    "\n",
    "from qiskit.circuit import Parameter\n",
    "from qiskit.circuit import QuantumCircuit\n",
    "from qiskit.circuit import ParameterVector\n",
    "from qiskit.circuit.library import RealAmplitudes\n",
    "\n",
    "from qiskit.algorithms.optimizers import SPSA\n",
    "from qiskit.algorithms.optimizers import GradientDescent\n",
    "from qiskit.algorithms.optimizers import ADAM\n",
    "\n",
    "from qiskit.providers.aer.noise import NoiseModel\n",
    "\n",
    "from qiskit.quantum_info import Statevector\n",
    "from qiskit.ignis.mitigation.measurement import CompleteMeasFitter"
   ]
  },
  {
   "cell_type": "code",
   "execution_count": 18,
   "id": "b3d5ae7e",
   "metadata": {},
   "outputs": [],
   "source": [
    "provider = IBMQ.load_account()"
   ]
  },
  {
   "cell_type": "code",
   "execution_count": 2,
   "id": "4fba52f9",
   "metadata": {},
   "outputs": [],
   "source": [
    "def rand_numb(low_in,high_in):\n",
    "    return np.random.uniform(low=low_in, high=np.nextafter(high_in, np.inf))\n",
    "\n",
    "#just to keep the upper limit included in the random number generation. "
   ]
  },
  {
   "cell_type": "code",
   "execution_count": 3,
   "id": "4007b496",
   "metadata": {},
   "outputs": [],
   "source": [
    "numLayer = 5\n",
    "numQubit = 2\n",
    "global iterations\n",
    "global noisy"
   ]
  },
  {
   "cell_type": "code",
   "execution_count": 4,
   "id": "5a263997",
   "metadata": {},
   "outputs": [
    {
     "data": {
      "text/html": [
       "<pre style=\"word-wrap: normal;white-space: pre;background: #fff0;line-height: 1.1;font-family: &quot;Courier New&quot;,Courier,monospace\">     ┌───────┐\n",
       "q_0: ┤ Rx(π) ├\n",
       "     └───────┘</pre>"
      ],
      "text/plain": [
       "     ┌───────┐\n",
       "q_0: ┤ Rx(π) ├\n",
       "     └───────┘"
      ]
     },
     "execution_count": 4,
     "metadata": {},
     "output_type": "execute_result"
    }
   ],
   "source": [
    "mix = QuantumCircuit(1)\n",
    "mix.rx(np.pi, 0)\n",
    "\n",
    "ix = QuantumCircuit(1)\n",
    "ix.rx(3*np.pi, 0)\n",
    "mix.draw()"
   ]
  },
  {
   "cell_type": "code",
   "execution_count": 5,
   "id": "7f8d1b2f",
   "metadata": {},
   "outputs": [
    {
     "data": {
      "text/html": [
       "<pre style=\"word-wrap: normal;white-space: pre;background: #fff0;line-height: 1.1;font-family: &quot;Courier New&quot;,Courier,monospace\">     ┌───────┐\n",
       "q_0: ┤ Ry(π) ├\n",
       "     └───────┘</pre>"
      ],
      "text/plain": [
       "     ┌───────┐\n",
       "q_0: ┤ Ry(π) ├\n",
       "     └───────┘"
      ]
     },
     "execution_count": 5,
     "metadata": {},
     "output_type": "execute_result"
    }
   ],
   "source": [
    "miy = QuantumCircuit(1)\n",
    "miy.ry(np.pi, 0)\n",
    "miy.draw()"
   ]
  },
  {
   "cell_type": "code",
   "execution_count": 6,
   "id": "50d2c814",
   "metadata": {
    "scrolled": true
   },
   "outputs": [
    {
     "data": {
      "text/html": [
       "<pre style=\"word-wrap: normal;white-space: pre;background: #fff0;line-height: 1.1;font-family: &quot;Courier New&quot;,Courier,monospace\">     ┌───────┐\n",
       "q_0: ┤ Rz(π) ├\n",
       "     └───────┘</pre>"
      ],
      "text/plain": [
       "     ┌───────┐\n",
       "q_0: ┤ Rz(π) ├\n",
       "     └───────┘"
      ]
     },
     "execution_count": 6,
     "metadata": {},
     "output_type": "execute_result"
    }
   ],
   "source": [
    "miz = QuantumCircuit(1)\n",
    "miz.rz(np.pi, 0)\n",
    "\n",
    "iz = QuantumCircuit(1)\n",
    "iz.rz(3*np.pi, 0)\n",
    "miz.draw()"
   ]
  },
  {
   "cell_type": "code",
   "execution_count": 7,
   "id": "5824acc0",
   "metadata": {},
   "outputs": [
    {
     "data": {
      "text/html": [
       "<pre style=\"word-wrap: normal;white-space: pre;background: #fff0;line-height: 1.1;font-family: &quot;Courier New&quot;,Courier,monospace\">     ┌────────┐\n",
       "q_0: ┤ Rz(2π) ├\n",
       "     └────────┘</pre>"
      ],
      "text/plain": [
       "     ┌────────┐\n",
       "q_0: ┤ Rz(2π) ├\n",
       "     └────────┘"
      ]
     },
     "execution_count": 7,
     "metadata": {},
     "output_type": "execute_result"
    }
   ],
   "source": [
    "mi = QuantumCircuit(1)\n",
    "mi.rz(2*np.pi, 0)\n",
    "mi.draw()"
   ]
  },
  {
   "cell_type": "code",
   "execution_count": 8,
   "id": "0f6ea040",
   "metadata": {},
   "outputs": [],
   "source": [
    "#Create unitaries here\n",
    "#unitary_param_1 = np.array([])\n",
    "#for i in range(0, 16):\n",
    "#    unitary_param_1 = np.append(unitary_param_1, np.array([rand_numb(0,2*np.pi)]))\n",
    "\n",
    "unitary_param_1 = [0.83414377, 2.27238264, 5.8389326, 2.40918277, 4.47052641, 6.22458201, 1.97847354,\n",
    "                   1.89334833, 1.88614517, 4.82507852, 2.66745336, 1.38371607, 2.76324645, 3.93540582,\n",
    "                   0.71193782, 2.74935022]"
   ]
  },
  {
   "cell_type": "code",
   "execution_count": 9,
   "id": "5ee47836",
   "metadata": {},
   "outputs": [],
   "source": [
    "def createProver(numQubit, numLayer):\n",
    "    numparam = numQubit*numLayer*2\n",
    "    prover = QuantumCircuit(numQubit)\n",
    "    param_vector = ParameterVector(\"params\", numparam)\n",
    "    \n",
    "    for j in range(numLayer):\n",
    "        for i in range(numQubit):\n",
    "            prover.rx(param_vector[j*2*numQubit + i], i)\n",
    "            prover.ry(param_vector[j*2*numQubit + i + numQubit], i)\n",
    "\n",
    "        for i in range(numQubit-1):\n",
    "            prover.cx(i, i+1)\n",
    "            \n",
    "    return prover"
   ]
  },
  {
   "cell_type": "code",
   "execution_count": 10,
   "id": "656e882b",
   "metadata": {},
   "outputs": [
    {
     "data": {
      "image/png": "[encoded data removed]",
      "text/plain": [
       "<Figure size 872.774x367.889 with 1 Axes>"
      ]
     },
     "execution_count": 10,
     "metadata": {},
     "output_type": "execute_result"
    }
   ],
   "source": [
    "size = 4\n",
    "layers = 2\n",
    "state = QuantumCircuit(size)\n",
    "for j in range(layers):\n",
    "    for i in range(size):\n",
    "        state.rx(unitary_param_1[j*size*2 + i], i)\n",
    "        state.ry(unitary_param_1[j*2*size + i + size], i)\n",
    "\n",
    "    for i in range(size-1):\n",
    "        state.cx(i, i+1)\n",
    "\n",
    "state.draw('mpl')"
   ]
  },
  {
   "cell_type": "code",
   "execution_count": 75,
   "id": "482bea4c",
   "metadata": {},
   "outputs": [
    {
     "data": {
      "image/png": "[encoded data removed]",
      "text/plain": [
       "<Figure size 287.496x367.889 with 1 Axes>"
      ]
     },
     "execution_count": 75,
     "metadata": {},
     "output_type": "execute_result"
    }
   ],
   "source": [
    "qcTest = QuantumCircuit(4)\n",
    "qcTest.ry(np.pi/3, 0)\n",
    "qcTest.cx(0, 1)\n",
    "qcTest.draw('mpl')"
   ]
  },
  {
   "cell_type": "code",
   "execution_count": 76,
   "id": "9fc29e19",
   "metadata": {},
   "outputs": [],
   "source": [
    "def createEqSuperposQuaternion():\n",
    "    temp = QuantumCircuit(3)\n",
    "    temp.h(0)\n",
    "    temp.h(1)\n",
    "    temp.h(2)\n",
    "    return temp"
   ]
  },
  {
   "cell_type": "code",
   "execution_count": 77,
   "id": "aa3022ff",
   "metadata": {},
   "outputs": [],
   "source": [
    "def createQuantumCircuit(state, numQubit, numLayer):\n",
    "    circ = QuantumCircuit(7)\n",
    "    #Create Quantum Circuit here\n",
    "    \n",
    "    superPosCircuit = createEqSuperposQuaternion()\n",
    "    circ.append(superPosCircuit, [0, 1, 2])\n",
    "    circ.append(state, [3, 4, 5, 6])\n",
    "\n",
    "    prover = createProver(numQubit, numLayer)\n",
    "    circ.append(prover, [5, 6])\n",
    "    \n",
    "    custom = miz.to_gate().control(2)\n",
    "    circ.append(custom, [0, 3, 4])\n",
    "    custom = iz.to_gate().control(2)\n",
    "    circ.append(custom, [0, 5, 6])\n",
    "    \n",
    "    custom = miy.to_gate().control(2)\n",
    "    circ.append(custom, [1, 3, 4])\n",
    "    circ.append(custom, [1, 5, 6])\n",
    "\n",
    "    custom = mix.to_gate().control(2)\n",
    "    circ.append(custom, [2, 3, 4])\n",
    "    custom = ix.to_gate().control(2)\n",
    "    circ.append(custom, [2, 5, 6])\n",
    "\n",
    "    circ.x(0)\n",
    "    custom = mi.to_gate().control(3)\n",
    "    circ.append(custom, [0, 2, 3, 4])\n",
    "    circ.append(custom, [0, 2, 5, 6])\n",
    "    circ.x(0)\n",
    "    \n",
    "    circ.append(superPosCircuit.inverse(), [0, 1, 2])\n",
    "\n",
    "    return circ"
   ]
  },
  {
   "cell_type": "code",
   "execution_count": 78,
   "id": "562911ad",
   "metadata": {},
   "outputs": [
    {
     "data": {
      "image/png": "[encoded data removed]",
      "text/plain": [
       "<Figure size 2210.55x1287.61 with 1 Axes>"
      ]
     },
     "execution_count": 78,
     "metadata": {},
     "output_type": "execute_result"
    }
   ],
   "source": [
    "qCirc = createQuantumCircuit(qcTest, numQubit, numLayer)\n",
    "qCirc.draw('mpl')"
   ]
  },
  {
   "cell_type": "code",
   "execution_count": 79,
   "id": "b70897d8",
   "metadata": {},
   "outputs": [],
   "source": [
    "#use if noiseless\n",
    "noiseless_backend = Aer.get_backend('statevector_simulator')\n",
    "noiseless_q_instance = QuantumInstance(noiseless_backend)\n",
    "noiseless_sampler = CircuitSampler(noiseless_q_instance)"
   ]
  },
  {
   "cell_type": "code",
   "execution_count": 80,
   "id": "4ae8e395",
   "metadata": {},
   "outputs": [],
   "source": [
    "'''\n",
    "Pick a backend to use. We use the qasm_simulator for noisy simulation. \n",
    "'''\n",
    "#Replace the provider with your personal credentials for hub, group and main\n",
    "provider = IBMQ.get_provider(hub=\"ibm-q-research\", group=\"louisiana-st-uni-1\", project=\"main\")\n",
    "noisy_backend = Aer.get_backend(\"qasm_simulator\")\n",
    "device = provider.get_backend(\"ibmq_jakarta\")\n",
    "coupling_map = device.configuration().coupling_map\n",
    "noise_model = NoiseModel.from_backend(device.properties())\n",
    "noisy_q_instance = QuantumInstance(backend=noisy_backend, \n",
    "                           shots=8192, \n",
    "                           noise_model=noise_model, \n",
    "                           coupling_map=coupling_map,\n",
    "                           measurement_error_mitigation_cls=CompleteMeasFitter,\n",
    "                           cals_matrix_refresh_period=30)\n",
    "noisy_sampler = CircuitSampler(noisy_q_instance)"
   ]
  },
  {
   "cell_type": "code",
   "execution_count": 81,
   "id": "fe6c2a22",
   "metadata": {},
   "outputs": [],
   "source": [
    "#Create Hamiltonian here\n",
    "hamiltonian = I^I^I^I^MatrixOp(np.array([[1, 0], [0, 0]]))^MatrixOp(np.array([[1, 0], [0, 0]]))^MatrixOp(np.array([[1, 0], [0, 0]]))"
   ]
  },
  {
   "cell_type": "code",
   "execution_count": 82,
   "id": "bfc62040",
   "metadata": {},
   "outputs": [],
   "source": [
    "def costf(params):\n",
    "    expectation = StateFn(hamiltonian, is_measurement=True).compose(StateFn(qCirc))\n",
    "    value_dict = dict(zip(qCirc.parameters, params))\n",
    "    \n",
    "    if noisy:\n",
    "        result = noisy_sampler.convert(expectation, params=value_dict).eval()  \n",
    "    else:\n",
    "        result = noiseless_sampler.convert(expectation, params=value_dict).eval()  \n",
    "    \n",
    "    return -1*np.real(result)"
   ]
  },
  {
   "cell_type": "code",
   "execution_count": 83,
   "id": "ab889720",
   "metadata": {},
   "outputs": [],
   "source": [
    "def gradient(params):\n",
    "    expectation = StateFn(hamiltonian, is_measurement=True).compose(StateFn(qCirc))\n",
    "    value_dict = dict(zip(qCirc.parameters, params))\n",
    "    gradient = Gradient().convert(expectation)\n",
    "    \n",
    "    if noisy:\n",
    "        result = noisy_sampler.convert(gradient, params=value_dict).eval()  \n",
    "    else:\n",
    "        result = noiseless_sampler.convert(gradient, params=value_dict).eval()  \n",
    "    \n",
    "    return -1*np.real(result)"
   ]
  },
  {
   "cell_type": "code",
   "execution_count": 84,
   "id": "3314ae8e",
   "metadata": {},
   "outputs": [
    {
     "name": "stdout",
     "output_type": "stream",
     "text": [
      "ParameterView([ParameterVectorElement(params[0]), ParameterVectorElement(params[1]), ParameterVectorElement(params[2]), ParameterVectorElement(params[3]), ParameterVectorElement(params[4]), ParameterVectorElement(params[5]), ParameterVectorElement(params[6]), ParameterVectorElement(params[7]), ParameterVectorElement(params[8]), ParameterVectorElement(params[9]), ParameterVectorElement(params[10]), ParameterVectorElement(params[11]), ParameterVectorElement(params[12]), ParameterVectorElement(params[13]), ParameterVectorElement(params[14]), ParameterVectorElement(params[15]), ParameterVectorElement(params[16]), ParameterVectorElement(params[17]), ParameterVectorElement(params[18]), ParameterVectorElement(params[19])])\n"
     ]
    }
   ],
   "source": [
    "print(qCirc.parameters)"
   ]
  },
  {
   "cell_type": "code",
   "execution_count": 85,
   "id": "fe41f513",
   "metadata": {},
   "outputs": [],
   "source": [
    "def autospsa_callback(nfev, x, fx, stepsize, accepted = False):\n",
    "    if (noisy == True):\n",
    "        noisy_loss.append(-1*fx)\n",
    "    else:\n",
    "        noiseless_loss.append(-1*fx)\n",
    "    print(\"Loss Value : \", -1*fx, str(nfev/3)+\"%\")"
   ]
  },
  {
   "cell_type": "code",
   "execution_count": 86,
   "id": "341cf860",
   "metadata": {},
   "outputs": [
    {
     "name": "stdout",
     "output_type": "stream",
     "text": [
      "[3.61420346 4.91325394 5.19525787 1.5029141  4.11670127 0.55429483\n",
      " 4.59558826 3.41259274 3.93703839 3.01411299 0.78717256 0.57693687\n",
      " 6.18152297 4.33454852 4.56238277 3.27019759 4.1137115  2.78285221\n",
      " 4.66945782 4.76964552]\n",
      "Initial Cost :  0.5266495016224061\n"
     ]
    }
   ],
   "source": [
    "numParam = 2*numQubit*numLayer\n",
    "noisy = False\n",
    "paramProver = []\n",
    "for i in range(0, numParam):\n",
    "    paramProver = np.append(paramProver, np.array([rand_numb(0,2*np.pi)]))\n",
    "print(paramProver)\n",
    "\n",
    "print(\"Initial Cost : \", -1*costf(paramProver))"
   ]
  },
  {
   "cell_type": "code",
   "execution_count": 87,
   "id": "f1e67f61",
   "metadata": {},
   "outputs": [],
   "source": [
    "true_value = 0.75"
   ]
  },
  {
   "cell_type": "code",
   "execution_count": 88,
   "id": "f32685e7",
   "metadata": {},
   "outputs": [
    {
     "name": "stdout",
     "output_type": "stream",
     "text": [
      "Initial Cost :  0.5266495016224061\n",
      "Loss Value :  0.5075534196915391 1.0%\n",
      "Loss Value :  0.5122494458654687 2.0%\n",
      "Loss Value :  0.525512654654703 3.0%\n",
      "Loss Value :  0.6022450574092587 4.0%\n",
      "Loss Value :  0.609042986081934 5.0%\n",
      "Loss Value :  0.639353506684086 6.0%\n",
      "Loss Value :  0.6462081505656855 7.0%\n",
      "Loss Value :  0.6527734456036647 8.0%\n",
      "Loss Value :  0.6758585790985375 9.0%\n",
      "Loss Value :  0.683470188854251 10.0%\n",
      "Loss Value :  0.7010903667796584 11.0%\n",
      "Loss Value :  0.7126774973645309 12.0%\n",
      "Loss Value :  0.7133144366074221 13.0%\n",
      "Loss Value :  0.7135170818553568 14.0%\n",
      "Loss Value :  0.7212457768447165 15.0%\n",
      "Loss Value :  0.7224262958267916 16.0%\n",
      "Loss Value :  0.7236868326627711 17.0%\n",
      "Loss Value :  0.7240255557942098 18.0%\n",
      "Loss Value :  0.7302918529967842 19.0%\n",
      "Loss Value :  0.7307584363620994 20.0%\n",
      "Loss Value :  0.7320383240325813 21.0%\n",
      "Loss Value :  0.7323861628056111 22.0%\n",
      "Loss Value :  0.7366406085422313 23.0%\n",
      "Loss Value :  0.7372094765622663 24.0%\n",
      "Loss Value :  0.7372615636514408 25.0%\n",
      "Loss Value :  0.7376766413523028 26.0%\n",
      "Loss Value :  0.7381756434360374 27.0%\n",
      "Loss Value :  0.7441767875526901 28.0%\n",
      "Loss Value :  0.7461540264273806 29.0%\n",
      "Loss Value :  0.7476952284262639 30.0%\n",
      "Loss Value :  0.7476983484491433 31.0%\n",
      "Loss Value :  0.747560852030239 32.0%\n",
      "Loss Value :  0.74751578318148 33.0%\n",
      "Loss Value :  0.7475448884998528 34.0%\n",
      "Loss Value :  0.7492973827396566 35.0%\n",
      "Loss Value :  0.7491514491799939 36.0%\n",
      "Loss Value :  0.7493697479832906 37.0%\n",
      "Loss Value :  0.7493082077145929 38.0%\n",
      "Loss Value :  0.749151228241921 39.0%\n",
      "Loss Value :  0.7493354260134192 40.0%\n",
      "Loss Value :  0.7496878820714583 41.0%\n",
      "Loss Value :  0.7497737506849473 42.0%\n",
      "Loss Value :  0.7498264948098539 43.0%\n",
      "Loss Value :  0.7494532799233459 44.0%\n",
      "Loss Value :  0.7494532687735429 45.0%\n",
      "Loss Value :  0.7494770102761152 46.0%\n",
      "Loss Value :  0.7491448345703102 47.0%\n",
      "Loss Value :  0.7491806346788589 48.0%\n",
      "Loss Value :  0.749197532201938 49.0%\n",
      "Loss Value :  0.7491666710938066 50.0%\n",
      "Loss Value :  0.749198937048607 51.0%\n",
      "Loss Value :  0.7494128132680745 52.0%\n",
      "Loss Value :  0.7494076504363767 53.0%\n",
      "Loss Value :  0.7493799037598161 54.0%\n",
      "Loss Value :  0.7498639403248268 55.0%\n",
      "Loss Value :  0.7497142507416844 56.0%\n",
      "Loss Value :  0.7496584948591509 57.0%\n",
      "Loss Value :  0.7496694308706014 58.0%\n",
      "Loss Value :  0.7496695831159166 59.0%\n",
      "Loss Value :  0.7497055020761716 60.0%\n",
      "Loss Value :  0.7495044080685764 61.0%\n",
      "Loss Value :  0.7495474232393795 62.0%\n",
      "Loss Value :  0.7494899314322189 63.0%\n",
      "Loss Value :  0.7495459191179517 64.0%\n",
      "Loss Value :  0.7495584069551824 65.0%\n",
      "Loss Value :  0.7494476715869783 66.0%\n",
      "Loss Value :  0.7495960666176854 67.0%\n",
      "Loss Value :  0.7496028533168015 68.0%\n",
      "Loss Value :  0.749567400332037 69.0%\n",
      "Loss Value :  0.7496232002147591 70.0%\n",
      "Loss Value :  0.7497051144273108 71.0%\n",
      "Loss Value :  0.7497945630557009 72.0%\n",
      "Loss Value :  0.7497926260511096 73.0%\n",
      "Loss Value :  0.7498288577328686 74.0%\n",
      "Loss Value :  0.7498321499288275 75.0%\n",
      "Loss Value :  0.7498832943809207 76.0%\n",
      "Loss Value :  0.7498765994040812 77.0%\n",
      "Loss Value :  0.7498800733306208 78.0%\n",
      "Loss Value :  0.7497828837211986 79.0%\n",
      "Loss Value :  0.7498172869815534 80.0%\n",
      "Loss Value :  0.7497995191613323 81.0%\n",
      "Loss Value :  0.7498004999937504 82.0%\n",
      "Loss Value :  0.7498114866482923 83.0%\n",
      "Loss Value :  0.7498292567865072 84.0%\n",
      "Loss Value :  0.7498433271104551 85.0%\n",
      "Loss Value :  0.7497055561548098 86.0%\n",
      "Loss Value :  0.7496170326075215 87.0%\n",
      "Loss Value :  0.7497255319520464 88.0%\n",
      "Loss Value :  0.7497317542225673 89.0%\n",
      "Loss Value :  0.7497346618288592 90.0%\n",
      "Loss Value :  0.749748512955569 91.0%\n",
      "Loss Value :  0.7498458183473891 92.0%\n",
      "Loss Value :  0.7498569906755044 93.0%\n",
      "Loss Value :  0.7498621775440516 94.0%\n",
      "Loss Value :  0.7498624885471793 95.0%\n",
      "Loss Value :  0.7498796744087273 96.0%\n",
      "Loss Value :  0.7499070425158456 97.0%\n",
      "Loss Value :  0.7499141604617214 98.0%\n",
      "Loss Value :  0.7498912462572944 99.0%\n",
      "Loss Value :  0.7498903127809327 100.0%\n",
      "Loss Value :  0.7498987632851513 101.0%\n",
      "Loss Value :  0.7499204644769779 102.0%\n",
      "Loss Value :  0.7499011409074152 103.0%\n",
      "Loss Value :  0.7499655034336674 104.0%\n",
      "Loss Value :  0.7499654339497493 105.0%\n",
      "Loss Value :  0.7499918995636252 106.0%\n",
      "Loss Value :  0.7497107840775812 107.0%\n",
      "Loss Value :  0.749914888747049 108.0%\n",
      "Loss Value :  0.7499219621226272 109.0%\n",
      "Loss Value :  0.7499572051018775 110.0%\n",
      "Loss Value :  0.7499807911886318 111.0%\n",
      "Loss Value :  0.7499682207741192 112.0%\n",
      "Loss Value :  0.7499677375974544 113.0%\n",
      "Loss Value :  0.7497842291093294 114.0%\n",
      "Loss Value :  0.7497495518849666 115.0%\n",
      "Loss Value :  0.7498838054898853 116.0%\n",
      "Loss Value :  0.7498477099829822 117.0%\n",
      "Loss Value :  0.7498525987650854 118.0%\n",
      "Loss Value :  0.7498498586611979 119.0%\n",
      "Loss Value :  0.7498767188344551 120.0%\n",
      "Loss Value :  0.7498682082236974 121.0%\n",
      "Loss Value :  0.7498876195169417 122.0%\n",
      "Loss Value :  0.7498934926658195 123.0%\n",
      "Loss Value :  0.7499222000865552 124.0%\n",
      "Loss Value :  0.7498628770826309 125.0%\n",
      "Loss Value :  0.749862588916222 126.0%\n",
      "Loss Value :  0.7498866256045467 127.0%\n",
      "Loss Value :  0.7498828484336494 128.0%\n",
      "Loss Value :  0.7498513607677054 129.0%\n",
      "Loss Value :  0.7498592638139788 130.0%\n",
      "Loss Value :  0.7498949469175944 131.0%\n",
      "Loss Value :  0.7499526182684486 132.0%\n",
      "Loss Value :  0.7499496048723273 133.0%\n",
      "Loss Value :  0.7499472300590921 134.0%\n",
      "Loss Value :  0.7498703203117651 135.0%\n",
      "Loss Value :  0.7498085752627142 136.0%\n",
      "Loss Value :  0.7498261853246984 137.0%\n",
      "Loss Value :  0.7498264223111575 138.0%\n",
      "Loss Value :  0.7498268016929459 139.0%\n",
      "Loss Value :  0.7499047591350999 140.0%\n",
      "Loss Value :  0.7499039010305826 141.0%\n",
      "Loss Value :  0.7498971750334869 142.0%\n",
      "Loss Value :  0.7498995275720113 143.0%\n",
      "Loss Value :  0.7499229059690639 144.0%\n",
      "Loss Value :  0.7498374147024305 145.0%\n",
      "Loss Value :  0.7498353906980075 146.0%\n",
      "Loss Value :  0.7498788214745395 147.0%\n",
      "Loss Value :  0.7499001874900251 148.0%\n",
      "Loss Value :  0.7498954631041668 149.0%\n",
      "Loss Value :  0.7499086720533864 150.0%\n",
      "Loss Value :  0.7498686899739592 151.0%\n",
      "Loss Value :  0.749867851589517 152.0%\n",
      "Loss Value :  0.7497996684102919 153.0%\n",
      "Loss Value :  0.7497979117911429 154.0%\n",
      "Loss Value :  0.7497829835625028 155.0%\n",
      "Loss Value :  0.749800523406947 156.0%\n",
      "Loss Value :  0.7498124760608831 157.0%\n",
      "Loss Value :  0.7498166170888223 158.0%\n",
      "Loss Value :  0.7497989512198403 159.0%\n",
      "Loss Value :  0.7497955427588932 160.0%\n",
      "Loss Value :  0.7498653940057718 161.0%\n",
      "Loss Value :  0.7498642144618033 162.0%\n",
      "Loss Value :  0.7498831015720591 163.0%\n",
      "Loss Value :  0.749883583771157 164.0%\n",
      "Loss Value :  0.74991687542872 165.0%\n",
      "Loss Value :  0.7499096483321563 166.0%\n",
      "Loss Value :  0.7499215605591572 167.0%\n",
      "Loss Value :  0.7499287458392346 168.0%\n",
      "Loss Value :  0.7499350057619121 169.0%\n",
      "Loss Value :  0.7499124969967902 170.0%\n",
      "Loss Value :  0.7499100207338352 171.0%\n",
      "Loss Value :  0.7499065681813781 172.0%\n",
      "Loss Value :  0.7499163222473757 173.0%\n",
      "Loss Value :  0.7499246731152189 174.0%\n",
      "Loss Value :  0.7499570184312893 175.0%\n",
      "Loss Value :  0.7499571064839015 176.0%\n",
      "Loss Value :  0.7499425077936934 177.0%\n",
      "Loss Value :  0.7499416643721735 178.0%\n",
      "Loss Value :  0.7499594142553381 179.0%\n",
      "Loss Value :  0.7499560562741487 180.0%\n",
      "Loss Value :  0.749955988645779 181.0%\n",
      "Loss Value :  0.7499563028669918 182.0%\n",
      "Loss Value :  0.7499544683810119 183.0%\n",
      "Loss Value :  0.7499639433652796 184.0%\n",
      "Loss Value :  0.749968935543055 185.0%\n",
      "Loss Value :  0.7499729421224915 186.0%\n",
      "Loss Value :  0.7499710229553896 187.0%\n",
      "Loss Value :  0.7499685897193734 188.0%\n",
      "Loss Value :  0.7499713801428396 189.0%\n",
      "Loss Value :  0.7499576122433234 190.0%\n",
      "Loss Value :  0.7499548303283328 191.0%\n",
      "Loss Value :  0.7499531066222028 192.0%\n",
      "Loss Value :  0.7499224804166772 193.0%\n",
      "Loss Value :  0.749923653161922 194.0%\n",
      "Loss Value :  0.7499874907450031 195.0%\n",
      "Loss Value :  0.7499844694167835 196.0%\n",
      "Loss Value :  0.7499801648890912 197.0%\n",
      "Loss Value :  0.7499811083224623 198.0%\n",
      "Loss Value :  0.7499807064888768 199.0%\n",
      "Loss Value :  0.749976646846372 200.0%\n"
     ]
    }
   ],
   "source": [
    "noisy = False\n",
    "noiseless_loss = []\n",
    "noiselessParam = np.copy(paramProver)\n",
    "print(\"Initial Cost : \", -1*costf(noiselessParam))\n",
    "autospsa = SPSA(maxiter=200, learning_rate=None, perturbation=None, callback=autospsa_callback)\n",
    "x_opt, fx_opt, nfevs = autospsa.optimize(numParam, costf, initial_point=noiselessParam)"
   ]
  },
  {
   "cell_type": "code",
   "execution_count": 89,
   "id": "2a5b8f2b",
   "metadata": {},
   "outputs": [
    {
     "name": "stdout",
     "output_type": "stream",
     "text": [
      "Initial Cost :  0.330658015850489\n",
      "Loss Value :  0.3679364108401783 1.0%\n",
      "Loss Value :  0.37618510953505924 2.0%\n",
      "Loss Value :  0.39175136621547785 3.0%\n",
      "Loss Value :  0.348215770435159 4.0%\n",
      "Loss Value :  0.3431312291764828 5.0%\n",
      "Loss Value :  0.34697104776912197 6.0%\n",
      "Loss Value :  0.38808619258447996 7.0%\n",
      "Loss Value :  0.3809831801915333 8.0%\n",
      "Loss Value :  0.4140434304981915 9.0%\n",
      "Loss Value :  0.44128975918536123 10.0%\n",
      "Loss Value :  0.42875923588289516 11.0%\n",
      "Loss Value :  0.4267790432702033 12.0%\n",
      "Loss Value :  0.42201568747605417 13.0%\n",
      "Loss Value :  0.40937270846547047 14.0%\n",
      "Loss Value :  0.44303125676344224 15.0%\n",
      "Loss Value :  0.4136715670315879 16.0%\n",
      "Loss Value :  0.4153237821449194 17.0%\n",
      "Loss Value :  0.4514184384050823 18.0%\n",
      "Loss Value :  0.4376681219116886 19.0%\n",
      "Loss Value :  0.42197872325532143 20.0%\n",
      "Loss Value :  0.43022503369043763 21.0%\n",
      "Loss Value :  0.425448301228723 22.0%\n",
      "Loss Value :  0.41844305035963836 23.0%\n",
      "Loss Value :  0.42912395713799273 24.0%\n",
      "Loss Value :  0.4219830001115957 25.0%\n",
      "Loss Value :  0.4364491189679597 26.0%\n",
      "Loss Value :  0.4387947043978268 27.0%\n",
      "Loss Value :  0.43997650998118915 28.0%\n",
      "Loss Value :  0.42234689642749046 29.0%\n",
      "Loss Value :  0.41312285857290965 30.0%\n",
      "Loss Value :  0.43423938463372747 31.0%\n",
      "Loss Value :  0.4314324393458178 32.0%\n",
      "Loss Value :  0.43218704115861195 33.0%\n",
      "Loss Value :  0.42259667135575607 34.0%\n",
      "Loss Value :  0.4017789922363735 35.0%\n",
      "Loss Value :  0.4208515730072651 36.0%\n",
      "Loss Value :  0.3914014527255047 37.0%\n",
      "Loss Value :  0.4281441975627043 38.0%\n",
      "Loss Value :  0.4354912221484973 39.0%\n",
      "Loss Value :  0.4476991093018913 40.0%\n",
      "Loss Value :  0.43850699515117847 41.0%\n",
      "Loss Value :  0.4287261477073974 42.0%\n",
      "Loss Value :  0.46078745184780207 43.0%\n",
      "Loss Value :  0.44920269821374054 44.0%\n",
      "Loss Value :  0.4370388905271764 45.0%\n",
      "Loss Value :  0.4027946391961058 46.0%\n",
      "Loss Value :  0.45367565238503027 47.0%\n",
      "Loss Value :  0.4512265001307444 48.0%\n",
      "Loss Value :  0.40760491643984254 49.0%\n",
      "Loss Value :  0.4192759303686968 50.0%\n",
      "Loss Value :  0.4364167304672383 51.0%\n",
      "Loss Value :  0.4343916459930976 52.0%\n",
      "Loss Value :  0.44013803951110714 53.0%\n",
      "Loss Value :  0.4185354474910231 54.0%\n",
      "Loss Value :  0.4197186442000185 55.0%\n",
      "Loss Value :  0.4268307971511536 56.0%\n",
      "Loss Value :  0.43684401438700604 57.0%\n",
      "Loss Value :  0.42784626742950627 58.0%\n",
      "Loss Value :  0.4231524182394351 59.0%\n",
      "Loss Value :  0.42625666924122413 60.0%\n",
      "Loss Value :  0.43972623553878093 61.0%\n",
      "Loss Value :  0.3993901949264846 62.0%\n",
      "Loss Value :  0.4104997772701351 63.0%\n",
      "Loss Value :  0.42902723439439927 64.0%\n",
      "Loss Value :  0.4446737076943441 65.0%\n",
      "Loss Value :  0.4341877312832218 66.0%\n",
      "Loss Value :  0.4206101373453564 67.0%\n",
      "Loss Value :  0.44824563509473103 68.0%\n",
      "Loss Value :  0.44568456150186814 69.0%\n",
      "Loss Value :  0.41187888521705834 70.0%\n",
      "Loss Value :  0.4342061567329462 71.0%\n",
      "Loss Value :  0.44134941670145833 72.0%\n",
      "Loss Value :  0.4413217162654103 73.0%\n",
      "Loss Value :  0.44579755884990424 74.0%\n",
      "Loss Value :  0.4461097783264841 75.0%\n",
      "Loss Value :  0.41726011330090385 76.0%\n",
      "Loss Value :  0.4564083771723609 77.0%\n",
      "Loss Value :  0.4136846306096949 78.0%\n",
      "Loss Value :  0.4093427242686131 79.0%\n",
      "Loss Value :  0.43579518771076253 80.0%\n",
      "Loss Value :  0.4139516695173166 81.0%\n",
      "Loss Value :  0.4500363817634255 82.0%\n",
      "Loss Value :  0.45409725767674386 83.0%\n",
      "Loss Value :  0.42515937181672636 84.0%\n",
      "Loss Value :  0.46055660435265683 85.0%\n",
      "Loss Value :  0.4399173168178489 86.0%\n",
      "Loss Value :  0.4123479423264178 87.0%\n",
      "Loss Value :  0.429390857577758 88.0%\n",
      "Loss Value :  0.4127366287112223 89.0%\n",
      "Loss Value :  0.4271876396926317 90.0%\n",
      "Loss Value :  0.4323908600311652 91.0%\n",
      "Loss Value :  0.4250997431241762 92.0%\n",
      "Loss Value :  0.40269714269388246 93.0%\n",
      "Loss Value :  0.40584395347532864 94.0%\n",
      "Loss Value :  0.42446674394617107 95.0%\n",
      "Loss Value :  0.451478567326344 96.0%\n",
      "Loss Value :  0.43202691101717483 97.0%\n",
      "Loss Value :  0.45653586856115025 98.0%\n",
      "Loss Value :  0.43930225008518115 99.0%\n",
      "Loss Value :  0.4480655448567764 100.0%\n",
      "Loss Value :  0.4394624120996391 101.0%\n",
      "Loss Value :  0.4273583203106432 102.0%\n",
      "Loss Value :  0.4306261202250956 103.0%\n",
      "Loss Value :  0.40890442584233583 104.0%\n",
      "Loss Value :  0.4385608124212791 105.0%\n",
      "Loss Value :  0.42603922528743077 106.0%\n",
      "Loss Value :  0.41363049511326144 107.0%\n",
      "Loss Value :  0.4466508011459233 108.0%\n",
      "Loss Value :  0.43931637015950337 109.0%\n",
      "Loss Value :  0.4175250321825939 110.0%\n",
      "Loss Value :  0.4237479476799188 111.0%\n",
      "Loss Value :  0.4481529517214081 112.0%\n",
      "Loss Value :  0.4390022706652204 113.0%\n",
      "Loss Value :  0.4243457062840062 114.0%\n",
      "Loss Value :  0.42838286474229065 115.0%\n",
      "Loss Value :  0.43860289394602087 116.0%\n",
      "Loss Value :  0.42281237660596566 117.0%\n",
      "Loss Value :  0.4453581642008816 118.0%\n",
      "Loss Value :  0.4273952466792378 119.0%\n",
      "Loss Value :  0.43077435227976013 120.0%\n",
      "Loss Value :  0.42915972968358485 121.0%\n",
      "Loss Value :  0.41464694069657654 122.0%\n",
      "Loss Value :  0.41570073812206004 123.0%\n",
      "Loss Value :  0.41092532572189194 124.0%\n",
      "Loss Value :  0.40901403915752566 125.0%\n",
      "Loss Value :  0.4321907199147725 126.0%\n",
      "Loss Value :  0.4493898836912615 127.0%\n",
      "Loss Value :  0.4240342839345084 128.0%\n",
      "Loss Value :  0.42306233502763996 129.0%\n",
      "Loss Value :  0.4132553709873876 130.0%\n",
      "Loss Value :  0.4091501865738182 131.0%\n",
      "Loss Value :  0.4429964003563093 132.0%\n",
      "Loss Value :  0.4260282340233599 133.0%\n",
      "Loss Value :  0.42570141158722735 134.0%\n",
      "Loss Value :  0.4419581220189885 135.0%\n",
      "Loss Value :  0.4480748190724456 136.0%\n",
      "Loss Value :  0.4407217964567417 137.0%\n",
      "Loss Value :  0.4430414317507115 138.0%\n",
      "Loss Value :  0.44817258759122547 139.0%\n",
      "Loss Value :  0.44283643838774667 140.0%\n",
      "Loss Value :  0.4351631659050132 141.0%\n",
      "Loss Value :  0.42574061305752964 142.0%\n",
      "Loss Value :  0.4398459477247885 143.0%\n",
      "Loss Value :  0.4159971797810737 144.0%\n",
      "Loss Value :  0.44588129897116585 145.0%\n",
      "Loss Value :  0.4335208169622756 146.0%\n",
      "Loss Value :  0.4221506252314933 147.0%\n",
      "Loss Value :  0.4163028954207284 148.0%\n",
      "Loss Value :  0.428894342612734 149.0%\n",
      "Loss Value :  0.44296920119974054 150.0%\n",
      "Loss Value :  0.4534093821356303 151.0%\n",
      "Loss Value :  0.433156406809214 152.0%\n",
      "Loss Value :  0.42285717059809913 153.0%\n",
      "Loss Value :  0.4329165348395951 154.0%\n",
      "Loss Value :  0.4204135427792266 155.0%\n",
      "Loss Value :  0.4326591636544855 156.0%\n",
      "Loss Value :  0.40932982329048007 157.0%\n",
      "Loss Value :  0.43552123363939327 158.0%\n",
      "Loss Value :  0.432763547341972 159.0%\n",
      "Loss Value :  0.40682891112885794 160.0%\n",
      "Loss Value :  0.4295944152577482 161.0%\n",
      "Loss Value :  0.4302526901537513 162.0%\n",
      "Loss Value :  0.4307184007647532 163.0%\n",
      "Loss Value :  0.4484720509304561 164.0%\n",
      "Loss Value :  0.4108528501427081 165.0%\n",
      "Loss Value :  0.4333569580933247 166.0%\n",
      "Loss Value :  0.42816497163944417 167.0%\n",
      "Loss Value :  0.4366681369022368 168.0%\n",
      "Loss Value :  0.43725826843304116 169.0%\n",
      "Loss Value :  0.4195388378289815 170.0%\n",
      "Loss Value :  0.4502501716511245 171.0%\n",
      "Loss Value :  0.43898868587648704 172.0%\n",
      "Loss Value :  0.46103425994890535 173.0%\n",
      "Loss Value :  0.43970799336364946 174.0%\n",
      "Loss Value :  0.4313803944629659 175.0%\n",
      "Loss Value :  0.425889848177184 176.0%\n",
      "Loss Value :  0.4347750628999041 177.0%\n",
      "Loss Value :  0.43758313308276503 178.0%\n",
      "Loss Value :  0.46027252945243985 179.0%\n",
      "Loss Value :  0.4392093082252157 180.0%\n",
      "Loss Value :  0.4186402992561245 181.0%\n",
      "Loss Value :  0.42272996790424294 182.0%\n",
      "Loss Value :  0.435026533384721 183.0%\n",
      "Loss Value :  0.4277947771166758 184.0%\n",
      "Loss Value :  0.41982352956445834 185.0%\n",
      "Loss Value :  0.430997292545773 186.0%\n",
      "Loss Value :  0.4227100540435971 187.0%\n",
      "Loss Value :  0.4608600287280939 188.0%\n",
      "Loss Value :  0.4310564914744479 189.0%\n",
      "Loss Value :  0.42443264131579783 190.0%\n",
      "Loss Value :  0.41626007294524336 191.0%\n",
      "Loss Value :  0.4311657148440692 192.0%\n",
      "Loss Value :  0.4261446517571042 193.0%\n",
      "Loss Value :  0.44607910336785317 194.0%\n",
      "Loss Value :  0.4253705136545877 195.0%\n",
      "Loss Value :  0.4443038263341595 196.0%\n",
      "Loss Value :  0.4115063408886153 197.0%\n",
      "Loss Value :  0.41205134359560364 198.0%\n",
      "Loss Value :  0.42572433159654494 199.0%\n",
      "Loss Value :  0.45813385417783675 200.0%\n"
     ]
    }
   ],
   "source": [
    "noisy = True\n",
    "noisy_loss = []\n",
    "noisyParam = np.copy(paramProver)\n",
    "-1*costf(noisyParam)\n",
    "print(\"Initial Cost : \", -1*costf(noisyParam))\n",
    "autospsa = SPSA(maxiter=200, learning_rate=None, perturbation=None, callback=autospsa_callback)\n",
    "x_opt, fx_opt, nfevs = autospsa.optimize(numParam, costf, initial_point=noisyParam)"
   ]
  },
  {
   "cell_type": "code",
   "execution_count": 90,
   "id": "b530ac05",
   "metadata": {},
   "outputs": [
    {
     "name": "stdout",
     "output_type": "stream",
     "text": [
      "0.7446594336813993\n"
     ]
    }
   ],
   "source": [
    "noisy = False\n",
    "noiseResilientValue = -1*costf(x_opt)\n",
    "print(noiseResilientValue)"
   ]
  },
  {
   "cell_type": "code",
   "execution_count": 91,
   "id": "a0d66262",
   "metadata": {},
   "outputs": [
    {
     "name": "stdout",
     "output_type": "stream",
     "text": [
      "True Value :  0.75\n",
      "Noiseless :  0.749976646846372\n",
      "Noisy :  0.45813385417783675\n",
      "Noise Resilient Value :  0.7446594336813993\n"
     ]
    }
   ],
   "source": [
    "print(\"True Value : \", true_value)\n",
    "print(\"Noiseless : \", noiseless_loss[-1])\n",
    "print(\"Noisy : \", noisy_loss[-1])\n",
    "print(\"Noise Resilient Value : \", noiseResilientValue)"
   ]
  },
  {
   "cell_type": "code",
   "execution_count": 56,
   "id": "3bd61cb3",
   "metadata": {},
   "outputs": [],
   "source": [
    "def writeToFile():\n",
    "    file = open(\"Q8_GS.txt\", \"w+\")\n",
    "    file.write(str(true_value)+\"\\n\")\n",
    "    file.write(str(noiseResilientValue)+\"\\n\")\n",
    "\n",
    "    file.write(str(len(noiseless_loss))+\"\\n\")\n",
    "    L = [str(i)+\"\\n\" for i in noiseless_loss]\n",
    "    file.writelines(L)\n",
    "    \n",
    "    file.write(str(len(noisy_loss))+\"\\n\")\n",
    "    L = [str(i)+\"\\n\" for i in noisy_loss[0:len(noisy_loss)-1]]\n",
    "    file.writelines(L)\n",
    "    \n",
    "    file.write(str(noisy_loss[-1]))\n",
    "    \n",
    "    file.close()"
   ]
  },
  {
   "cell_type": "code",
   "execution_count": 57,
   "id": "200a5929",
   "metadata": {},
   "outputs": [],
   "source": [
    "writeToFile()"
   ]
  },
  {
   "cell_type": "code",
   "execution_count": null,
   "id": "51fc1176",
   "metadata": {},
   "outputs": [],
   "source": []
  }
 ],
 "metadata": {
  "kernelspec": {
   "display_name": "Python 3",
   "language": "python",
   "name": "python3"
  },
  "language_info": {
   "codemirror_mode": {
    "name": "ipython",
    "version": 3
   },
   "file_extension": ".py",
   "mimetype": "text/x-python",
   "name": "python",
   "nbconvert_exporter": "python",
   "pygments_lexer": "ipython3",
   "version": "3.9.6"
  }
 },
 "nbformat": 4,
 "nbformat_minor": 5
}
