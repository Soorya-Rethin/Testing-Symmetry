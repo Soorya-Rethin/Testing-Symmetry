{
 "cells": [
  {
   "cell_type": "code",
   "execution_count": 2,
   "id": "0d4be473",
   "metadata": {},
   "outputs": [],
   "source": [
    "import math\n",
    "import random\n",
    "import numpy as np\n",
    "from itertools import product\n",
    "\n",
    "from qiskit import *\n",
    "\n",
    "# Importing standard Qiskit libraries\n",
    "from qiskit.tools.jupyter import *\n",
    "from qiskit.visualization import *\n",
    "from qiskit.providers.aer import QasmSimulator\n",
    "\n",
    "from qiskit.utils import QuantumInstance\n",
    "\n",
    "from qiskit.opflow import I, X, Y, Z\n",
    "\n",
    "from qiskit.opflow import StateFn\n",
    "from qiskit.opflow import Gradient\n",
    "from qiskit.opflow import CircuitSampler\n",
    "from qiskit.opflow.primitive_ops import MatrixOp\n",
    "\n",
    "from qiskit.quantum_info import Statevector\n",
    "\n",
    "from qiskit.providers.aer.noise import NoiseModel\n",
    "from qiskit.ignis.mitigation.measurement import CompleteMeasFitter\n",
    "\n",
    "# Loading your IBM Quantum account(s)\n",
    "provider = IBMQ.load_account()"
   ]
  },
  {
   "cell_type": "code",
   "execution_count": 3,
   "id": "9fc29e19",
   "metadata": {},
   "outputs": [],
   "source": [
    "def createEqSuperposCS4():\n",
    "    '''\n",
    "    Defines a quantum circuit to create the uniform superposition of basis elements required.\n",
    "    '''    \n",
    "    temp = QuantumCircuit(2)\n",
    "    temp.h(0)\n",
    "    temp.h(1)\n",
    "    return temp"
   ]
  },
  {
   "cell_type": "code",
   "execution_count": 5,
   "id": "f906b5fd",
   "metadata": {},
   "outputs": [
    {
     "data": {
      "text/html": [
       "<pre style=\"word-wrap: normal;white-space: pre;background: #fff0;line-height: 1.1;font-family: &quot;Courier New&quot;,Courier,monospace\">     ┌───┐\n",
       "q_0: ┤ H ├\n",
       "     ├───┤\n",
       "q_1: ┤ H ├\n",
       "     └───┘\n",
       "q_2: ─────\n",
       "          \n",
       "q_3: ─────\n",
       "          </pre>"
      ],
      "text/plain": [
       "     ┌───┐\n",
       "q_0: ┤ H ├\n",
       "     ├───┤\n",
       "q_1: ┤ H ├\n",
       "     └───┘\n",
       "q_2: ─────\n",
       "          \n",
       "q_3: ─────\n",
       "          "
      ]
     },
     "execution_count": 5,
     "metadata": {},
     "output_type": "execute_result"
    }
   ],
   "source": [
    "'''\n",
    "Defines a quantum circuit to create a purification of the state to be tested. Purification created on qubits (S, S') - \n",
    "two qubits each.\n",
    "'''\n",
    "size = 4\n",
    "state = QuantumCircuit(size)\n",
    "state.h(0)\n",
    "state.h(1)\n",
    "state.draw()"
   ]
  },
  {
   "cell_type": "code",
   "execution_count": 6,
   "id": "aa3022ff",
   "metadata": {},
   "outputs": [],
   "source": [
    "def createQuantumCircuit():\n",
    "    '''\n",
    "    Creates quantum circuit for the problem. \n",
    "    Refer to Appendix E from https://arxiv.org/pdf/2105.12758\n",
    "    The ciruit contains 6 qubits each labelled as (C, S, S')\n",
    "    '''    \n",
    "    circ = QuantumCircuit(6)\n",
    "    #Create Quantum Circuit here\n",
    "    \n",
    "    superPosCircuit = createEqSuperposCS4()\n",
    "    circ.append(superPosCircuit, [0, 1])\n",
    "    circ.append(state, [2, 3, 4, 5])\n",
    "\n",
    "    circ.cswap(1, 2, 3)\n",
    "    circ.cx(1, 2)\n",
    "    \n",
    "    circ.cx(0, 3)\n",
    "    circ.cx(0, 2)\n",
    "    \n",
    "    circ.append(superPosCircuit.inverse(), [0, 1])\n",
    "\n",
    "    \n",
    "    return circ"
   ]
  },
  {
   "cell_type": "code",
   "execution_count": 7,
   "id": "562911ad",
   "metadata": {},
   "outputs": [
    {
     "data": {
      "text/html": [
       "<pre style=\"word-wrap: normal;white-space: pre;background: #fff0;line-height: 1.1;font-family: &quot;Courier New&quot;,Courier,monospace\">     ┌─────────────┐                  ┌────────────────┐\n",
       "q_0: ┤0            ├──────────■────■──┤0               ├\n",
       "     │  circuit-12 │          │    │  │  circuit-12_dg │\n",
       "q_1: ┤1            ├─■───■────┼────┼──┤1               ├\n",
       "     ├─────────────┤ │ ┌─┴─┐  │  ┌─┴─┐└────────────────┘\n",
       "q_2: ┤0            ├─X─┤ X ├──┼──┤ X ├──────────────────\n",
       "     │             │ │ └───┘┌─┴─┐└───┘                  \n",
       "q_3: ┤1            ├─X──────┤ X ├───────────────────────\n",
       "     │  circuit-10 │        └───┘                       \n",
       "q_4: ┤2            ├────────────────────────────────────\n",
       "     │             │                                    \n",
       "q_5: ┤3            ├────────────────────────────────────\n",
       "     └─────────────┘                                    </pre>"
      ],
      "text/plain": [
       "     ┌─────────────┐                  ┌────────────────┐\n",
       "q_0: ┤0            ├──────────■────■──┤0               ├\n",
       "     │  circuit-12 │          │    │  │  circuit-12_dg │\n",
       "q_1: ┤1            ├─■───■────┼────┼──┤1               ├\n",
       "     ├─────────────┤ │ ┌─┴─┐  │  ┌─┴─┐└────────────────┘\n",
       "q_2: ┤0            ├─X─┤ X ├──┼──┤ X ├──────────────────\n",
       "     │             │ │ └───┘┌─┴─┐└───┘                  \n",
       "q_3: ┤1            ├─X──────┤ X ├───────────────────────\n",
       "     │  circuit-10 │        └───┘                       \n",
       "q_4: ┤2            ├────────────────────────────────────\n",
       "     │             │                                    \n",
       "q_5: ┤3            ├────────────────────────────────────\n",
       "     └─────────────┘                                    "
      ]
     },
     "execution_count": 7,
     "metadata": {},
     "output_type": "execute_result"
    }
   ],
   "source": [
    "'''\n",
    "Creates the quantum circuit\n",
    "'''\n",
    "qCirc = createQuantumCircuit()\n",
    "qCirc.draw()"
   ]
  },
  {
   "cell_type": "code",
   "execution_count": 8,
   "id": "b70897d8",
   "metadata": {},
   "outputs": [],
   "source": [
    "'''\n",
    "Pick a backend to use. We use the statevector_simulator for noiseless simulation.\n",
    "'''\n",
    "noiseless_backend = Aer.get_backend('statevector_simulator')\n",
    "noiseless_q_instance = QuantumInstance(noiseless_backend)\n",
    "noiseless_sampler = CircuitSampler(noiseless_q_instance)"
   ]
  },
  {
   "cell_type": "code",
   "execution_count": 12,
   "id": "4ae8e395",
   "metadata": {},
   "outputs": [],
   "source": [
    "'''\n",
    "Pick a backend to use. We use the qasm_simulator for noisy simulation. \n",
    "'''\n",
    "#Replace the provider with your personal credentials for hub, group and main\n",
    "provider = IBMQ.get_provider(hub=\"ibm-q-research\", group=\"louisiana-st-uni-1\", project=\"main\")\n",
    "\n",
    "noisy_backend = Aer.get_backend(\"qasm_simulator\")\n",
    "device = provider.get_backend(\"ibmq_jakarta\")\n",
    "coupling_map = device.configuration().coupling_map\n",
    "noise_model = NoiseModel.from_backend(device.properties())\n",
    "noisy_q_instance = QuantumInstance(backend=noisy_backend, \n",
    "                           shots=8192, \n",
    "                           noise_model=noise_model, \n",
    "                           coupling_map=coupling_map,\n",
    "                           measurement_error_mitigation_cls=CompleteMeasFitter,\n",
    "                           cals_matrix_refresh_period=30)\n",
    "noisy_sampler = CircuitSampler(noisy_q_instance)"
   ]
  },
  {
   "cell_type": "code",
   "execution_count": 13,
   "id": "fe6c2a22",
   "metadata": {},
   "outputs": [],
   "source": [
    "'''\n",
    "Average value of this hamiltonian is the probability of measuring 0 on the first two qubits.\n",
    "MatrixOp(np.array([[1, 0], [0, 0])) is the projector on the 0 subspace. Qiskit orders qubits in reverse.\n",
    "'''\n",
    "hamiltonian = I^I^I^I^MatrixOp(np.array([[1, 0], [0, 0]]))^MatrixOp(np.array([[1, 0], [0, 0]]))"
   ]
  },
  {
   "cell_type": "code",
   "execution_count": 14,
   "id": "bfc62040",
   "metadata": {},
   "outputs": [],
   "source": [
    "def costf(noisy = False):\n",
    "    '''\n",
    "    Calculates the expectation value.\n",
    "    '''  \n",
    "    expectation = StateFn(hamiltonian, is_measurement=True).compose(StateFn(qCirc))\n",
    "    \n",
    "    if noisy:\n",
    "        result = noisy_sampler.convert(expectation).eval()  \n",
    "    else:\n",
    "        result = noiseless_sampler.convert(expectation).eval()  \n",
    "    \n",
    "    return np.real(result)"
   ]
  },
  {
   "cell_type": "code",
   "execution_count": 15,
   "id": "32bd6992",
   "metadata": {},
   "outputs": [
    {
     "name": "stdout",
     "output_type": "stream",
     "text": [
      "Cost :  1.0\n"
     ]
    }
   ],
   "source": [
    "print(\"Cost : \", costf(False))"
   ]
  },
  {
   "cell_type": "code",
   "execution_count": null,
   "id": "3314ae8e",
   "metadata": {},
   "outputs": [],
   "source": []
  }
 ],
 "metadata": {
  "kernelspec": {
   "display_name": "Python 3",
   "language": "python",
   "name": "python3"
  },
  "language_info": {
   "codemirror_mode": {
    "name": "ipython",
    "version": 3
   },
   "file_extension": ".py",
   "mimetype": "text/x-python",
   "name": "python",
   "nbconvert_exporter": "python",
   "pygments_lexer": "ipython3",
   "version": "3.9.6"
  }
 },
 "nbformat": 4,
 "nbformat_minor": 5
}
