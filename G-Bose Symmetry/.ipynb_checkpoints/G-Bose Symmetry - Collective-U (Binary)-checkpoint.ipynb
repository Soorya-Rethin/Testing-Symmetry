{
 "cells": [
  {
   "cell_type": "code",
   "execution_count": 10,
   "id": "0d4be473",
   "metadata": {},
   "outputs": [
    {
     "name": "stderr",
     "output_type": "stream",
     "text": [
      "ibmqfactory.load_account:WARNING:2022-09-01 00:12:48,082: Credentials are already in use. The existing account in the session will be replaced.\n"
     ]
    }
   ],
   "source": [
    "import math\n",
    "import random\n",
    "import numpy as np\n",
    "from itertools import product\n",
    "\n",
    "from qiskit import *\n",
    "\n",
    "# Importing standard Qiskit libraries\n",
    "from qiskit.tools.jupyter import *\n",
    "from qiskit.visualization import *\n",
    "from qiskit.providers.aer import QasmSimulator\n",
    "\n",
    "from qiskit.utils import QuantumInstance\n",
    "\n",
    "from qiskit.opflow import I, X, Y, Z\n",
    "\n",
    "from qiskit.opflow import StateFn\n",
    "from qiskit.opflow import Gradient\n",
    "from qiskit.opflow import CircuitSampler\n",
    "from qiskit.opflow.primitive_ops import MatrixOp\n",
    "from qiskit.extensions.unitary import UnitaryGate\n",
    "from qiskit.circuit.library.standard_gates import CZGate\n",
    "from qiskit.circuit.library.standard_gates import CHGate\n",
    "from qiskit.circuit.library.standard_gates import CRYGate\n",
    "from qiskit.circuit.library.standard_gates import HGate\n",
    "from qiskit.circuit.library.standard_gates import XGate\n",
    "from qiskit.circuit.library.standard_gates import RXGate\n",
    "from qiskit.circuit.library.standard_gates import RYGate\n",
    "from qiskit.circuit.library.standard_gates import RZGate\n",
    "\n",
    "from qiskit.quantum_info import Statevector\n",
    "\n",
    "from qiskit.providers.aer.noise import NoiseModel\n",
    "from qiskit.ignis.mitigation.measurement import CompleteMeasFitter\n",
    "\n",
    "# Loading your IBM Quantum account(s)\n",
    "provider = IBMQ.load_account()"
   ]
  },
  {
   "cell_type": "code",
   "execution_count": 26,
   "id": "9fc29e19",
   "metadata": {},
   "outputs": [],
   "source": [
    "def createEqSuperposCollectiveU():\n",
    "    temp = QuantumCircuit(5)\n",
    "    \n",
    "    temp.ry(2*np.arctan(1/np.sqrt(2)), 1)\n",
    "    temp.x(1)\n",
    "    temp.append(CHGate(), [1, 0])\n",
    "    temp.x(1)\n",
    "    \n",
    "    temp.ry(np.pi/3, 2)\n",
    "    temp.x(2)\n",
    "    temp.append(CRYGate(2*np.arctan(1/np.sqrt(2))), [2, 3])\n",
    "    temp.x(3)\n",
    "    temp.append(HGate().control(2), [2, 3, 4])\n",
    "    temp.x(2)\n",
    "    temp.x(3)\n",
    "    \n",
    "    return temp"
   ]
  },
  {
   "cell_type": "code",
   "execution_count": 27,
   "id": "679226f2",
   "metadata": {},
   "outputs": [
    {
     "data": {
      "image/png": "[encoded data removed]",
      "text/plain": [
       "<Figure size 621.941x451.5 with 1 Axes>"
      ]
     },
     "execution_count": 27,
     "metadata": {},
     "output_type": "execute_result"
    }
   ],
   "source": [
    "createEqSuperposCollectiveU().draw('mpl')"
   ]
  },
  {
   "cell_type": "code",
   "execution_count": 29,
   "id": "bbe8879c",
   "metadata": {},
   "outputs": [
    {
     "name": "stdout",
     "output_type": "stream",
     "text": [
      "0 (0.28867513459481287+1.070737396870758e-16j)\n",
      "1 (0.288675134594813+1.0707373968707583e-16j)\n",
      "2 (0.2886751345948129+3.204937810639273e-17j)\n",
      "4 (0.28867513459481275+2.0345189474585947e-16j)\n",
      "8 (0.28867513459481287+1.3877787807814457e-16j)\n",
      "9 (0.288675134594813+1.3877787807814457e-16j)\n",
      "10 (0.28867513459481287+2.7755575615628914e-17j)\n",
      "12 (0.2886751345948128+2.0816681711721685e-16j)\n",
      "16 (0.28867513459481287+1.9034046653396258e-16j)\n",
      "17 (0.288675134594813+1.9034046653396258e-16j)\n",
      "18 (0.28867513459481287+1.153161049532795e-16j)\n",
      "20 (0.28867513459481275+2.5896304597711735e-16j)\n"
     ]
    }
   ],
   "source": [
    "backend = Aer.get_backend('statevector_simulator')\n",
    "result = execute(createEqSuperposCollectiveU().reverse_bits(), backend).result().get_statevector()\n",
    "for i in range(len(result)):\n",
    "    if np.abs(result[i])>=1e-6:\n",
    "        print(i, result[i])"
   ]
  },
  {
   "cell_type": "code",
   "execution_count": 30,
   "id": "5f60acaa",
   "metadata": {},
   "outputs": [],
   "source": [
    "def Bx():\n",
    "    temp = QuantumCircuit(2)\n",
    "    temp.append(RXGate(-np.pi/2), [0])\n",
    "    temp.append(RXGate(-np.pi/2), [1])\n",
    "    return temp"
   ]
  },
  {
   "cell_type": "code",
   "execution_count": 31,
   "id": "0793920c",
   "metadata": {},
   "outputs": [],
   "source": [
    "def By():\n",
    "    temp = QuantumCircuit(2)\n",
    "    temp.append(RYGate(-np.pi/2), [0])\n",
    "    temp.append(RYGate(-np.pi/2), [1])\n",
    "    return temp"
   ]
  },
  {
   "cell_type": "code",
   "execution_count": 32,
   "id": "9ca1c0a6",
   "metadata": {},
   "outputs": [],
   "source": [
    "def Bz():\n",
    "    temp = QuantumCircuit(2)\n",
    "    temp.append(RZGate(-np.pi/2), [0])\n",
    "    temp.append(RZGate(-np.pi/2), [1])\n",
    "    return temp"
   ]
  },
  {
   "cell_type": "code",
   "execution_count": 33,
   "id": "f906b5fd",
   "metadata": {},
   "outputs": [
    {
     "data": {
      "image/png": "[encoded data removed]",
      "text/plain": [
       "<Figure size 370.906x200.667 with 1 Axes>"
      ]
     },
     "execution_count": 33,
     "metadata": {},
     "output_type": "execute_result"
    }
   ],
   "source": [
    "#Unitary to create state \\rho\n",
    "size = 2\n",
    "state = QuantumCircuit(size)\n",
    "state.h(0)\n",
    "state.cx(0, 1)\n",
    "state.z(0)\n",
    "state.x(1)\n",
    "state.draw('mpl')"
   ]
  },
  {
   "cell_type": "code",
   "execution_count": 34,
   "id": "aa3022ff",
   "metadata": {},
   "outputs": [],
   "source": [
    "def createQuantumCircuit():\n",
    "    #circ = QuantumCircuit(6)\n",
    "    #Create Quantum Circuit here\n",
    "    \n",
    "    #superPosCircuit = createEqSuperposCollectiveU()\n",
    "    #circ.append(superPosCircuit, range(4))\n",
    "    #circ.append(state, [4, 5])\n",
    "    \n",
    "    #circ.append(Bx().control(1), [1, 4, 5])\n",
    "    #circ.append(Bx().control(2), [1, 2, 4, 5])\n",
    "    \n",
    "    #circ.append(Bx().control(3), [1, 2, 3, 4, 5])\n",
    "    #circ.append(Bx().control(3), [1, 2, 3, 4, 5])\n",
    "    \n",
    "    #circ.x(1)\n",
    "    #circ.x(2)\n",
    "    \n",
    "    #circ.append(Bz().control(2), [1, 2, 4, 5])\n",
    "    #circ.append(Bz().control(2), [2, 3, 4, 5])\n",
    "    \n",
    "    #circ.x(3)\n",
    "    \n",
    "    #circ.append(By().control(2), [2, 3, 4, 5])\n",
    "    \n",
    "    #circ.x(2)\n",
    "    \n",
    "    #circ.append(By().control(3), [1, 2, 3, 4, 5])\n",
    "    #circ.append(By().control(3), [1, 2, 3, 4, 5])\n",
    "    \n",
    "    #circ.x(3)\n",
    "    \n",
    "    #circ.append(By().control(3), [1, 2, 3, 4, 5])\n",
    "    #circ.append(Bx().control(3), [1, 2, 3, 4, 5])\n",
    "    \n",
    "    #circ.x(1)\n",
    "    #circ.barrier()\n",
    "    \n",
    "    #circ.append(Bx().control(2), [0, 1, 4, 5])\n",
    "    \n",
    "    #circ.x(1)\n",
    "    #circ.x(2)\n",
    "    \n",
    "    #circ.append(Bz().control(3), [0, 1, 2, 4, 5])\n",
    "    #circ.append(Bz().control(3), [0, 2, 3, 4, 5])\n",
    "    \n",
    "    #circ.x(3)\n",
    "    \n",
    "    #circ.append(By().control(3), [0, 2, 3, 4, 5])\n",
    "    \n",
    "    #circ.x(2)\n",
    "    #circ.x(3)\n",
    "    \n",
    "    #circ.append(By().control(4), [0, 1, 2, 3, 4, 5])\n",
    "    #circ.append(Bx().control(4), [0, 1, 2, 3, 4, 5])\n",
    "    \n",
    "    #circ.x(1)\n",
    "    \n",
    "    #circ.append(superPosCircuit.inverse(), range(4))\n",
    "\n",
    "    circ = QuantumCircuit(7)\n",
    "    #Create Quantum Circuit here\n",
    "    \n",
    "    superPosCircuit = createEqSuperposCollectiveU()\n",
    "    circ.append(superPosCircuit, range(5))\n",
    "    circ.append(state, [5, 6])\n",
    "    \n",
    "    return circ"
   ]
  },
  {
   "cell_type": "code",
   "execution_count": 35,
   "id": "562911ad",
   "metadata": {},
   "outputs": [
    {
     "data": {
      "image/png": "[encoded data removed]",
      "text/plain": [
       "<Figure size 371.107x618.722 with 1 Axes>"
      ]
     },
     "execution_count": 35,
     "metadata": {},
     "output_type": "execute_result"
    }
   ],
   "source": [
    "qCirc = createQuantumCircuit()\n",
    "qCirc.draw('mpl')"
   ]
  },
  {
   "cell_type": "code",
   "execution_count": 600,
   "id": "fe6c2a22",
   "metadata": {},
   "outputs": [],
   "source": [
    "#Create Hamiltonian here\n",
    "hamiltonian = I^I^MatrixOp(np.array([[1, 0], [0, 0]]))^MatrixOp(np.array([[1, 0], [0, 0]]))^MatrixOp(np.array([[1, 0], [0, 0]]))^MatrixOp(np.array([[1, 0], [0, 0]]))"
   ]
  },
  {
   "cell_type": "code",
   "execution_count": 601,
   "id": "b70897d8",
   "metadata": {},
   "outputs": [],
   "source": [
    "#use if noiseless\n",
    "noiseless_backend = Aer.get_backend('statevector_simulator')\n",
    "noiseless_q_instance = QuantumInstance(noiseless_backend)\n",
    "noiseless_sampler = CircuitSampler(noiseless_q_instance)"
   ]
  },
  {
   "cell_type": "code",
   "execution_count": 602,
   "id": "4ae8e395",
   "metadata": {},
   "outputs": [],
   "source": [
    "'''\n",
    "Pick a backend to use. We use the qasm_simulator for noisy simulation. \n",
    "'''\n",
    "#Replace the provider with your personal credentials for hub, group and main\n",
    "provider = IBMQ.get_provider(hub=\"ibm-q-research\", group=\"louisiana-st-uni-1\", project=\"main\")\n",
    "\n",
    "noisy_backend = Aer.get_backend(\"qasm_simulator\")\n",
    "device = provider.get_backend(\"ibmq_jakarta\")\n",
    "coupling_map = device.configuration().coupling_map\n",
    "noise_model = NoiseModel.from_backend(device.properties())\n",
    "noisy_q_instance = QuantumInstance(backend=noisy_backend, \n",
    "                           shots=8192, \n",
    "                           noise_model=noise_model, \n",
    "                           coupling_map=coupling_map,\n",
    "                           measurement_error_mitigation_cls=CompleteMeasFitter,\n",
    "                           cals_matrix_refresh_period=30)\n",
    "noisy_sampler = CircuitSampler(noisy_q_instance)"
   ]
  },
  {
   "cell_type": "code",
   "execution_count": 603,
   "id": "bfc62040",
   "metadata": {},
   "outputs": [],
   "source": [
    "def costf(noisy = False):\n",
    "    expectation = StateFn(hamiltonian, is_measurement=True).compose(StateFn(qCirc))\n",
    "    \n",
    "    if noisy:\n",
    "        result = noisy_sampler.convert(expectation).eval()  \n",
    "    else:\n",
    "        result = noiseless_sampler.convert(expectation).eval()  \n",
    "    \n",
    "    return np.real(result)"
   ]
  },
  {
   "cell_type": "code",
   "execution_count": 604,
   "id": "32bd6992",
   "metadata": {},
   "outputs": [
    {
     "name": "stdout",
     "output_type": "stream",
     "text": [
      "Cost :  1.0000000000000129\n"
     ]
    }
   ],
   "source": [
    "print(\"Cost : \", costf())"
   ]
  },
  {
   "cell_type": "code",
   "execution_count": null,
   "id": "2a369a48",
   "metadata": {},
   "outputs": [],
   "source": []
  }
 ],
 "metadata": {
  "kernelspec": {
   "display_name": "Python 3",
   "language": "python",
   "name": "python3"
  },
  "language_info": {
   "codemirror_mode": {
    "name": "ipython",
    "version": 3
   },
   "file_extension": ".py",
   "mimetype": "text/x-python",
   "name": "python",
   "nbconvert_exporter": "python",
   "pygments_lexer": "ipython3",
   "version": "3.9.6"
  }
 },
 "nbformat": 4,
 "nbformat_minor": 5
}
