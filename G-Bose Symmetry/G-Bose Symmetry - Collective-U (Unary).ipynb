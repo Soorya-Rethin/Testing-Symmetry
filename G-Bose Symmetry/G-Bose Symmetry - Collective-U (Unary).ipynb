{
 "cells": [
  {
   "cell_type": "code",
   "execution_count": 2,
   "id": "0d4be473",
   "metadata": {},
   "outputs": [],
   "source": [
    "import math\n",
    "import random\n",
    "import numpy as np\n",
    "from itertools import product\n",
    "\n",
    "from qiskit import *\n",
    "\n",
    "# Importing standard Qiskit libraries\n",
    "from qiskit.tools.jupyter import *\n",
    "from qiskit.visualization import *\n",
    "from qiskit.providers.aer import QasmSimulator\n",
    "\n",
    "from qiskit.utils import QuantumInstance\n",
    "\n",
    "from qiskit.opflow import I, X, Y, Z\n",
    "\n",
    "from qiskit.opflow import StateFn\n",
    "from qiskit.opflow import Gradient\n",
    "from qiskit.opflow import CircuitSampler\n",
    "from qiskit.opflow.primitive_ops import MatrixOp\n",
    "from qiskit.extensions.unitary import UnitaryGate\n",
    "from qiskit.circuit.library.standard_gates import CZGate\n",
    "from qiskit.circuit.library.standard_gates import RXGate\n",
    "from qiskit.circuit.library.standard_gates import RYGate\n",
    "from qiskit.circuit.library.standard_gates import RZGate\n",
    "\n",
    "from qiskit.quantum_info import Statevector\n",
    "\n",
    "from qiskit.providers.aer.noise import NoiseModel\n",
    "from qiskit.ignis.mitigation.measurement import CompleteMeasFitter\n",
    "\n",
    "# Loading your IBM Quantum account(s)\n",
    "provider = IBMQ.load_account()"
   ]
  },
  {
   "cell_type": "code",
   "execution_count": 3,
   "id": "6b44e7fe",
   "metadata": {},
   "outputs": [],
   "source": [
    "def getThetaList():\n",
    "    thetaList = []\n",
    "    for i in range(11):\n",
    "        thetaList.append(2*np.arccos(1/np.sqrt(12-i)))\n",
    "    return thetaList"
   ]
  },
  {
   "cell_type": "code",
   "execution_count": 4,
   "id": "9fc29e19",
   "metadata": {},
   "outputs": [],
   "source": [
    "def createEqSuperposCollectiveU():\n",
    "    #Creates a one-hot encoding on 12 qubits\n",
    "    temp = QuantumCircuit(12)\n",
    "    thetaList = getThetaList()\n",
    "    temp.ry(thetaList[0], 10)\n",
    "    temp.x(11)\n",
    "    temp.cx(10, 11)\n",
    "    \n",
    "    for i in range(10):\n",
    "        temp.append(RYGate(thetaList[i+1]).control(1), [10-i, 9-i])\n",
    "        temp.cx(9-i, 10-i)\n",
    "    \n",
    "    return temp"
   ]
  },
  {
   "cell_type": "code",
   "execution_count": 5,
   "id": "bbe8879c",
   "metadata": {},
   "outputs": [],
   "source": [
    "#backend = Aer.get_backend('statevector_simulator')\n",
    "#result = execute(createEqSuperposCollectiveU().reverse_bits(), backend).result().get_statevector()\n",
    "#for i in range(len(result)):\n",
    "#    if np.abs(result[i])>=1e-6:\n",
    "#        print(i, result[i])"
   ]
  },
  {
   "cell_type": "code",
   "execution_count": 6,
   "id": "5f60acaa",
   "metadata": {},
   "outputs": [],
   "source": [
    "def Bx():\n",
    "    temp = QuantumCircuit(2)\n",
    "    temp.append(RXGate(np.pi/2), [0])\n",
    "    temp.append(RXGate(np.pi/2), [1])\n",
    "    return temp"
   ]
  },
  {
   "cell_type": "code",
   "execution_count": 7,
   "id": "0793920c",
   "metadata": {},
   "outputs": [],
   "source": [
    "def By():\n",
    "    temp = QuantumCircuit(2)\n",
    "    temp.append(RYGate(np.pi/2), [0])\n",
    "    temp.append(RYGate(np.pi/2), [1])\n",
    "    return temp"
   ]
  },
  {
   "cell_type": "code",
   "execution_count": 8,
   "id": "9ca1c0a6",
   "metadata": {},
   "outputs": [],
   "source": [
    "def Bz():\n",
    "    temp = QuantumCircuit(2)\n",
    "    temp.append(RZGate(np.pi/2), [0])\n",
    "    temp.append(RZGate(np.pi/2), [1])\n",
    "    return temp"
   ]
  },
  {
   "cell_type": "code",
   "execution_count": 9,
   "id": "d07b67d1",
   "metadata": {},
   "outputs": [],
   "source": [
    "def createOplist():\n",
    "    #Check ordering of gates\n",
    "    \n",
    "    opList = []\n",
    "    temp = QuantumCircuit(2)\n",
    "    temp.append(RYGate(0), [0])\n",
    "    temp.append(RYGate(0), [1])\n",
    "    opList.append(temp)\n",
    "    \n",
    "    opList.append(Bx().compose(Bx()))\n",
    "    opList.append(By().compose(By()))\n",
    "    opList.append(Bz().compose(Bz()))\n",
    "    \n",
    "    \n",
    "    opList.append(By().compose(Bx()))\n",
    "    opList.append(Bz().compose(By()))\n",
    "    opList.append(Bx().compose(Bz()))\n",
    "    opList.append(Bx().compose(By()))\n",
    "    \n",
    "    temp = By().compose(Bx())\n",
    "    opList.append(temp.compose(temp))\n",
    "    \n",
    "    temp = Bz().compose(By())\n",
    "    opList.append(temp.compose(temp))\n",
    "    \n",
    "    temp = Bx().compose(Bz())\n",
    "    opList.append(temp.compose(temp))\n",
    "    \n",
    "    temp = Bx().compose(By())\n",
    "    opList.append(temp.compose(temp))\n",
    "    \n",
    "    return opList"
   ]
  },
  {
   "cell_type": "code",
   "execution_count": 10,
   "id": "f906b5fd",
   "metadata": {},
   "outputs": [
    {
     "data": {
      "text/html": [
       "<pre style=\"word-wrap: normal;white-space: pre;background: #fff0;line-height: 1.1;font-family: &quot;Courier New&quot;,Courier,monospace\">     ┌───┐          \n",
       "q_0: ┤ H ├──■───────\n",
       "     ├───┤  │       \n",
       "q_1: ┤ H ├──┼────■──\n",
       "     └───┘┌─┴─┐  │  \n",
       "q_2: ─────┤ X ├──┼──\n",
       "          └───┘┌─┴─┐\n",
       "q_3: ──────────┤ X ├\n",
       "               └───┘</pre>"
      ],
      "text/plain": [
       "     ┌───┐          \n",
       "q_0: ┤ H ├──■───────\n",
       "     ├───┤  │       \n",
       "q_1: ┤ H ├──┼────■──\n",
       "     └───┘┌─┴─┐  │  \n",
       "q_2: ─────┤ X ├──┼──\n",
       "          └───┘┌─┴─┐\n",
       "q_3: ──────────┤ X ├\n",
       "               └───┘"
      ]
     },
     "execution_count": 10,
     "metadata": {},
     "output_type": "execute_result"
    }
   ],
   "source": [
    "#Unitary to create state \\rho\n",
    "size = 4\n",
    "state = QuantumCircuit(size)\n",
    "\n",
    "state.h(0)\n",
    "state.h(1)\n",
    "state.cx(0, 2)\n",
    "state.cx(1, 3)\n",
    "state.draw()"
   ]
  },
  {
   "cell_type": "code",
   "execution_count": 11,
   "id": "aa3022ff",
   "metadata": {},
   "outputs": [],
   "source": [
    "def createQuantumCircuit():\n",
    "    circ = QuantumCircuit(16)\n",
    "    #Create Quantum Circuit here\n",
    "    \n",
    "    superPosCircuit = createEqSuperposCollectiveU()\n",
    "    circ.append(superPosCircuit, range(12))\n",
    "    circ.append(state, [12, 13, 14, 15])\n",
    "    \n",
    "    #opList = createOplist()\n",
    "    #for i in range(12):\n",
    "    #    circ.append(opList[i].control(1), [i, 12, 13])\n",
    "    \n",
    "    circ.append(superPosCircuit.inverse(), range(12))\n",
    "\n",
    "    return circ"
   ]
  },
  {
   "cell_type": "code",
   "execution_count": 12,
   "id": "562911ad",
   "metadata": {},
   "outputs": [
    {
     "data": {
      "image/png": "[encoded data removed]",
      "text/plain": [
       "<Figure size 556.56x1371.22 with 1 Axes>"
      ]
     },
     "execution_count": 12,
     "metadata": {},
     "output_type": "execute_result"
    }
   ],
   "source": [
    "qCirc = createQuantumCircuit()\n",
    "qCirc.draw('mpl')"
   ]
  },
  {
   "cell_type": "code",
   "execution_count": 15,
   "id": "fe6c2a22",
   "metadata": {},
   "outputs": [],
   "source": [
    "#Create Hamiltonian here\n",
    "hamiltonian = I^I^I^I^I^I^MatrixOp(np.array([[1, 0], [0, 0]]))^MatrixOp(np.array([[1, 0], [0, 0]]))^MatrixOp(np.array([[1, 0], [0, 0]]))"
   ]
  },
  {
   "cell_type": "code",
   "execution_count": 16,
   "id": "b70897d8",
   "metadata": {},
   "outputs": [],
   "source": [
    "#use if noiseless\n",
    "noiseless_backend = Aer.get_backend('statevector_simulator')\n",
    "noiseless_q_instance = QuantumInstance(noiseless_backend)\n",
    "noiseless_sampler = CircuitSampler(noiseless_q_instance)"
   ]
  },
  {
   "cell_type": "code",
   "execution_count": 17,
   "id": "4ae8e395",
   "metadata": {},
   "outputs": [],
   "source": [
    "'''\n",
    "Pick a backend to use. We use the qasm_simulator for noisy simulation. \n",
    "'''\n",
    "#Replace the provider with your personal credentials for hub, group and main\n",
    "provider = IBMQ.get_provider(hub=\"ibm-q-research\", group=\"louisiana-st-uni-1\", project=\"main\")\n",
    "\n",
    "noisy_backend = Aer.get_backend(\"qasm_simulator\")\n",
    "device = provider.get_backend(\"ibmq_jakarta\")\n",
    "coupling_map = device.configuration().coupling_map\n",
    "noise_model = NoiseModel.from_backend(device.properties())\n",
    "noisy_q_instance = QuantumInstance(backend=noisy_backend, \n",
    "                           shots=8192, \n",
    "                           noise_model=noise_model, \n",
    "                           coupling_map=coupling_map,\n",
    "                           measurement_error_mitigation_cls=CompleteMeasFitter,\n",
    "                           cals_matrix_refresh_period=30)\n",
    "noisy_sampler = CircuitSampler(noisy_q_instance)"
   ]
  },
  {
   "cell_type": "code",
   "execution_count": 18,
   "id": "bfc62040",
   "metadata": {},
   "outputs": [],
   "source": [
    "def costf(noisy = False):\n",
    "    expectation = StateFn(hamiltonian, is_measurement=True).compose(StateFn(qCirc))\n",
    "    \n",
    "    if noisy:\n",
    "        result = noisy_sampler.convert(expectation).eval()  \n",
    "    else:\n",
    "        result = noiseless_sampler.convert(expectation).eval()  \n",
    "    \n",
    "    return np.real(result)"
   ]
  },
  {
   "cell_type": "code",
   "execution_count": null,
   "id": "32bd6992",
   "metadata": {},
   "outputs": [],
   "source": [
    "print(\"Initial Cost : \", costf())"
   ]
  },
  {
   "cell_type": "code",
   "execution_count": null,
   "id": "3314ae8e",
   "metadata": {},
   "outputs": [],
   "source": []
  }
 ],
 "metadata": {
  "kernelspec": {
   "display_name": "Python 3",
   "language": "python",
   "name": "python3"
  },
  "language_info": {
   "codemirror_mode": {
    "name": "ipython",
    "version": 3
   },
   "file_extension": ".py",
   "mimetype": "text/x-python",
   "name": "python",
   "nbconvert_exporter": "python",
   "pygments_lexer": "ipython3",
   "version": "3.9.6"
  }
 },
 "nbformat": 4,
 "nbformat_minor": 5
}
