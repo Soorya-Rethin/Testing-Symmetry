{
 "cells": [
  {
   "cell_type": "code",
   "execution_count": 36,
   "id": "0d4be473",
   "metadata": {},
   "outputs": [
    {
     "name": "stderr",
     "output_type": "stream",
     "text": [
      "ibmqfactory.load_account:WARNING:2022-09-30 04:03:06,620: Credentials are already in use. The existing account in the session will be replaced.\n"
     ]
    }
   ],
   "source": [
    "import math\n",
    "import random\n",
    "import numpy as np\n",
    "from itertools import product\n",
    "\n",
    "from qiskit import *\n",
    "\n",
    "# Importing standard Qiskit libraries\n",
    "from qiskit.tools.jupyter import *\n",
    "from qiskit.visualization import *\n",
    "from qiskit.providers.aer import QasmSimulator\n",
    "\n",
    "from qiskit.utils import QuantumInstance\n",
    "\n",
    "from qiskit.opflow import I, X, Y, Z\n",
    "\n",
    "from qiskit.opflow import StateFn\n",
    "from qiskit.opflow import Gradient\n",
    "from qiskit.opflow import CircuitSampler\n",
    "from qiskit.opflow.primitive_ops import MatrixOp\n",
    "from qiskit.extensions.unitary import UnitaryGate\n",
    "from qiskit.circuit.library.standard_gates import CZGate\n",
    "from qiskit.circuit.library.standard_gates import SGate\n",
    "from qiskit.circuit.library.standard_gates import CHGate\n",
    "\n",
    "from qiskit.quantum_info import Statevector\n",
    "\n",
    "from qiskit.providers.aer.noise import NoiseModel\n",
    "from qiskit.ignis.mitigation.measurement import CompleteMeasFitter\n",
    "\n",
    "# Loading your IBM Quantum account(s)\n",
    "provider = IBMQ.load_account()"
   ]
  },
  {
   "cell_type": "code",
   "execution_count": 37,
   "id": "9fc29e19",
   "metadata": {},
   "outputs": [],
   "source": [
    "def createEqSuperposCollectiveZ():\n",
    "    temp = QuantumCircuit(2)\n",
    "    temp.h(0)\n",
    "    temp.h(1)\n",
    "    return temp"
   ]
  },
  {
   "cell_type": "code",
   "execution_count": 38,
   "id": "f906b5fd",
   "metadata": {},
   "outputs": [
    {
     "data": {
      "text/html": [
       "<pre style=\"word-wrap: normal;white-space: pre;background: #fff0;line-height: 1.1;font-family: &quot;Courier New&quot;,Courier,monospace\">     ┌────────────┐               ┌───┐\n",
       "q_0: ┤ Ry(1.9106) ├──■─────────■──┤ X ├\n",
       "     └────────────┘┌─┴─┐     ┌─┴─┐└───┘\n",
       "q_1: ──────────────┤ H ├──■──┤ X ├─────\n",
       "                   └───┘┌─┴─┐└───┘     \n",
       "q_2: ───────────────────┤ X ├──────────\n",
       "                        └───┘          \n",
       "q_3: ──────────────────────────────────\n",
       "                                       \n",
       "q_4: ──────────────────────────────────\n",
       "                                       </pre>"
      ],
      "text/plain": [
       "     ┌────────────┐               ┌───┐\n",
       "q_0: ┤ Ry(1.9106) ├──■─────────■──┤ X ├\n",
       "     └────────────┘┌─┴─┐     ┌─┴─┐└───┘\n",
       "q_1: ──────────────┤ H ├──■──┤ X ├─────\n",
       "                   └───┘┌─┴─┐└───┘     \n",
       "q_2: ───────────────────┤ X ├──────────\n",
       "                        └───┘          \n",
       "q_3: ──────────────────────────────────\n",
       "                                       \n",
       "q_4: ──────────────────────────────────\n",
       "                                       "
      ]
     },
     "execution_count": 38,
     "metadata": {},
     "output_type": "execute_result"
    }
   ],
   "source": [
    "#Unitary to create state \\rho\n",
    "size = 5\n",
    "state = QuantumCircuit(size)\n",
    "state.ry(2*np.arccos(1/np.sqrt(3)), 0)\n",
    "state.append(CHGate(), [0, 1])\n",
    "state.cx(1, 2)\n",
    "state.cx(0, 1)\n",
    "state.x(0)\n",
    "state.draw()"
   ]
  },
  {
   "cell_type": "code",
   "execution_count": 40,
   "id": "aa3022ff",
   "metadata": {},
   "outputs": [],
   "source": [
    "def createQuantumCircuit():\n",
    "    circ = QuantumCircuit(7)\n",
    "    #Create Quantum Circuit here\n",
    "    \n",
    "    superPosCircuit = createEqSuperposCollectiveZ()\n",
    "    circ.append(superPosCircuit, [0, 1])\n",
    "    circ.append(state, [2, 3, 4, 5, 6])\n",
    "\n",
    "    controlledU1 = SGate().control(1)\n",
    "    circ.append(controlledU1, [1, 2])\n",
    "    circ.append(controlledU1, [1, 3])\n",
    "    circ.append(controlledU1, [1, 4])\n",
    "    \n",
    "    circ.append(CZGate(), [0, 2])\n",
    "    circ.append(CZGate(), [0, 3])\n",
    "    circ.append(CZGate(), [0, 4])\n",
    "    \n",
    "    circ.append(superPosCircuit.inverse(), [0, 1])\n",
    "\n",
    "    return circ"
   ]
  },
  {
   "cell_type": "code",
   "execution_count": 41,
   "id": "562911ad",
   "metadata": {},
   "outputs": [
    {
     "data": {
      "image/png": "[encoded data removed]",
      "text/plain": [
       "<Figure size 1123.61x618.722 with 1 Axes>"
      ]
     },
     "execution_count": 41,
     "metadata": {},
     "output_type": "execute_result"
    }
   ],
   "source": [
    "qCirc = createQuantumCircuit()\n",
    "qCirc.draw('mpl')"
   ]
  },
  {
   "cell_type": "code",
   "execution_count": 42,
   "id": "fe6c2a22",
   "metadata": {},
   "outputs": [],
   "source": [
    "#Create Hamiltonian here\n",
    "hamiltonian = I^I^I^I^I^MatrixOp(np.array([[1, 0], [0, 0]]))^MatrixOp(np.array([[1, 0], [0, 0]]))"
   ]
  },
  {
   "cell_type": "code",
   "execution_count": 43,
   "id": "b70897d8",
   "metadata": {},
   "outputs": [],
   "source": [
    "#use if noiseless\n",
    "noiseless_backend = Aer.get_backend('statevector_simulator')\n",
    "noiseless_q_instance = QuantumInstance(noiseless_backend)\n",
    "noiseless_sampler = CircuitSampler(noiseless_q_instance)"
   ]
  },
  {
   "cell_type": "code",
   "execution_count": 44,
   "id": "4ae8e395",
   "metadata": {},
   "outputs": [],
   "source": [
    "'''\n",
    "Pick a backend to use. We use the qasm_simulator for noisy simulation. \n",
    "'''\n",
    "#Replace the provider with your personal credentials for hub, group and main\n",
    "provider = IBMQ.get_provider(hub=\"ibm-q-research\", group=\"louisiana-st-uni-1\", project=\"main\")\n",
    "\n",
    "noisy_backend = Aer.get_backend(\"qasm_simulator\")\n",
    "device = provider.get_backend(\"ibmq_jakarta\")\n",
    "coupling_map = device.configuration().coupling_map\n",
    "noise_model = NoiseModel.from_backend(device.properties())\n",
    "noisy_q_instance = QuantumInstance(backend=noisy_backend, \n",
    "                           shots=8192, \n",
    "                           noise_model=noise_model, \n",
    "                           coupling_map=coupling_map,\n",
    "                           measurement_error_mitigation_cls=CompleteMeasFitter,\n",
    "                           cals_matrix_refresh_period=30)\n",
    "noisy_sampler = CircuitSampler(noisy_q_instance)"
   ]
  },
  {
   "cell_type": "code",
   "execution_count": 45,
   "id": "455d80ee",
   "metadata": {},
   "outputs": [
    {
     "data": {
      "text/plain": [
       "[<IBMQSimulator('ibmq_qasm_simulator') from IBMQ(hub='ibm-q-research', group='louisiana-st-uni-1', project='main')>,\n",
       " <IBMQBackend('ibmq_jakarta') from IBMQ(hub='ibm-q-research', group='louisiana-st-uni-1', project='main')>,\n",
       " <IBMQBackend('ibm_lagos') from IBMQ(hub='ibm-q-research', group='louisiana-st-uni-1', project='main')>,\n",
       " <IBMQBackend('ibm_nairobi') from IBMQ(hub='ibm-q-research', group='louisiana-st-uni-1', project='main')>,\n",
       " <IBMQBackend('ibm_perth') from IBMQ(hub='ibm-q-research', group='louisiana-st-uni-1', project='main')>,\n",
       " <IBMQBackend('ibm_oslo') from IBMQ(hub='ibm-q-research', group='louisiana-st-uni-1', project='main')>]"
      ]
     },
     "execution_count": 45,
     "metadata": {},
     "output_type": "execute_result"
    }
   ],
   "source": [
    "provider.backends(filters=lambda x: x.configuration().n_qubits >= 7)"
   ]
  },
  {
   "cell_type": "code",
   "execution_count": 46,
   "id": "bfc62040",
   "metadata": {},
   "outputs": [],
   "source": [
    "def costf(noisy = False):\n",
    "    expectation = StateFn(hamiltonian, is_measurement=True).compose(StateFn(qCirc))\n",
    "    \n",
    "    if noisy:\n",
    "        result = noisy_sampler.convert(expectation).eval()  \n",
    "    else:\n",
    "        result = noiseless_sampler.convert(expectation).eval()  \n",
    "    \n",
    "    return np.real(result)"
   ]
  },
  {
   "cell_type": "code",
   "execution_count": 55,
   "id": "32bd6992",
   "metadata": {},
   "outputs": [
    {
     "name": "stdout",
     "output_type": "stream",
     "text": [
      "Initial Cost :  0.00105559282767336\n"
     ]
    }
   ],
   "source": [
    "print(\"Initial Cost : \", costf(True))"
   ]
  },
  {
   "cell_type": "code",
   "execution_count": null,
   "id": "d97a0f23",
   "metadata": {},
   "outputs": [],
   "source": []
  }
 ],
 "metadata": {
  "kernelspec": {
   "display_name": "Python 3",
   "language": "python",
   "name": "python3"
  },
  "language_info": {
   "codemirror_mode": {
    "name": "ipython",
    "version": 3
   },
   "file_extension": ".py",
   "mimetype": "text/x-python",
   "name": "python",
   "nbconvert_exporter": "python",
   "pygments_lexer": "ipython3",
   "version": "3.9.6"
  }
 },
 "nbformat": 4,
 "nbformat_minor": 5
}
