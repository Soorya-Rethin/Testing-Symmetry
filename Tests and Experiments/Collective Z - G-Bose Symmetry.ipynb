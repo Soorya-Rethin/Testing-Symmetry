{
 "cells": [
  {
   "cell_type": "code",
   "execution_count": 2,
   "id": "6f032c94",
   "metadata": {},
   "outputs": [],
   "source": [
    "import numpy as np"
   ]
  },
  {
   "cell_type": "code",
   "execution_count": 3,
   "id": "73043db6",
   "metadata": {},
   "outputs": [],
   "source": [
    "def euler(theta):\n",
    "    return np.cos(theta)+1j*np.sin(theta)"
   ]
  },
  {
   "cell_type": "code",
   "execution_count": 4,
   "id": "6a306daf",
   "metadata": {},
   "outputs": [],
   "source": [
    "def prune(z):\n",
    "    x = np.real(z)\n",
    "    y = np.imag(z)\n",
    "    tx = np.round_(x, 6)\n",
    "    ty = np.round_(y, 6)\n",
    "    return tx + 1j*ty"
   ]
  },
  {
   "cell_type": "code",
   "execution_count": 5,
   "id": "cf857053",
   "metadata": {},
   "outputs": [],
   "source": [
    "k = 2"
   ]
  },
  {
   "cell_type": "code",
   "execution_count": 8,
   "id": "9fe1295f",
   "metadata": {},
   "outputs": [
    {
     "name": "stdout",
     "output_type": "stream",
     "text": [
      "0 (-0.4999999999999998+0.8660254037844388j) (1+0j) (-0.4999999999999998-0.8660254037844388j)  \n",
      "1 (1+0j) (1+0j) (1+0j)  \n",
      "2 (-0.4999999999999998-0.8660254037844388j) (1+0j) (-0.4999999999999998+0.8660254037844388j)  \n"
     ]
    }
   ],
   "source": [
    "for y in range(k+1):\n",
    "    print(y, end =\" \")\n",
    "    for x in range(k+1):\n",
    "        temp = np.exp(2*np.pi*1j*(x-k/2)*(y-k/2)/(k+1))\n",
    "        print(temp, end =\" \")\n",
    "        \n",
    "    print(\" \")"
   ]
  },
  {
   "cell_type": "code",
   "execution_count": 9,
   "id": "ba88a81d",
   "metadata": {},
   "outputs": [
    {
     "name": "stdout",
     "output_type": "stream",
     "text": [
      "[0j, (1+0j), 0j]\n"
     ]
    }
   ],
   "source": [
    "pi = []\n",
    "for x in range(k+1):\n",
    "    temp = 0\n",
    "    for y in range(k+1):\n",
    "        temp += (1/(k+1))*np.exp(2*np.pi*1j*(x-k/2)*(y-k/2)/(k+1))\n",
    "    pi.append(prune(temp))\n",
    "print(pi)"
   ]
  },
  {
   "cell_type": "code",
   "execution_count": null,
   "id": "d06ba58f",
   "metadata": {},
   "outputs": [],
   "source": []
  }
 ],
 "metadata": {
  "kernelspec": {
   "display_name": "Python 3",
   "language": "python",
   "name": "python3"
  },
  "language_info": {
   "codemirror_mode": {
    "name": "ipython",
    "version": 3
   },
   "file_extension": ".py",
   "mimetype": "text/x-python",
   "name": "python",
   "nbconvert_exporter": "python",
   "pygments_lexer": "ipython3",
   "version": "3.9.6"
  }
 },
 "nbformat": 4,
 "nbformat_minor": 5
}
