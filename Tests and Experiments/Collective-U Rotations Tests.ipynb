{
 "cells": [
  {
   "cell_type": "code",
   "execution_count": 1,
   "id": "d514014c",
   "metadata": {},
   "outputs": [],
   "source": [
    "#Import Relevant Libraries\n",
    "import math\n",
    "import numpy as np\n",
    "\n",
    "import matplotlib.pyplot as plt\n",
    "plt.rcParams['font.size'] = 14\n",
    "\n",
    "from qiskit import Aer\n",
    "from qiskit import IBMQ\n",
    "from qiskit import transpile\n",
    "\n",
    "from qiskit.utils import QuantumInstance\n",
    "\n",
    "from qiskit.opflow import StateFn\n",
    "from qiskit.opflow import Gradient\n",
    "from qiskit.opflow import CircuitSampler\n",
    "from qiskit.opflow.primitive_ops import MatrixOp\n",
    "\n",
    "from qiskit.circuit import Parameter\n",
    "from qiskit.circuit import QuantumCircuit\n",
    "from qiskit.circuit import ParameterVector\n",
    "from qiskit.circuit.library import RealAmplitudes\n",
    "\n",
    "from qiskit.algorithms.optimizers import SPSA\n",
    "from qiskit.algorithms.optimizers import GradientDescent\n",
    "from qiskit.algorithms.optimizers import QNSPSA\n",
    "\n",
    "from qiskit.tools.jupyter import *\n",
    "from qiskit.visualization import *\n",
    "from qiskit.providers.aer import QasmSimulator"
   ]
  },
  {
   "cell_type": "code",
   "execution_count": 2,
   "id": "176f9e2c",
   "metadata": {},
   "outputs": [],
   "source": [
    "I = np.matrix([[1, 0], [0, 1]], dtype=complex)\n",
    "X = np.matrix([[0, 1], [1, 0]], dtype=complex)\n",
    "Y = np.matrix([[0, -1j], [1j, 0]], dtype=complex)\n",
    "Z = np.matrix([[1, 0], [0, -1]], dtype=complex)"
   ]
  },
  {
   "cell_type": "code",
   "execution_count": 3,
   "id": "71c901b6",
   "metadata": {},
   "outputs": [],
   "source": [
    "phiPlus = np.matrix([[0.5, 0, 0, 0.5], [0, 0, 0, 0], [0, 0, 0, 0], [0.5, 0, 0, 0.5]], dtype=complex)\n",
    "phiMinus = np.matrix([[0.5, 0, 0, -0.5], [0, 0, 0, 0], [0, 0, 0, 0], [-0.5, 0, 0, 0.5]], dtype=complex)\n",
    "psiPlus = np.matrix([[0, 0, 0, 0], [0, 0.5, 0.5, 0], [0, 0.5, 0.5, 0], [0, 0, 0, 0]], dtype=complex)\n",
    "psiMinus = np.matrix([[0, 0, 0, 0], [0, 0.5, -0.5, 0], [0, -0.5, 0.5, 0], [0, 0, 0, 0]], dtype=complex)"
   ]
  },
  {
   "cell_type": "code",
   "execution_count": 4,
   "id": "ee617b05",
   "metadata": {},
   "outputs": [],
   "source": [
    "def Rx(theta):\n",
    "    return np.matrix([[np.cos(theta/2), -1j*np.sin(theta/2)], [-1j*np.sin(theta/2), np.cos(theta/2)]], dtype=complex)"
   ]
  },
  {
   "cell_type": "code",
   "execution_count": 5,
   "id": "982c7886",
   "metadata": {},
   "outputs": [],
   "source": [
    "def Ry(theta):\n",
    "    return np.matrix([[np.cos(theta/2), -np.sin(theta/2)], [np.sin(theta/2), np.cos(theta/2)]], dtype=complex)"
   ]
  },
  {
   "cell_type": "code",
   "execution_count": 6,
   "id": "984dbeb9",
   "metadata": {},
   "outputs": [],
   "source": [
    "def Rz(theta):\n",
    "    return np.matrix([[np.exp(-1j*theta/2), 0], [0, np.exp(1j*theta/2)]], dtype=complex)"
   ]
  },
  {
   "cell_type": "code",
   "execution_count": 7,
   "id": "90f19399",
   "metadata": {},
   "outputs": [],
   "source": [
    "def prune(oper):\n",
    "    for i in range(oper.shape[0]):\n",
    "        for j in range(oper.shape[1]):\n",
    "            x = np.real(oper[i, j])\n",
    "            y = np.imag(oper[i, j])\n",
    "            tx = np.round_(x, 6)\n",
    "            ty = np.round_(y, 6)\n",
    "            oper[i, j] = tx + 1j*ty\n",
    "    return oper"
   ]
  },
  {
   "cell_type": "code",
   "execution_count": 8,
   "id": "e665d528",
   "metadata": {},
   "outputs": [],
   "source": [
    "def Bx():\n",
    "    return prune(np.kron(Rx(-np.pi/2), Rx(-np.pi/2)))"
   ]
  },
  {
   "cell_type": "code",
   "execution_count": 9,
   "id": "bcec4893",
   "metadata": {},
   "outputs": [],
   "source": [
    "def By():\n",
    "    return prune(np.kron(Ry(-np.pi/2), Ry(-np.pi/2)))"
   ]
  },
  {
   "cell_type": "code",
   "execution_count": 10,
   "id": "cf035a63",
   "metadata": {},
   "outputs": [],
   "source": [
    "def Bz():\n",
    "    return prune(np.kron(Rz(-np.pi/2), Rz(-np.pi/2)))"
   ]
  },
  {
   "cell_type": "code",
   "execution_count": 11,
   "id": "3a265844",
   "metadata": {},
   "outputs": [],
   "source": [
    "def createWerner(F):\n",
    "    werner = np.zeros((4, 4), dtype=complex)\n",
    "    werner += F*psiMinus\n",
    "    werner += ((1-F)/3)*psiPlus\n",
    "    werner += ((1-F)/3)*phiPlus\n",
    "    werner += ((1-F)/3)*phiMinus\n",
    "\n",
    "    return werner"
   ]
  },
  {
   "cell_type": "code",
   "execution_count": 12,
   "id": "ca04a79f",
   "metadata": {},
   "outputs": [],
   "source": [
    "def findWerner(oper):\n",
    "    test = oper[0, 0]\n",
    "    return np.round(np.real(1-3*test), 6)"
   ]
  },
  {
   "cell_type": "code",
   "execution_count": 13,
   "id": "63baa8ce",
   "metadata": {},
   "outputs": [],
   "source": [
    "def createOplist():\n",
    "    opList = []\n",
    "    opList.append(np.kron(I, I))\n",
    "    \n",
    "    opList.append(prune(np.matmul(Bx(), Bx())))\n",
    "    opList.append(prune(np.matmul(By(), By())))\n",
    "    opList.append(prune(np.matmul(Bz(), Bz())))\n",
    "    \n",
    "    opList.append(prune(np.matmul(Bx(), By())))\n",
    "    opList.append(prune(np.matmul(By(), Bz())))\n",
    "    opList.append(prune(np.matmul(Bz(), Bx())))\n",
    "    opList.append(prune(np.matmul(By(), Bx())))\n",
    "    \n",
    "    temp = prune(np.matmul(Bx(), By()))\n",
    "    opList.append(prune(np.matmul(temp, temp)))\n",
    "    \n",
    "    temp = prune(np.matmul(By(), Bz()))\n",
    "    opList.append(prune(np.matmul(temp, temp)))\n",
    "    \n",
    "    temp = prune(np.matmul(Bz(), Bx()))\n",
    "    opList.append(prune(np.matmul(temp, temp)))\n",
    "    \n",
    "    temp = prune(np.matmul(By(), Bx()))\n",
    "    opList.append(prune(np.matmul(temp, temp)))\n",
    "    \n",
    "    return opList"
   ]
  },
  {
   "cell_type": "code",
   "execution_count": 14,
   "id": "f0e8e9a0",
   "metadata": {},
   "outputs": [],
   "source": [
    "def createRhoBar(rho, oplist):\n",
    "    N = len(oplist)\n",
    "    summ = np.zeros(rho.shape, dtype=complex)\n",
    "    for oper in oplist:\n",
    "        summ += np.matmul(np.matmul(oper.H, rho), oper)\n",
    "    summ = summ/N\n",
    "    return prune(summ)"
   ]
  },
  {
   "cell_type": "code",
   "execution_count": 15,
   "id": "a1c62215",
   "metadata": {},
   "outputs": [
    {
     "name": "stdout",
     "output_type": "stream",
     "text": [
      "0.0 1e-06\n",
      "0.01 0.01\n",
      "0.02 0.019999\n",
      "0.03 0.030001\n",
      "0.04 0.04\n",
      "0.05 0.049999\n",
      "0.06 0.060001\n",
      "0.07 0.07\n",
      "0.08 0.079999\n",
      "0.09 0.090001\n",
      "0.1 0.1\n",
      "0.11 0.109999\n",
      "0.12 0.120001\n",
      "0.13 0.13\n",
      "0.14 0.139999\n",
      "0.15 0.150001\n",
      "0.16 0.16\n",
      "0.17 0.169999\n",
      "0.18 0.180001\n",
      "0.19 0.19\n",
      "0.2 0.199999\n",
      "0.21 0.210001\n",
      "0.22 0.22\n",
      "0.23 0.229999\n",
      "0.24 0.240001\n",
      "0.25 0.25\n",
      "0.26 0.259999\n",
      "0.27 0.270001\n",
      "0.28 0.28\n",
      "0.29 0.289999\n",
      "0.3 0.300001\n",
      "0.31 0.31\n",
      "0.32 0.319999\n",
      "0.33 0.330001\n",
      "0.34 0.34\n",
      "0.35 0.349999\n",
      "0.36 0.360001\n",
      "0.37 0.37\n",
      "0.38 0.379999\n",
      "0.39 0.390001\n",
      "0.4 0.4\n",
      "0.41 0.409999\n",
      "0.42 0.420001\n",
      "0.43 0.43\n",
      "0.44 0.439999\n",
      "0.45 0.450001\n",
      "0.46 0.46\n",
      "0.47 0.469999\n",
      "0.48 0.480001\n",
      "0.49 0.49\n",
      "0.5 0.499999\n",
      "0.51 0.510001\n",
      "0.52 0.52\n",
      "0.53 0.529999\n",
      "0.54 0.540001\n",
      "0.55 0.55\n",
      "0.56 0.559999\n",
      "0.57 0.570001\n",
      "0.58 0.58\n",
      "0.59 0.589999\n",
      "0.6 0.600001\n",
      "0.61 0.61\n",
      "0.62 0.619999\n",
      "0.63 0.630001\n",
      "0.64 0.64\n",
      "0.65 0.649999\n",
      "0.66 0.660001\n",
      "0.67 0.67\n",
      "0.68 0.679999\n",
      "0.69 0.690001\n",
      "0.7 0.7\n",
      "0.71 0.709999\n",
      "0.72 0.720001\n",
      "0.73 0.73\n",
      "0.74 0.739999\n",
      "0.75 0.750001\n",
      "0.76 0.76\n",
      "0.77 0.769999\n",
      "0.78 0.780001\n",
      "0.79 0.79\n",
      "0.8 0.799999\n",
      "0.81 0.810001\n",
      "0.82 0.82\n",
      "0.83 0.829999\n",
      "0.84 0.840001\n",
      "0.85 0.85\n",
      "0.86 0.859999\n",
      "0.87 0.870001\n",
      "0.88 0.88\n",
      "0.89 0.889999\n",
      "0.9 0.900001\n",
      "0.91 0.91\n",
      "0.92 0.919999\n",
      "0.93 0.930001\n",
      "0.94 0.94\n",
      "0.95 0.949999\n",
      "0.96 0.960001\n",
      "0.97 0.97\n",
      "0.98 0.979999\n",
      "0.99 0.990001\n"
     ]
    }
   ],
   "source": [
    "for i in range(100):\n",
    "    print(i/100, np.real(findWerner(createRhoBar(createWerner(i/100), createOplist()))))"
   ]
  },
  {
   "cell_type": "code",
   "execution_count": 16,
   "id": "64989068",
   "metadata": {},
   "outputs": [],
   "source": [
    "#Thus, twirling werner(F) gives werner(F)."
   ]
  },
  {
   "cell_type": "code",
   "execution_count": 17,
   "id": "881324ee",
   "metadata": {},
   "outputs": [],
   "source": [
    "def createProjector():\n",
    "    opList = createOplist()\n",
    "    summ = np.zeros(opList[0].shape, dtype=complex)\n",
    "    for op in opList:\n",
    "        summ = summ + op\n",
    "    summ = summ/12\n",
    "    return summ"
   ]
  },
  {
   "cell_type": "code",
   "execution_count": 18,
   "id": "2914a559",
   "metadata": {},
   "outputs": [
    {
     "name": "stdout",
     "output_type": "stream",
     "text": [
      "[[ 0. +0.j  0. +0.j  0. +0.j  0. +0.j]\n",
      " [ 0. +0.j  0.5+0.j -0.5+0.j  0. +0.j]\n",
      " [ 0. +0.j -0.5+0.j  0.5+0.j  0. +0.j]\n",
      " [ 0. +0.j  0. +0.j  0. +0.j  0. +0.j]]\n",
      "\n",
      "[[ 0. +0.j  0. +0.j  0. +0.j  0. +0.j]\n",
      " [ 0. +0.j  0.5+0.j -0.5+0.j  0. +0.j]\n",
      " [ 0. +0.j -0.5+0.j  0.5+0.j  0. +0.j]\n",
      " [ 0. +0.j  0. +0.j  0. +0.j  0. +0.j]]\n"
     ]
    }
   ],
   "source": [
    "projector = prune(createProjector())\n",
    "print(projector)\n",
    "print(\"\")\n",
    "print(np.matmul(projector, projector))"
   ]
  },
  {
   "cell_type": "code",
   "execution_count": 19,
   "id": "5cb9a8ca",
   "metadata": {},
   "outputs": [
    {
     "name": "stdout",
     "output_type": "stream",
     "text": [
      "0 0 0\n",
      "0 1 1\n",
      "0 2 2\n",
      "0 3 3\n",
      "0 4 4\n",
      "0 5 5\n",
      "0 6 6\n",
      "0 7 7\n",
      "0 8 8\n",
      "0 9 9\n",
      "0 10 10\n",
      "0 11 11\n",
      "1 0 1\n",
      "1 1 0\n",
      "1 2 3\n",
      "1 3 2\n",
      "1 4 5\n",
      "1 5 4\n",
      "1 6 11\n",
      "1 7 8\n",
      "1 8 7\n",
      "1 9 10\n",
      "1 10 9\n",
      "1 11 6\n",
      "2 0 2\n",
      "2 1 3\n",
      "2 2 0\n",
      "2 3 1\n",
      "2 4 11\n",
      "2 5 6\n",
      "2 6 5\n",
      "2 7 9\n",
      "2 8 10\n",
      "2 9 7\n",
      "2 10 8\n",
      "2 11 4\n",
      "3 0 3\n",
      "3 1 2\n",
      "3 2 1\n",
      "3 3 0\n",
      "3 4 6\n",
      "3 5 11\n",
      "3 6 4\n",
      "3 7 10\n",
      "3 8 9\n",
      "3 9 8\n",
      "3 10 7\n",
      "3 11 5\n",
      "4 0 4\n",
      "4 1 11\n",
      "4 2 6\n",
      "4 3 5\n",
      "4 4 8\n",
      "4 5 10\n",
      "4 6 7\n",
      "4 7 2\n",
      "4 8 0\n",
      "4 9 1\n",
      "4 10 3\n",
      "4 11 9\n",
      "5 0 5\n",
      "5 1 6\n",
      "5 2 11\n",
      "5 3 4\n",
      "5 4 7\n",
      "5 5 9\n",
      "5 6 8\n",
      "5 7 3\n",
      "5 8 1\n",
      "5 9 0\n",
      "5 10 2\n",
      "5 11 10\n",
      "6 0 6\n",
      "6 1 5\n",
      "6 2 4\n",
      "6 3 11\n",
      "6 4 9\n",
      "6 5 7\n",
      "6 6 10\n",
      "6 7 1\n",
      "6 8 3\n",
      "6 9 2\n",
      "6 10 0\n",
      "6 11 8\n",
      "7 0 7\n",
      "7 1 10\n",
      "7 2 8\n",
      "7 3 9\n",
      "7 4 1\n",
      "7 5 2\n",
      "7 6 3\n",
      "7 7 11\n",
      "7 8 5\n",
      "7 9 6\n",
      "7 10 4\n",
      "7 11 0\n",
      "8 0 8\n",
      "8 1 9\n",
      "8 2 7\n",
      "8 3 10\n",
      "8 4 0\n",
      "8 5 3\n",
      "8 6 2\n",
      "8 7 6\n",
      "8 8 4\n",
      "8 9 11\n",
      "8 10 5\n",
      "8 11 1\n",
      "9 0 9\n",
      "9 1 8\n",
      "9 2 10\n",
      "9 3 7\n",
      "9 4 3\n",
      "9 5 0\n",
      "9 6 1\n",
      "9 7 4\n",
      "9 8 6\n",
      "9 9 5\n",
      "9 10 11\n",
      "9 11 2\n",
      "10 0 10\n",
      "10 1 7\n",
      "10 2 9\n",
      "10 3 8\n",
      "10 4 2\n",
      "10 5 1\n",
      "10 6 0\n",
      "10 7 5\n",
      "10 8 11\n",
      "10 9 4\n",
      "10 10 6\n",
      "10 11 3\n",
      "11 0 11\n",
      "11 1 4\n",
      "11 2 5\n",
      "11 3 6\n",
      "11 4 10\n",
      "11 5 8\n",
      "11 6 9\n",
      "11 7 0\n",
      "11 8 2\n",
      "11 9 3\n",
      "11 10 1\n",
      "11 11 7\n"
     ]
    }
   ],
   "source": [
    "opList = createOplist()\n",
    "for i in range(len(opList)):\n",
    "    for j in range(len(opList)):\n",
    "        test = prune(np.matmul(opList[i], opList[j]))\n",
    "        for k in range(len(opList)):\n",
    "            if np.array_equal(test, prune(opList[k])):\n",
    "                print(i, j, k)"
   ]
  },
  {
   "cell_type": "code",
   "execution_count": 25,
   "id": "fdc5d8ab",
   "metadata": {},
   "outputs": [
    {
     "name": "stdout",
     "output_type": "stream",
     "text": [
      "0\n",
      "False\n",
      "False\n",
      "False\n",
      "False\n",
      "False\n",
      "False\n",
      "[[ 0. +0.5j -0.5+0.j  -0.5+0.j   0. -0.5j]\n",
      " [ 0. +0.5j  0.5+0.j  -0.5+0.j   0. +0.5j]\n",
      " [ 0. +0.5j -0.5+0.j   0.5+0.j   0. +0.5j]\n",
      " [ 0. +0.5j  0.5+0.j   0.5+0.j   0. -0.5j]]\n"
     ]
    }
   ],
   "source": [
    "#Use this https://en.wikiversity.org/wiki/Symmetric_group_S4\n",
    "XX = prune(np.matmul(Bx(), Bx()))\n",
    "YY = prune(np.matmul(By(), By()))\n",
    "ZZ = prune(np.matmul(Bz(), Bz()))\n",
    "\n",
    "XY = prune(np.matmul(Bx(), By()))\n",
    "YZ = prune(np.matmul(By(), Bz()))\n",
    "ZX = prune(np.matmul(Bz(), Bx()))\n",
    "YX = prune(np.matmul(By(), Bx()))\n",
    "\n",
    "XYXY = prune(np.matmul(XY, XY))\n",
    "YZYZ = prune(np.matmul(YZ, YZ))\n",
    "ZXZX = prune(np.matmul(ZX, ZX))\n",
    "YXYX = prune(np.matmul(YX, YX))\n",
    "\n",
    "YZYZYZYZ = prune(np.matmul(YZYZ, YZYZ))\n",
    "YZYZYZYZYZYZ = prune(np.matmul(YZYZYZYZ, YZYZ))\n",
    "\n",
    "ZXZXZXZX = prune(np.matmul(ZXZX, ZXZX))\n",
    "ZXZXZXZXZXZX = prune(np.matmul(ZXZXZXZX, ZXZX))\n",
    "\n",
    "\n",
    "\n",
    "XYXYXYXY = prune(np.matmul(XYXY, XYXY))\n",
    "XYXYXYXYXYXY = prune(np.matmul(XYXYXYXY, XYXY))\n",
    "YXYXYX = prune(np.matmul(YXYX, YX))\n",
    "\n",
    "\n",
    "for k in range(len(opList)):\n",
    "    if np.array_equal(YXYXYX, prune(opList[k])):\n",
    "            print(k)\n",
    "\n",
    "\n",
    "print(np.array_equal(XY, YZ))\n",
    "print(np.array_equal(YZ, ZX))\n",
    "print(np.array_equal(ZX, YX))\n",
    "print(np.array_equal(XYXY, YZYZ))\n",
    "print(np.array_equal(YZYZ, ZXZX))\n",
    "print(np.array_equal(ZXZX, YXYX))\n",
    "\n",
    "print(ZXZXZXZX)"
   ]
  },
  {
   "cell_type": "code",
   "execution_count": 94,
   "id": "58a52a97",
   "metadata": {},
   "outputs": [],
   "source": [
    "c = ZZ #3\n",
    "b = YY #2\n",
    "a = XX #1"
   ]
  },
  {
   "cell_type": "code",
   "execution_count": 102,
   "id": "f77598bb",
   "metadata": {},
   "outputs": [],
   "source": [
    "g = XY #4\n",
    "h = YX #7"
   ]
  },
  {
   "cell_type": "code",
   "execution_count": 103,
   "id": "b0821c36",
   "metadata": {},
   "outputs": [],
   "source": [
    "#I 0\n",
    "#XX 1\n",
    "#YY 2\n",
    "#ZZ 3\n",
    "#XY 4\n",
    "#YZ 5\n",
    "#ZX 6\n",
    "#YX 7\n",
    "#XYXY 8\n",
    "#YZYZ 9\n",
    "#ZXZX 10\n",
    "#YXYX 11"
   ]
  },
  {
   "cell_type": "code",
   "execution_count": 104,
   "id": "8be0d5c1",
   "metadata": {},
   "outputs": [],
   "source": [
    "tester = [prune(np.matmul(g, c)), prune(np.matmul(g, b)), prune(np.matmul(g, a)),\n",
    "          prune(np.matmul(h, c)), prune(np.matmul(h, b)), prune(np.matmul(h, a))]"
   ]
  },
  {
   "cell_type": "code",
   "execution_count": 105,
   "id": "ff1b637c",
   "metadata": {},
   "outputs": [
    {
     "name": "stdout",
     "output_type": "stream",
     "text": [
      "5\n",
      "6\n",
      "11\n",
      "9\n",
      "8\n",
      "10\n"
     ]
    }
   ],
   "source": [
    "for temp in tester:\n",
    "    for k in range(len(opList)):\n",
    "        if np.array_equal(temp, prune(opList[k])):\n",
    "            print(k)"
   ]
  },
  {
   "cell_type": "code",
   "execution_count": 111,
   "id": "4505bfe4",
   "metadata": {},
   "outputs": [
    {
     "name": "stdout",
     "output_type": "stream",
     "text": [
      "True\n"
     ]
    }
   ],
   "source": [
    "print(np.array_equal(tester[5], ZXZX))"
   ]
  },
  {
   "cell_type": "code",
   "execution_count": null,
   "id": "46d8b061",
   "metadata": {},
   "outputs": [],
   "source": []
  }
 ],
 "metadata": {
  "kernelspec": {
   "display_name": "Python 3",
   "language": "python",
   "name": "python3"
  },
  "language_info": {
   "codemirror_mode": {
    "name": "ipython",
    "version": 3
   },
   "file_extension": ".py",
   "mimetype": "text/x-python",
   "name": "python",
   "nbconvert_exporter": "python",
   "pygments_lexer": "ipython3",
   "version": "3.9.6"
  }
 },
 "nbformat": 4,
 "nbformat_minor": 5
}
