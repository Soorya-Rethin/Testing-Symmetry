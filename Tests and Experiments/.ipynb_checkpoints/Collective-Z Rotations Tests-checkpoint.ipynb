{
 "cells": [
  {
   "cell_type": "code",
   "execution_count": 3,
   "id": "d514014c",
   "metadata": {},
   "outputs": [],
   "source": [
    "#Import Relevant Libraries\n",
    "import math\n",
    "import numpy as np\n",
    "\n",
    "import matplotlib.pyplot as plt\n",
    "plt.rcParams['font.size'] = 14\n",
    "\n",
    "from qiskit import Aer\n",
    "from qiskit import IBMQ\n",
    "from qiskit import transpile\n",
    "\n",
    "from qiskit.utils import QuantumInstance\n",
    "\n",
    "from qiskit.opflow import StateFn\n",
    "from qiskit.opflow import Gradient\n",
    "from qiskit.opflow import CircuitSampler\n",
    "from qiskit.opflow.primitive_ops import MatrixOp\n",
    "\n",
    "from qiskit.circuit import Parameter\n",
    "from qiskit.circuit import QuantumCircuit\n",
    "from qiskit.circuit import ParameterVector\n",
    "from qiskit.circuit.library import RealAmplitudes\n",
    "\n",
    "from qiskit.algorithms.optimizers import SPSA\n",
    "from qiskit.algorithms.optimizers import GradientDescent\n",
    "from qiskit.algorithms.optimizers import QNSPSA\n",
    "\n",
    "from qiskit.tools.jupyter import *\n",
    "from qiskit.visualization import *\n",
    "from qiskit.providers.aer import QasmSimulator"
   ]
  },
  {
   "cell_type": "code",
   "execution_count": 4,
   "id": "176f9e2c",
   "metadata": {},
   "outputs": [],
   "source": [
    "I = np.matrix([[1, 0], [0, 1]], dtype=complex)\n",
    "X = np.matrix([[0, 1], [1, 0]], dtype=complex)\n",
    "Y = np.matrix([[0, -1j], [1j, 0]], dtype=complex)\n",
    "Z = np.matrix([[1, 0], [0, -1]], dtype=complex)"
   ]
  },
  {
   "cell_type": "code",
   "execution_count": 5,
   "id": "984dbeb9",
   "metadata": {},
   "outputs": [],
   "source": [
    "def Rz(theta):\n",
    "    return np.matrix([[np.exp(1j*theta/2), 0], [0, np.exp(-1j*theta/2)]], dtype=complex)"
   ]
  },
  {
   "cell_type": "code",
   "execution_count": 6,
   "id": "02231183",
   "metadata": {},
   "outputs": [
    {
     "name": "stdout",
     "output_type": "stream",
     "text": [
      "[[6.123234e-17+1.j 0.000000e+00+0.j]\n",
      " [0.000000e+00+0.j 6.123234e-17-1.j]]\n"
     ]
    }
   ],
   "source": [
    "print(Rz(np.pi))"
   ]
  },
  {
   "cell_type": "code",
   "execution_count": 7,
   "id": "1beb85f0",
   "metadata": {},
   "outputs": [],
   "source": [
    "def createRho(N):\n",
    "    size = int(np.power(2, N))\n",
    "    lis = []\n",
    "    count = 1\n",
    "    for i in range(size):\n",
    "        temp = []\n",
    "        for j in range(size):\n",
    "            temp.append(1)\n",
    "            count = count + 1\n",
    "        lis.append(temp)\n",
    "    return np.matrix(lis)"
   ]
  },
  {
   "cell_type": "code",
   "execution_count": 8,
   "id": "63baa8ce",
   "metadata": {},
   "outputs": [],
   "source": [
    "def createKron(A, N):\n",
    "    if (N==1):\n",
    "        return A\n",
    "    prod = A\n",
    "    for i in range(1, N):\n",
    "        prod = np.kron(prod, A)\n",
    "    return prod"
   ]
  },
  {
   "cell_type": "code",
   "execution_count": 9,
   "id": "f0e8e9a0",
   "metadata": {},
   "outputs": [],
   "source": [
    "def createRhoBar(rho, thetalist, N):\n",
    "    size = int(np.power(2, N))\n",
    "    summ = np.zeros((size, size), dtype=complex)\n",
    "    for theta in thetalist:\n",
    "        summ += createKron(Rz(theta), N)*rho*createKron(Rz(-theta), N)\n",
    "    summ = summ/len(thetalist)\n",
    "    sumReal = np.zeros((size, size), dtype=int)\n",
    "    for i in range(len(summ)):\n",
    "        for j in range(len(summ)):\n",
    "            sumReal[i, j] = np.real(summ[i, j])\n",
    "            if (np.abs(sumReal[i, j]) <= 1e-1):\n",
    "                sumReal[i, j] = 0\n",
    "    return sumReal"
   ]
  },
  {
   "cell_type": "code",
   "execution_count": 10,
   "id": "8f8f22cf",
   "metadata": {},
   "outputs": [],
   "source": [
    "def createPhiList(N):\n",
    "    size = int(np.power(2, N))\n",
    "    PhiList = []\n",
    "    i = 1\n",
    "    while i<2*size:\n",
    "        PhiList.append(i*np.pi/size)\n",
    "        i = i+2\n",
    "    return PhiList"
   ]
  },
  {
   "cell_type": "code",
   "execution_count": 17,
   "id": "a34578da",
   "metadata": {},
   "outputs": [],
   "source": [
    "def createThetaList(N):\n",
    "    size = int(np.power(2, N))\n",
    "    ThetaList = []\n",
    "    for i in range(size):\n",
    "        ThetaList.append(i*np.pi/(size/2))\n",
    "    return ThetaList"
   ]
  },
  {
   "cell_type": "code",
   "execution_count": 18,
   "id": "a1c62215",
   "metadata": {},
   "outputs": [
    {
     "data": {
      "text/plain": [
       "array([[1, 0],\n",
       "       [0, 1]])"
      ]
     },
     "execution_count": 18,
     "metadata": {},
     "output_type": "execute_result"
    }
   ],
   "source": [
    "createRhoBar(createRho(1), createThetaList(1), 1)"
   ]
  },
  {
   "cell_type": "code",
   "execution_count": 19,
   "id": "5c6e2889",
   "metadata": {},
   "outputs": [
    {
     "data": {
      "text/plain": [
       "array([[1, 0, 0, 0],\n",
       "       [0, 1, 1, 0],\n",
       "       [0, 1, 1, 0],\n",
       "       [0, 0, 0, 1]])"
      ]
     },
     "execution_count": 19,
     "metadata": {},
     "output_type": "execute_result"
    }
   ],
   "source": [
    "createRhoBar(createRho(2), createThetaList(2), 2)"
   ]
  },
  {
   "cell_type": "code",
   "execution_count": 20,
   "id": "ed5efab7",
   "metadata": {},
   "outputs": [
    {
     "data": {
      "text/plain": [
       "array([[1, 0, 0, 0, 0, 0, 0, 0],\n",
       "       [0, 1, 1, 0, 1, 0, 0, 0],\n",
       "       [0, 1, 1, 0, 1, 0, 0, 0],\n",
       "       [0, 0, 0, 1, 0, 1, 1, 0],\n",
       "       [0, 1, 1, 0, 1, 0, 0, 0],\n",
       "       [0, 0, 0, 1, 0, 1, 1, 0],\n",
       "       [0, 0, 0, 1, 0, 1, 1, 0],\n",
       "       [0, 0, 0, 0, 0, 0, 0, 1]])"
      ]
     },
     "execution_count": 20,
     "metadata": {},
     "output_type": "execute_result"
    }
   ],
   "source": [
    "createRhoBar(createRho(3), createThetaList(3), 3)"
   ]
  },
  {
   "cell_type": "code",
   "execution_count": 184,
   "id": "a66f231e",
   "metadata": {},
   "outputs": [
    {
     "data": {
      "text/plain": [
       "array([[1, 0, 0, 0, 0, 0, 0, 0, 0, 0, 0, 0, 0, 0, 0, 0],\n",
       "       [0, 1, 1, 0, 1, 0, 0, 0, 1, 0, 0, 0, 0, 0, 0, 0],\n",
       "       [0, 1, 1, 0, 1, 0, 0, 0, 1, 0, 0, 0, 0, 0, 0, 0],\n",
       "       [0, 0, 0, 1, 0, 1, 1, 0, 0, 1, 1, 0, 1, 0, 0, 0],\n",
       "       [0, 1, 1, 0, 1, 0, 0, 0, 1, 0, 0, 0, 0, 0, 0, 0],\n",
       "       [0, 0, 0, 1, 0, 1, 1, 0, 0, 1, 1, 0, 1, 0, 0, 0],\n",
       "       [0, 0, 0, 1, 0, 1, 1, 0, 0, 1, 1, 0, 1, 0, 0, 0],\n",
       "       [0, 0, 0, 0, 0, 0, 0, 1, 0, 0, 0, 1, 0, 1, 1, 0],\n",
       "       [0, 1, 1, 0, 1, 0, 0, 0, 1, 0, 0, 0, 0, 0, 0, 0],\n",
       "       [0, 0, 0, 1, 0, 1, 1, 0, 0, 1, 1, 0, 1, 0, 0, 0],\n",
       "       [0, 0, 0, 1, 0, 1, 1, 0, 0, 1, 1, 0, 1, 0, 0, 0],\n",
       "       [0, 0, 0, 0, 0, 0, 0, 1, 0, 0, 0, 1, 0, 1, 1, 0],\n",
       "       [0, 0, 0, 1, 0, 1, 1, 0, 0, 1, 1, 0, 1, 0, 0, 0],\n",
       "       [0, 0, 0, 0, 0, 0, 0, 1, 0, 0, 0, 1, 0, 1, 1, 0],\n",
       "       [0, 0, 0, 0, 0, 0, 0, 1, 0, 0, 0, 1, 0, 1, 1, 0],\n",
       "       [0, 0, 0, 0, 0, 0, 0, 0, 0, 0, 0, 0, 0, 0, 0, 1]])"
      ]
     },
     "execution_count": 184,
     "metadata": {},
     "output_type": "execute_result"
    }
   ],
   "source": [
    "createRhoBar(createRho(4), createPhiList(4), 4)"
   ]
  },
  {
   "cell_type": "code",
   "execution_count": null,
   "id": "64989068",
   "metadata": {},
   "outputs": [],
   "source": []
  }
 ],
 "metadata": {
  "kernelspec": {
   "display_name": "Python 3",
   "language": "python",
   "name": "python3"
  },
  "language_info": {
   "codemirror_mode": {
    "name": "ipython",
    "version": 3
   },
   "file_extension": ".py",
   "mimetype": "text/x-python",
   "name": "python",
   "nbconvert_exporter": "python",
   "pygments_lexer": "ipython3",
   "version": "3.9.6"
  }
 },
 "nbformat": 4,
 "nbformat_minor": 5
}
