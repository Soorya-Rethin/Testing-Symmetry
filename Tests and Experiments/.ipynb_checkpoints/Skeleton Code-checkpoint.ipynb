{
 "cells": [
  {
   "cell_type": "code",
   "execution_count": 1,
   "id": "0d4be473",
   "metadata": {},
   "outputs": [
    {
     "name": "stderr",
     "output_type": "stream",
     "text": [
      "/opt/anaconda3/envs/qiskit/lib/python3.9/site-packages/qiskit/aqua/__init__.py:86: DeprecationWarning: The package qiskit.aqua is deprecated. It was moved/refactored to qiskit-terra For more information see <https://github.com/Qiskit/qiskit-aqua/blob/main/README.md#migration-guide>\n",
      "  warn_package('aqua', 'qiskit-terra')\n"
     ]
    }
   ],
   "source": [
    "import math\n",
    "import random\n",
    "import numpy as np\n",
    "from itertools import product\n",
    "\n",
    "from qiskit import *\n",
    "\n",
    "# Importing standard Qiskit libraries\n",
    "from qiskit.tools.jupyter import *\n",
    "from qiskit.visualization import *\n",
    "from qiskit.providers.aer import QasmSimulator\n",
    "from qiskit.aqua.components.optimizers import SLSQP, COBYLA \n",
    "\n",
    "import matplotlib.pyplot as plt\n",
    "plt.rcParams['font.size'] = 14\n",
    "\n",
    "from qiskit.utils import QuantumInstance\n",
    "\n",
    "from qiskit.opflow import I, X, Y, Z\n",
    "from qiskit.opflow import StateFn\n",
    "from qiskit.opflow import Gradient\n",
    "from qiskit.opflow import CircuitSampler\n",
    "from qiskit.opflow.primitive_ops import MatrixOp\n",
    "\n",
    "from qiskit.circuit import Parameter\n",
    "from qiskit.circuit import QuantumCircuit\n",
    "from qiskit.circuit import ParameterVector\n",
    "from qiskit.circuit.library import RealAmplitudes\n",
    "\n",
    "from qiskit.algorithms.optimizers import SPSA\n",
    "from qiskit.algorithms.optimizers import GradientDescent\n",
    "from qiskit.algorithms.optimizers import QNSPSA\n",
    "from qiskit.algorithms.optimizers import L_BFGS_B\n",
    "from qiskit.algorithms.optimizers import ADAM\n",
    "\n",
    "from qiskit.quantum_info import Statevector\n",
    "\n",
    "# Loading your IBM Quantum account(s)\n",
    "#provider = IBMQ.load_account()"
   ]
  },
  {
   "cell_type": "code",
   "execution_count": 2,
   "id": "2a63af03",
   "metadata": {},
   "outputs": [],
   "source": [
    "def rand_numb(low_in,high_in):\n",
    "    return np.random.uniform(low=low_in, high=np.nextafter(high_in, np.inf))\n",
    "\n",
    "#just to keep the upper limit included in the random number generation. "
   ]
  },
  {
   "cell_type": "code",
   "execution_count": 3,
   "id": "62ea4a69",
   "metadata": {},
   "outputs": [],
   "source": [
    "def append(list1, list2):\n",
    "    temp = []\n",
    "    temp.extend(list1)\n",
    "    temp.extend(list2)\n",
    "    return temp"
   ]
  },
  {
   "cell_type": "code",
   "execution_count": 4,
   "id": "c3065d05",
   "metadata": {},
   "outputs": [],
   "source": [
    "def createActual(x, L):\n",
    "    temp = []\n",
    "    for i in range(L):\n",
    "        temp = np.append(temp, x)\n",
    "    return temp"
   ]
  },
  {
   "cell_type": "code",
   "execution_count": 13,
   "id": "4d366d97",
   "metadata": {},
   "outputs": [],
   "source": [
    "numLayer = 2\n",
    "numQubit = 1"
   ]
  },
  {
   "cell_type": "code",
   "execution_count": 14,
   "id": "5dd799b8",
   "metadata": {},
   "outputs": [],
   "source": [
    "#Create unitaries here\n",
    "unitary_param_1 = np.array([])\n",
    "#for i in range(0, 8):\n",
    "#    unitary_param_1 = np.append(unitary_param_1, np.array([rand_numb(0,2*np.pi)]))\n",
    " \n",
    "unitary_param_1 = [1.86051851, 3.72215261, 1.57043552, 5.48869762, \n",
    "                   2.30980358, 5.01476937, 0.5581273, 3.88907588]"
   ]
  },
  {
   "cell_type": "code",
   "execution_count": 15,
   "id": "f906b5fd",
   "metadata": {},
   "outputs": [
    {
     "data": {
      "text/html": [
       "<pre style=\"word-wrap: normal;white-space: pre;background: #fff0;line-height: 1.1;font-family: &quot;Courier New&quot;,Courier,monospace\">     ┌────────────┐┌────────────┐     ┌────────────┐┌─────────────┐     \n",
       "q_0: ┤ Rx(1.8605) ├┤ Ry(1.5704) ├──■──┤ Rx(2.3098) ├┤ Ry(0.55813) ├──■──\n",
       "     ├────────────┤├────────────┤┌─┴─┐├────────────┤└┬────────────┤┌─┴─┐\n",
       "q_1: ┤ Rx(3.7222) ├┤ Ry(5.4887) ├┤ X ├┤ Rx(5.0148) ├─┤ Ry(3.8891) ├┤ X ├\n",
       "     └────────────┘└────────────┘└───┘└────────────┘ └────────────┘└───┘</pre>"
      ],
      "text/plain": [
       "     ┌────────────┐┌────────────┐     ┌────────────┐┌─────────────┐     \n",
       "q_0: ┤ Rx(1.8605) ├┤ Ry(1.5704) ├──■──┤ Rx(2.3098) ├┤ Ry(0.55813) ├──■──\n",
       "     ├────────────┤├────────────┤┌─┴─┐├────────────┤└┬────────────┤┌─┴─┐\n",
       "q_1: ┤ Rx(3.7222) ├┤ Ry(5.4887) ├┤ X ├┤ Rx(5.0148) ├─┤ Ry(3.8891) ├┤ X ├\n",
       "     └────────────┘└────────────┘└───┘└────────────┘ └────────────┘└───┘"
      ]
     },
     "execution_count": 15,
     "metadata": {},
     "output_type": "execute_result"
    }
   ],
   "source": [
    "# First unitary\n",
    "size = 2\n",
    "layers = 2\n",
    "qc1 = QuantumCircuit(size)\n",
    "for j in range(layers):\n",
    "    for i in range(size):\n",
    "        qc1.rx(unitary_param_1[j*size*2 + i], i)\n",
    "        qc1.ry(unitary_param_1[j*2*size + i + size], i)\n",
    "\n",
    "    for i in range(size-1):\n",
    "        qc1.cx(i, i+1)\n",
    "\n",
    "qc1.draw()"
   ]
  },
  {
   "cell_type": "code",
   "execution_count": 22,
   "id": "6bb2e1c0",
   "metadata": {},
   "outputs": [],
   "source": [
    "def createProver(numQubit, numLayer):\n",
    "    numparam = numQubit*numLayer*2\n",
    "    prover = QuantumCircuit(numQubit)\n",
    "    param_vector = ParameterVector(\"params\", numparam)\n",
    "    \n",
    "    for j in range(numLayer):\n",
    "        for i in range(numQubit):\n",
    "            prover.rx(param_vector[j*2*numQubit + i], i)\n",
    "            prover.ry(param_vector[j*2*numQubit + i + numQubit], i)\n",
    "\n",
    "        for i in range(numQubit-1):\n",
    "            prover.cx(i, i+1)\n",
    "            \n",
    "    return prover"
   ]
  },
  {
   "cell_type": "code",
   "execution_count": 16,
   "id": "aa3022ff",
   "metadata": {},
   "outputs": [],
   "source": [
    "def createQuantumCircuit(numQubits, numLayer):\n",
    "    circ = QuantumCircuit(8)\n",
    "    #Create Quantum Circuit here\n",
    "    return circ"
   ]
  },
  {
   "cell_type": "code",
   "execution_count": 17,
   "id": "562911ad",
   "metadata": {},
   "outputs": [],
   "source": [
    "qCirc = createQuantumCircuit(2, 2)"
   ]
  },
  {
   "cell_type": "code",
   "execution_count": 18,
   "id": "b70897d8",
   "metadata": {},
   "outputs": [],
   "source": [
    "backend = Aer.get_backend('statevector_simulator')\n",
    "q_instance = QuantumInstance(backend, shots = 8192, seed_simulator = 2718, seed_transpiler = 2718)\n",
    "sampler = CircuitSampler(q_instance)"
   ]
  },
  {
   "cell_type": "code",
   "execution_count": 19,
   "id": "fe6c2a22",
   "metadata": {},
   "outputs": [],
   "source": [
    "#Create Hamiltonian here\n",
    "hamiltonian = I^I^I^I^I^I^MatrixOp(np.array([[1, 0, 0, 0], [0, 0, 0, 0], [0, 0, 0, 0], [0, 0, 0, 0]]))"
   ]
  },
  {
   "cell_type": "code",
   "execution_count": 20,
   "id": "bfc62040",
   "metadata": {},
   "outputs": [],
   "source": [
    "def costf(params):\n",
    "    expectation = StateFn(hamiltonian, is_measurement=True).compose(StateFn(qCirc))\n",
    "    value_dict = dict(zip(qCirc.parameters, params))\n",
    "    result = sampler.convert(expectation, params=value_dict).eval()  \n",
    "    return np.real(result)"
   ]
  },
  {
   "cell_type": "code",
   "execution_count": 21,
   "id": "9e113236",
   "metadata": {},
   "outputs": [],
   "source": [
    "def gradient(params):\n",
    "    expectation = StateFn(hamiltonian, is_measurement=True).compose(StateFn(qCirc))\n",
    "    value_dict = dict(zip(qCirc.parameters, params))\n",
    "    gradient = Gradient().convert(expectation)\n",
    "    result = sampler.convert(gradient, params=value_dict).eval()\n",
    "    return np.real(result)"
   ]
  },
  {
   "cell_type": "code",
   "execution_count": 23,
   "id": "b74d5b72",
   "metadata": {},
   "outputs": [
    {
     "name": "stdout",
     "output_type": "stream",
     "text": [
      "ParameterView([])\n"
     ]
    }
   ],
   "source": [
    "print(qCirc.parameters)"
   ]
  },
  {
   "cell_type": "code",
   "execution_count": 24,
   "id": "90f3d2c6",
   "metadata": {},
   "outputs": [],
   "source": [
    "loss = []\n",
    "\n",
    "def autospsa_callback(nfev, x, fx, stepsize, accepted = False):\n",
    "    loss.append(fx)\n",
    "    if (nfev % 30 == 0):\n",
    "        print(\"Loss Value : \", fx, str(nfev/3)+\"%\")"
   ]
  },
  {
   "cell_type": "code",
   "execution_count": 28,
   "id": "32bd6992",
   "metadata": {},
   "outputs": [
    {
     "name": "stdout",
     "output_type": "stream",
     "text": [
      "Initial Cost :  1.0\n"
     ]
    }
   ],
   "source": [
    "loss = []\n",
    "numParam = numQubit*numLayer\n",
    "\n",
    "paramProver = []\n",
    "for i in range(0, numParam):\n",
    "    paramProver = np.append(paramProver, np.array([rand_numb(0,2*np.pi)]))\n",
    "\n",
    "print(\"Initial Cost : \", costf(paramProver))\n",
    "\n",
    "#print(\"Gradient Vector\")\n",
    "#grad_vec = gradient(param)\n",
    "#for i in range(numParam):\n",
    "#    print(qCirc.parameters[i], grad_vec[i])"
   ]
  },
  {
   "cell_type": "code",
   "execution_count": 29,
   "id": "eef647cd",
   "metadata": {},
   "outputs": [
    {
     "name": "stdout",
     "output_type": "stream",
     "text": [
      "Loss Value :  1.0 10.0%\n",
      "Loss Value :  1.0 20.0%\n",
      "Loss Value :  1.0 30.0%\n",
      "Loss Value :  1.0 40.0%\n",
      "Loss Value :  1.0 50.0%\n",
      "Loss Value :  1.0 60.0%\n",
      "Loss Value :  1.0 70.0%\n",
      "Loss Value :  1.0 80.0%\n",
      "Loss Value :  1.0 90.0%\n",
      "Loss Value :  1.0 100.0%\n"
     ]
    }
   ],
   "source": [
    "autospsa = SPSA(maxiter=100, learning_rate=0.5, perturbation=0.05, callback=autospsa_callback)\n",
    "x_opt, fx_opt, nfevs = autospsa.optimize(numParam, costf, gradient_function=gradient, initial_point=paramProver)"
   ]
  },
  {
   "cell_type": "code",
   "execution_count": 30,
   "id": "e27eabb6",
   "metadata": {},
   "outputs": [
    {
     "name": "stdout",
     "output_type": "stream",
     "text": [
      "[2.75800396 1.07244883 5.26633928 5.55370613]\n"
     ]
    }
   ],
   "source": [
    "print(paramProver)"
   ]
  },
  {
   "cell_type": "code",
   "execution_count": 36,
   "id": "ac1c8d59",
   "metadata": {},
   "outputs": [
    {
     "data": {
      "text/plain": [
       "<Figure size 1200x600 with 0 Axes>"
      ]
     },
     "metadata": {},
     "output_type": "display_data"
    },
    {
     "data": {
      "image/png": "[encoded data removed]",
      "text/plain": [
       "<Figure size 1200x600 with 1 Axes>"
      ]
     },
     "metadata": {},
     "output_type": "display_data"
    }
   ],
   "source": [
    "def plot_loss():\n",
    "    start_point = 0\n",
    "    plt.figure(figsize=(12, 6))\n",
    "    plt.plot(createActual(1.0, len(loss[start_point:])), label = 'Actual')\n",
    "    plt.plot(loss[start_point:], 'tab:green', label='Loss')\n",
    "    plt.ylabel('Acceptance Probability')\n",
    "    plt.xlabel('iterations')\n",
    "    plt.legend()\n",
    "    plt.show()\n",
    "plot_loss()"
   ]
  },
  {
   "cell_type": "code",
   "execution_count": null,
   "id": "3314ae8e",
   "metadata": {},
   "outputs": [],
   "source": []
  }
 ],
 "metadata": {
  "kernelspec": {
   "display_name": "Python 3",
   "language": "python",
   "name": "python3"
  },
  "language_info": {
   "codemirror_mode": {
    "name": "ipython",
    "version": 3
   },
   "file_extension": ".py",
   "mimetype": "text/x-python",
   "name": "python",
   "nbconvert_exporter": "python",
   "pygments_lexer": "ipython3",
   "version": "3.9.6"
  }
 },
 "nbformat": 4,
 "nbformat_minor": 5
}
