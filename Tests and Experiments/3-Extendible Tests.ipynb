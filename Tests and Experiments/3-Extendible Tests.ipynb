{
 "cells": [
  {
   "cell_type": "code",
   "execution_count": 1,
   "id": "093bfdc9",
   "metadata": {},
   "outputs": [],
   "source": [
    "import numpy as np"
   ]
  },
  {
   "cell_type": "code",
   "execution_count": 2,
   "id": "fac3c31e",
   "metadata": {},
   "outputs": [],
   "source": [
    "I = np.array([[1, 0], [0, 1]])\n",
    "SWAP = np.array([[1, 0, 0, 0], [0, 0, 1, 0], [0, 1, 0, 0], [0, 0, 0, 1]])"
   ]
  },
  {
   "cell_type": "code",
   "execution_count": 7,
   "id": "9c2bc880",
   "metadata": {},
   "outputs": [],
   "source": [
    "S12 = np.kron(SWAP, I)\n",
    "S23 = np.kron(I, SWAP)\n",
    "S13 = np.array([[1,0,0,0,0,0,0,0], [0,0,0,0,1,0,0,0], [0,0,1,0,0,0,0,0], [0,0,0,0,0,0,1,0], \n",
    "                [0,1,0,0,0,0,0,0], [0,0,0,0,0,1,0,0], [0,0,0,1,0,0,0,0], [0,0,0,0,0,0,0,1]])"
   ]
  },
  {
   "cell_type": "code",
   "execution_count": 11,
   "id": "701a0bb2",
   "metadata": {},
   "outputs": [],
   "source": [
    "S12S23 = np.matmul(S12, S23)\n",
    "S13S23 = np.matmul(S13, S23)"
   ]
  },
  {
   "cell_type": "code",
   "execution_count": 14,
   "id": "cad7eb67",
   "metadata": {},
   "outputs": [],
   "source": [
    "lis = []\n",
    "lis.append(np.kron(np.kron(I, I), I)) #000\n",
    "lis.append(S23) #001\n",
    "lis.append(S13)\n",
    "lis.append(S13S23)\n",
    "lis.append(S12) #010\n",
    "lis.append(S12S23)"
   ]
  },
  {
   "cell_type": "code",
   "execution_count": 41,
   "id": "bd8a52df",
   "metadata": {},
   "outputs": [
    {
     "name": "stdout",
     "output_type": "stream",
     "text": [
      "0\n"
     ]
    }
   ],
   "source": [
    "temp = np.matmul(S13S23, S12S23)\n",
    "for i in range(len(lis)):\n",
    "    if np.array_equal(temp, lis[i]):\n",
    "        print(i)"
   ]
  },
  {
   "cell_type": "code",
   "execution_count": null,
   "id": "3c564b8f",
   "metadata": {},
   "outputs": [],
   "source": []
  }
 ],
 "metadata": {
  "kernelspec": {
   "display_name": "Python 3",
   "language": "python",
   "name": "python3"
  },
  "language_info": {
   "codemirror_mode": {
    "name": "ipython",
    "version": 3
   },
   "file_extension": ".py",
   "mimetype": "text/x-python",
   "name": "python",
   "nbconvert_exporter": "python",
   "pygments_lexer": "ipython3",
   "version": "3.9.6"
  }
 },
 "nbformat": 4,
 "nbformat_minor": 5
}
