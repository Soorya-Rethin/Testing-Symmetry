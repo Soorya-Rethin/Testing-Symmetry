{
 "cells": [
  {
   "cell_type": "code",
   "execution_count": 1,
   "id": "0e2cf47a",
   "metadata": {},
   "outputs": [],
   "source": [
    "#Import Relevant Libraries\n",
    "import random\n",
    "import numpy as np\n",
    "import cvxpy as cp\n",
    "\n",
    "from qiskit import QuantumCircuit, execute, Aer, IBMQ, BasicAer\n",
    "from qiskit.visualization import plot_histogram, plot_state_qsphere as plot_q\n",
    "from qiskit.quantum_info import Statevector\n",
    "\n",
    "from qiskit import quantum_info as qi\n",
    "from toqito.channel_metrics import channel_fidelity\n",
    "\n",
    "from toqito.state_metrics import fidelity\n",
    "from toqito.channels import partial_trace as pt\n",
    "from qiskit.quantum_info import DensityMatrix, state_fidelity, partial_trace"
   ]
  },
  {
   "cell_type": "code",
   "execution_count": 2,
   "id": "8f633b9c",
   "metadata": {},
   "outputs": [],
   "source": [
    "def rand_numb(low_in,high_in):\n",
    "    return np.random.uniform(low=low_in, high=np.nextafter(high_in, np.inf))\n",
    "\n",
    "#just to keep the upper limit included in the random number generation. "
   ]
  },
  {
   "cell_type": "code",
   "execution_count": 3,
   "id": "7b8f3a34",
   "metadata": {},
   "outputs": [],
   "source": [
    "I = np.array([[1, 0], [0, 1]])\n",
    "SWAP = np.array([[1, 0, 0, 0], [0, 0, 1, 0], [0, 1, 0, 0], [0, 0, 0, 1]])"
   ]
  },
  {
   "cell_type": "code",
   "execution_count": 4,
   "id": "4342e7a4",
   "metadata": {},
   "outputs": [],
   "source": [
    "G1_SR = np.kron(np.kron(I, I), I)\n",
    "G2_SR = np.kron(I, SWAP)"
   ]
  },
  {
   "cell_type": "code",
   "execution_count": 5,
   "id": "b894780f",
   "metadata": {
    "scrolled": true
   },
   "outputs": [
    {
     "name": "stdout",
     "output_type": "stream",
     "text": [
      "[[1.  0.  0.  0.  0.  0.  0.  0. ]\n",
      " [0.  0.5 0.5 0.  0.  0.  0.  0. ]\n",
      " [0.  0.5 0.5 0.  0.  0.  0.  0. ]\n",
      " [0.  0.  0.  1.  0.  0.  0.  0. ]\n",
      " [0.  0.  0.  0.  1.  0.  0.  0. ]\n",
      " [0.  0.  0.  0.  0.  0.5 0.5 0. ]\n",
      " [0.  0.  0.  0.  0.  0.5 0.5 0. ]\n",
      " [0.  0.  0.  0.  0.  0.  0.  1. ]]\n"
     ]
    }
   ],
   "source": [
    "Pi_SR = 0.5*(G1_SR + G2_SR)\n",
    "print(Pi_SR)"
   ]
  },
  {
   "cell_type": "code",
   "execution_count": 6,
   "id": "0a73ceb2",
   "metadata": {},
   "outputs": [
    {
     "name": "stdout",
     "output_type": "stream",
     "text": [
      "[0.61699292 5.12221132 2.3033857  2.62365451 1.71511274 3.70198358\n",
      " 3.18222006 5.43815098 2.46801499 4.66002036 0.02671324 3.89041535]\n"
     ]
    }
   ],
   "source": [
    "unitary_param_1 = np.array([])\n",
    "for i in range(0, 12):\n",
    "    unitary_param_1 = np.append(unitary_param_1, np.array([rand_numb(0,2*np.pi)]))\n",
    "\n",
    "print(unitary_param_1)"
   ]
  },
  {
   "cell_type": "code",
   "execution_count": 7,
   "id": "780cd4b6",
   "metadata": {},
   "outputs": [
    {
     "data": {
      "image/png": "[encoded data removed]",
      "text/plain": [
       "<Figure size 789.163x284.278 with 1 Axes>"
      ]
     },
     "execution_count": 7,
     "metadata": {},
     "output_type": "execute_result"
    }
   ],
   "source": [
    "#State \\rho_SR\n",
    "size = 3\n",
    "layers = 2\n",
    "state = QuantumCircuit(size)\n",
    "for j in range(layers):\n",
    "    for i in range(size):\n",
    "        state.rx(unitary_param_1[j*size*2 + i], i)\n",
    "        state.ry(unitary_param_1[j*2*size + i + size], i)\n",
    "\n",
    "    for i in range(size-1):\n",
    "        state.cx(i, i+1)\n",
    "\n",
    "state.draw('mpl')"
   ]
  },
  {
   "cell_type": "code",
   "execution_count": 48,
   "id": "5640a517",
   "metadata": {},
   "outputs": [
    {
     "data": {
      "image/png": "[encoded data removed]",
      "text/plain": [
       "<Figure size 287.496x284.278 with 1 Axes>"
      ]
     },
     "execution_count": 48,
     "metadata": {},
     "output_type": "execute_result"
    }
   ],
   "source": [
    "qcTest = QuantumCircuit(3)\n",
    "qcTest.ry(np.pi/3, 0)\n",
    "qcTest.cy(0, 1)\n",
    "qcTest.draw('mpl')"
   ]
  },
  {
   "cell_type": "code",
   "execution_count": 49,
   "id": "d77f35e9",
   "metadata": {},
   "outputs": [
    {
     "name": "stdout",
     "output_type": "stream",
     "text": [
      "[[0.75+0.j        0.  +0.j        0.  +0.j        0.  -0.4330127j]\n",
      " [0.  +0.j        0.  +0.j        0.  +0.j        0.  +0.j       ]\n",
      " [0.  +0.j        0.  +0.j        0.  +0.j        0.  +0.j       ]\n",
      " [0.  +0.4330127j 0.  +0.j        0.  +0.j        0.25+0.j       ]]\n"
     ]
    }
   ],
   "source": [
    "psi = np.array(DensityMatrix.from_instruction(qcTest.reverse_bits()))\n",
    "rho = pt(psi, [3], [2, 2, 2]) #rho_S\n",
    "print(rho)"
   ]
  },
  {
   "cell_type": "code",
   "execution_count": 46,
   "id": "88f0b6f8",
   "metadata": {},
   "outputs": [
    {
     "name": "stdout",
     "output_type": "stream",
     "text": [
      "WARN: A->p (column pointers) not strictly increasing, column 80 empty\n",
      "WARN: A->p (column pointers) not strictly increasing, column 107 empty\n",
      "WARN: A->p (column pointers) not strictly increasing, column 116 empty\n",
      "WARN: A->p (column pointers) not strictly increasing, column 143 empty\n",
      "Root Fidelity is : 1.0000003210655501\n"
     ]
    }
   ],
   "source": [
    "shape = rho.shape\n",
    "\n",
    "X = cp.Variable(shape, complex=True)\n",
    "omega = cp.Variable(Pi_SR.shape, complex=True)\n",
    "G = cp.bmat([[rho, X.H],[X, pt(omega, [3], [2, 2, 2])]])\n",
    "\n",
    "c = [omega>>0, G>>0, cp.real(cp.trace(omega))==1]\n",
    "\n",
    "c.append(omega == Pi_SR@omega@Pi_SR)\n",
    "\n",
    "obj = cp.Maximize(cp.real(cp.trace(X)))\n",
    "problem = cp.Problem(obj, constraints = c)\n",
    "rootFid = problem.solve()\n",
    "print(\"Root Fidelity is : \" + str(rootFid))"
   ]
  },
  {
   "cell_type": "code",
   "execution_count": 47,
   "id": "49d47759",
   "metadata": {},
   "outputs": [
    {
     "name": "stdout",
     "output_type": "stream",
     "text": [
      "Fidelity is : 1.0000006421312033\n"
     ]
    }
   ],
   "source": [
    "print(\"Fidelity is : \" + str(rootFid**2))"
   ]
  },
  {
   "cell_type": "code",
   "execution_count": null,
   "id": "d62ec642",
   "metadata": {},
   "outputs": [],
   "source": []
  }
 ],
 "metadata": {
  "kernelspec": {
   "display_name": "Python 3",
   "language": "python",
   "name": "python3"
  },
  "language_info": {
   "codemirror_mode": {
    "name": "ipython",
    "version": 3
   },
   "file_extension": ".py",
   "mimetype": "text/x-python",
   "name": "python",
   "nbconvert_exporter": "python",
   "pygments_lexer": "ipython3",
   "version": "3.9.6"
  }
 },
 "nbformat": 4,
 "nbformat_minor": 5
}
