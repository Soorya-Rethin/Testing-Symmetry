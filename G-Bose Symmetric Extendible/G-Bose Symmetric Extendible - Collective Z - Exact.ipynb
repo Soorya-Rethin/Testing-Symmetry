{
 "cells": [
  {
   "cell_type": "code",
   "execution_count": 32,
   "id": "0e2cf47a",
   "metadata": {},
   "outputs": [],
   "source": [
    "#Import Relevant Libraries\n",
    "import random\n",
    "import numpy as np\n",
    "import cvxpy as cp\n",
    "\n",
    "from qiskit import QuantumCircuit, execute, Aer, IBMQ, BasicAer\n",
    "from qiskit.visualization import plot_histogram, plot_state_qsphere as plot_q\n",
    "from qiskit.quantum_info import Statevector\n",
    "\n",
    "from qiskit import quantum_info as qi\n",
    "from toqito.channel_metrics import channel_fidelity\n",
    "\n",
    "from toqito.state_metrics import fidelity\n",
    "from toqito.channels import partial_trace as pt\n",
    "from qiskit.quantum_info import DensityMatrix, state_fidelity, partial_trace"
   ]
  },
  {
   "cell_type": "code",
   "execution_count": 33,
   "id": "9affc801",
   "metadata": {},
   "outputs": [],
   "source": [
    "def prune(oper):\n",
    "    '''\n",
    "    Takes in a matrix and removes the fractional part below 1e-15. Needed to pretty print output.\n",
    "    '''\n",
    "    for i in range(oper.shape[0]):\n",
    "        for j in range(oper.shape[1]):\n",
    "            x = np.real(oper[i, j])\n",
    "            y = np.imag(oper[i, j])\n",
    "            tx = np.round_(x, 15)\n",
    "            ty = np.round_(y, 15)\n",
    "            oper[i, j] = tx + 1j*ty\n",
    "    return oper"
   ]
  },
  {
   "cell_type": "code",
   "execution_count": 34,
   "id": "0a73ceb2",
   "metadata": {},
   "outputs": [
    {
     "data": {
      "image/png": "[encoded data removed]",
      "text/plain": [
       "<Figure size 621.739x200.667 with 1 Axes>"
      ]
     },
     "execution_count": 34,
     "metadata": {},
     "output_type": "execute_result"
    }
   ],
   "source": [
    "'''\n",
    "Defines parameters that specify the purification of state to be tested. Create a QuantumCircuit object that\n",
    "creates the purification on (size) number of qubits.\n",
    "'''\n",
    "unitary_param_1 = [4.76597606, 4.47050986, 4.19269861, 3.72124531, 4.94472091, 1.61563712,\n",
    "                   3.44120060, 3.24526326]\n",
    "\n",
    "size = 2\n",
    "layers = 2\n",
    "state = QuantumCircuit(size)\n",
    "for j in range(layers):\n",
    "    for i in range(size):\n",
    "        state.rx(unitary_param_1[j*size*2 + i], i)\n",
    "        state.ry(unitary_param_1[j*2*size + i + size], i)\n",
    "\n",
    "    for i in range(size-1):\n",
    "        state.cx(i, i+1)\n",
    "\n",
    "state.draw('mpl')"
   ]
  },
  {
   "cell_type": "code",
   "execution_count": 79,
   "id": "6e501931",
   "metadata": {},
   "outputs": [
    {
     "data": {
      "image/png": "[encoded data removed]",
      "text/plain": [
       "<Figure size 287.294x200.667 with 1 Axes>"
      ]
     },
     "execution_count": 79,
     "metadata": {},
     "output_type": "execute_result"
    }
   ],
   "source": [
    "state = QuantumCircuit(2)\n",
    "state.ry(np.pi/6, 0)\n",
    "state.cz(0, 1)\n",
    "state.draw('mpl')"
   ]
  },
  {
   "cell_type": "code",
   "execution_count": 80,
   "id": "d77f35e9",
   "metadata": {},
   "outputs": [
    {
     "name": "stdout",
     "output_type": "stream",
     "text": [
      "[[0.9330127+0.j 0.25     +0.j]\n",
      " [0.25     +0.j 0.0669873+0.j]]\n"
     ]
    }
   ],
   "source": [
    "'''\n",
    "Extract the matrix representation of the state \\rho_S\n",
    "'''\n",
    "psi = np.array(DensityMatrix.from_instruction(state.reverse_bits()))\n",
    "rho = prune(pt(psi, [2], [2, 2])) #rho_S\n",
    "print(rho)"
   ]
  },
  {
   "cell_type": "code",
   "execution_count": 81,
   "id": "7b8f3a34",
   "metadata": {},
   "outputs": [],
   "source": [
    "'''\n",
    "Define matrix representations of required gates.\n",
    "'''\n",
    "I = np.array([[1, 0], [0, 1]])\n",
    "U0_1qubit = np.array([[np.exp(1j*np.pi/3), 0], [0, np.exp(-1j*np.pi/3)]], dtype=complex)\n",
    "U0 = np.kron(U0_1qubit, U0_1qubit)\n",
    "U2 = np.matmul(U0, U0)"
   ]
  },
  {
   "cell_type": "code",
   "execution_count": 82,
   "id": "3be1f2d9",
   "metadata": {},
   "outputs": [],
   "source": [
    "'''\n",
    "Create list of group elements.\n",
    "'''\n",
    "lis = []\n",
    "lis.append(np.kron(I, I))\n",
    "lis.append(U0)\n",
    "lis.append(U2)"
   ]
  },
  {
   "cell_type": "code",
   "execution_count": 83,
   "id": "cc54aec4",
   "metadata": {},
   "outputs": [
    {
     "name": "stdout",
     "output_type": "stream",
     "text": [
      "[[-1.11022302e-16+1.11022302e-16j  0.00000000e+00+0.00000000e+00j\n",
      "   0.00000000e+00+0.00000000e+00j  0.00000000e+00+0.00000000e+00j]\n",
      " [ 0.00000000e+00+0.00000000e+00j  1.00000000e+00+0.00000000e+00j\n",
      "   0.00000000e+00+0.00000000e+00j  0.00000000e+00+0.00000000e+00j]\n",
      " [ 0.00000000e+00+0.00000000e+00j  0.00000000e+00+0.00000000e+00j\n",
      "   1.00000000e+00+0.00000000e+00j  0.00000000e+00+0.00000000e+00j]\n",
      " [ 0.00000000e+00+0.00000000e+00j  0.00000000e+00+0.00000000e+00j\n",
      "   0.00000000e+00+0.00000000e+00j -1.11022302e-16-1.11022302e-16j]]\n"
     ]
    }
   ],
   "source": [
    "'''\n",
    "Create group projector.\n",
    "'''\n",
    "Pi_SR = np.zeros(np.kron(I, I).shape, dtype=complex)\n",
    "for item in lis:\n",
    "    Pi_SR += (1/len(lis))*item\n",
    "print(Pi_SR)"
   ]
  },
  {
   "cell_type": "code",
   "execution_count": 84,
   "id": "e2bd4d30",
   "metadata": {},
   "outputs": [
    {
     "name": "stdout",
     "output_type": "stream",
     "text": [
      "WARN: A->p (column pointers) not strictly increasing, column 25 empty\n",
      "WARN: A->p (column pointers) not strictly increasing, column 30 empty\n",
      "Root Fidelity is : 0.965925825260371\n"
     ]
    }
   ],
   "source": [
    "'''\n",
    "SDP to calculate the Fidelity. Refer to Section 5.\n",
    "'''\n",
    "shape = rho.shape\n",
    "\n",
    "X = cp.Variable(shape, complex=True)\n",
    "omega = cp.Variable(Pi_SR.shape, complex=True)\n",
    "G = cp.bmat([[rho, X.H],[X, pt(omega, [2], [2, 2])]])\n",
    "\n",
    "c = [omega>>0, G>>0, cp.real(cp.trace(omega))==1]\n",
    "\n",
    "'''\n",
    "Add the constraint to ensure that sig is G-Bose symmetric extendible\n",
    "'''\n",
    "c.append(omega == Pi_SR@omega@Pi_SR)\n",
    "\n",
    "obj = cp.Maximize(cp.real(cp.trace(X)))\n",
    "problem = cp.Problem(obj, constraints = c)\n",
    "rootFid = problem.solve()\n",
    "print(\"Root Fidelity is : \" + str(rootFid))"
   ]
  },
  {
   "cell_type": "code",
   "execution_count": 85,
   "id": "88930506",
   "metadata": {},
   "outputs": [
    {
     "name": "stdout",
     "output_type": "stream",
     "text": [
      "Fidelity is : 0.9330126999049287\n"
     ]
    }
   ],
   "source": [
    "print(\"Fidelity is : \" + str(rootFid**2))"
   ]
  },
  {
   "cell_type": "code",
   "execution_count": null,
   "id": "0989442b",
   "metadata": {},
   "outputs": [],
   "source": []
  }
 ],
 "metadata": {
  "kernelspec": {
   "display_name": "Python 3",
   "language": "python",
   "name": "python3"
  },
  "language_info": {
   "codemirror_mode": {
    "name": "ipython",
    "version": 3
   },
   "file_extension": ".py",
   "mimetype": "text/x-python",
   "name": "python",
   "nbconvert_exporter": "python",
   "pygments_lexer": "ipython3",
   "version": "3.9.6"
  }
 },
 "nbformat": 4,
 "nbformat_minor": 5
}
