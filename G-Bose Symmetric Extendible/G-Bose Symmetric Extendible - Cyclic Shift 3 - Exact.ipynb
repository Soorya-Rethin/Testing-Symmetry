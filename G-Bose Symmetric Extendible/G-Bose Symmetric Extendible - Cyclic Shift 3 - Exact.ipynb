{
 "cells": [
  {
   "cell_type": "code",
   "execution_count": 1,
   "id": "0e2cf47a",
   "metadata": {},
   "outputs": [],
   "source": [
    "#Import Relevant Libraries\n",
    "import random\n",
    "import numpy as np\n",
    "import cvxpy as cp\n",
    "\n",
    "from qiskit import QuantumCircuit, execute, Aer, IBMQ, BasicAer\n",
    "from qiskit.visualization import plot_histogram, plot_state_qsphere as plot_q\n",
    "from qiskit.quantum_info import Statevector\n",
    "\n",
    "from qiskit import quantum_info as qi\n",
    "from toqito.channel_metrics import channel_fidelity\n",
    "\n",
    "from toqito.state_metrics import fidelity\n",
    "from toqito.channels import partial_trace as pt\n",
    "from qiskit.quantum_info import DensityMatrix, state_fidelity, partial_trace"
   ]
  },
  {
   "cell_type": "code",
   "execution_count": 2,
   "id": "0a73ceb2",
   "metadata": {},
   "outputs": [],
   "source": [
    "unitary_param_1 = [4.20362003, 5.93582256, 1.13444277, 0.80707608, 3.4027251, 0.82820306,\n",
    "                   0.66563292, 4.04077958]"
   ]
  },
  {
   "cell_type": "code",
   "execution_count": 3,
   "id": "780cd4b6",
   "metadata": {},
   "outputs": [
    {
     "data": {
      "image/png": "[encoded data removed]",
      "text/plain": [
       "<Figure size 621.739x200.667 with 1 Axes>"
      ]
     },
     "execution_count": 3,
     "metadata": {},
     "output_type": "execute_result"
    }
   ],
   "source": [
    "#State \\rho_SR\n",
    "size = 2\n",
    "layers = 2\n",
    "state = QuantumCircuit(size)\n",
    "for j in range(layers):\n",
    "    for i in range(size):\n",
    "        state.rx(unitary_param_1[j*size*2 + i], i)\n",
    "        state.ry(unitary_param_1[j*2*size + i + size], i)\n",
    "\n",
    "    for i in range(size-1):\n",
    "        state.cx(i, i+1)\n",
    "\n",
    "state.draw('mpl')"
   ]
  },
  {
   "cell_type": "code",
   "execution_count": 91,
   "id": "5640a517",
   "metadata": {},
   "outputs": [
    {
     "data": {
      "image/png": "[encoded data removed]",
      "text/plain": [
       "<Figure size 287.294x200.667 with 1 Axes>"
      ]
     },
     "execution_count": 91,
     "metadata": {},
     "output_type": "execute_result"
    }
   ],
   "source": [
    "qcTest = QuantumCircuit(2)\n",
    "qcTest.h(0)\n",
    "qcTest.cx(0, 1)\n",
    "qcTest.draw('mpl')"
   ]
  },
  {
   "cell_type": "code",
   "execution_count": 92,
   "id": "34a6f1ff",
   "metadata": {},
   "outputs": [
    {
     "name": "stdout",
     "output_type": "stream",
     "text": [
      "0 (0.7071067811865476+0j)\n",
      "3 (0.7071067811865475+0j)\n"
     ]
    }
   ],
   "source": [
    "backend = Aer.get_backend('statevector_simulator')\n",
    "result = execute(qcTest.reverse_bits(), backend).result().get_statevector()\n",
    "for i in range(len(result)):\n",
    "    if np.abs(result[i])>=1e-6:\n",
    "        print(i, result[i])"
   ]
  },
  {
   "cell_type": "code",
   "execution_count": 93,
   "id": "7b8f3a34",
   "metadata": {},
   "outputs": [],
   "source": [
    "I = np.array([[1, 0], [0, 1]])\n",
    "CNOT = np.array([[1, 0, 0, 0], [0, 1, 0, 0], [0, 0, 0, 1], [0, 0, 1, 0]])\n",
    "SWAP = np.array([[1, 0, 0, 0], [0, 0, 1, 0], [0, 1, 0, 0], [0, 0, 0, 1]])"
   ]
  },
  {
   "cell_type": "code",
   "execution_count": 94,
   "id": "3be1f2d9",
   "metadata": {},
   "outputs": [],
   "source": [
    "lis = []\n",
    "lis.append(np.kron(I, I))\n",
    "temp = np.matmul(SWAP, CNOT)\n",
    "lis.append(temp)\n",
    "lis.append(np.matmul(temp, temp))"
   ]
  },
  {
   "cell_type": "code",
   "execution_count": 95,
   "id": "cc54aec4",
   "metadata": {},
   "outputs": [
    {
     "name": "stdout",
     "output_type": "stream",
     "text": [
      "[[1.         0.         0.         0.        ]\n",
      " [0.         0.33333333 0.33333333 0.33333333]\n",
      " [0.         0.33333333 0.33333333 0.33333333]\n",
      " [0.         0.33333333 0.33333333 0.33333333]]\n"
     ]
    }
   ],
   "source": [
    "Pi_SR = np.zeros(np.kron(I, I).shape)\n",
    "for item in lis:\n",
    "    Pi_SR += (1/len(lis))*item\n",
    "print(Pi_SR)"
   ]
  },
  {
   "cell_type": "code",
   "execution_count": 96,
   "id": "d77f35e9",
   "metadata": {},
   "outputs": [
    {
     "name": "stdout",
     "output_type": "stream",
     "text": [
      "[[0.5+0.j 0. +0.j]\n",
      " [0. +0.j 0.5+0.j]]\n"
     ]
    }
   ],
   "source": [
    "psi = np.array(DensityMatrix.from_instruction(qcTest.reverse_bits()))\n",
    "rho = pt(psi, [2], [2, 2]) #rho_S\n",
    "print(rho)"
   ]
  },
  {
   "cell_type": "code",
   "execution_count": 97,
   "id": "e2bd4d30",
   "metadata": {},
   "outputs": [
    {
     "name": "stdout",
     "output_type": "stream",
     "text": [
      "WARN: A->p (column pointers) not strictly increasing, column 20 empty\n",
      "Root Fidelity is : 0.9999998548637666\n"
     ]
    }
   ],
   "source": [
    "shape = rho.shape\n",
    "\n",
    "X = cp.Variable(shape, complex=True)\n",
    "omega = cp.Variable(Pi_SR.shape, complex=True)\n",
    "G = cp.bmat([[rho, X.H],[X, pt(omega, [2], [2, 2])]])\n",
    "\n",
    "c = [omega>>0, G>>0, cp.real(cp.trace(omega))==1]\n",
    "\n",
    "c.append(omega == Pi_SR@omega@Pi_SR)\n",
    "\n",
    "obj = cp.Maximize(cp.real(cp.trace(X)))\n",
    "problem = cp.Problem(obj, constraints = c)\n",
    "rootFid = problem.solve()\n",
    "print(\"Root Fidelity is : \" + str(rootFid))"
   ]
  },
  {
   "cell_type": "code",
   "execution_count": 98,
   "id": "88930506",
   "metadata": {},
   "outputs": [
    {
     "name": "stdout",
     "output_type": "stream",
     "text": [
      "Fidelity is : 0.9999997097275544\n"
     ]
    }
   ],
   "source": [
    "print(\"Fidelity is : \" + str(rootFid**2))"
   ]
  },
  {
   "cell_type": "code",
   "execution_count": null,
   "id": "d62ec642",
   "metadata": {},
   "outputs": [],
   "source": []
  }
 ],
 "metadata": {
  "kernelspec": {
   "display_name": "Python 3",
   "language": "python",
   "name": "python3"
  },
  "language_info": {
   "codemirror_mode": {
    "name": "ipython",
    "version": 3
   },
   "file_extension": ".py",
   "mimetype": "text/x-python",
   "name": "python",
   "nbconvert_exporter": "python",
   "pygments_lexer": "ipython3",
   "version": "3.9.6"
  }
 },
 "nbformat": 4,
 "nbformat_minor": 5
}
