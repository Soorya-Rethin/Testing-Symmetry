{
 "cells": [
  {
   "cell_type": "code",
   "execution_count": 1,
   "id": "0e2cf47a",
   "metadata": {},
   "outputs": [],
   "source": [
    "#Import Relevant Libraries\n",
    "import random\n",
    "import numpy as np\n",
    "import cvxpy as cp\n",
    "\n",
    "from qiskit import QuantumCircuit, execute, Aer, IBMQ, BasicAer\n",
    "from qiskit.visualization import plot_histogram, plot_state_qsphere as plot_q\n",
    "from qiskit.quantum_info import Statevector\n",
    "\n",
    "from qiskit import quantum_info as qi\n",
    "from toqito.channel_metrics import channel_fidelity\n",
    "\n",
    "from toqito.state_metrics import fidelity\n",
    "from toqito.channels import partial_trace as pt\n",
    "from qiskit.quantum_info import DensityMatrix, state_fidelity, partial_trace"
   ]
  },
  {
   "cell_type": "code",
   "execution_count": 2,
   "id": "7b8f3a34",
   "metadata": {},
   "outputs": [],
   "source": [
    "zero = np.array([[1, 0], [0, 0]], dtype=complex)\n",
    "one = np.array([[0, 0], [0, 1]], dtype=complex)\n",
    "I = np.array([[1, 0], [0, 1]], dtype=complex)\n",
    "X = np.array([[0, 1], [1, 0]], dtype=complex)\n",
    "Y = np.array([[0, -1j], [1j, 0]], dtype=complex)\n",
    "Z = np.array([[1, 0], [0, -1]], dtype=complex)"
   ]
  },
  {
   "cell_type": "code",
   "execution_count": 3,
   "id": "696d63ca",
   "metadata": {},
   "outputs": [],
   "source": [
    "lis = []\n",
    "lis.append(np.kron(zero, I) + np.kron(one, I))\n",
    "lis.append(np.kron(zero, I) + np.kron(one, -I))\n",
    "lis.append(np.kron(zero, I) + np.kron(one, -1j*X))\n",
    "lis.append(np.kron(zero, I) + np.kron(one, 1j*X))\n",
    "lis.append(np.kron(zero, I) + np.kron(one, -1j*Y))\n",
    "lis.append(np.kron(zero, I) + np.kron(one, 1j*Y))\n",
    "lis.append(np.kron(zero, I) + np.kron(one, -1j*Z))\n",
    "lis.append(np.kron(zero, I) + np.kron(one, 1j*Z))"
   ]
  },
  {
   "cell_type": "code",
   "execution_count": 4,
   "id": "0a73ceb2",
   "metadata": {},
   "outputs": [],
   "source": [
    "unitary_param_1 = [3.24383098, 3.50187279, 1.26248366, 1.99354817, 4.28031102, 5.99851666, 3.03466457, 4.21065453]"
   ]
  },
  {
   "cell_type": "code",
   "execution_count": 5,
   "id": "780cd4b6",
   "metadata": {},
   "outputs": [
    {
     "data": {
      "image/png": "[encoded data removed]",
      "text/plain": [
       "<Figure size 621.739x200.667 with 1 Axes>"
      ]
     },
     "execution_count": 5,
     "metadata": {},
     "output_type": "execute_result"
    }
   ],
   "source": [
    "#State \\rho_SR\n",
    "size = 2\n",
    "layers = 2\n",
    "state = QuantumCircuit(size)\n",
    "for j in range(layers):\n",
    "    for i in range(size):\n",
    "        state.rx(unitary_param_1[j*size*2 + i], i)\n",
    "        state.ry(unitary_param_1[j*2*size + i + size], i)\n",
    "\n",
    "    for i in range(size-1):\n",
    "        state.cx(i, i+1)\n",
    "\n",
    "state.draw('mpl')"
   ]
  },
  {
   "cell_type": "code",
   "execution_count": 6,
   "id": "5640a517",
   "metadata": {},
   "outputs": [
    {
     "data": {
      "image/png": "[encoded data removed]",
      "text/plain": [
       "<Figure size 287.294x200.667 with 1 Axes>"
      ]
     },
     "execution_count": 6,
     "metadata": {},
     "output_type": "execute_result"
    }
   ],
   "source": [
    "qcTest = QuantumCircuit(2)\n",
    "qcTest.ry(1.26, 0)\n",
    "qcTest.ry(1.99, 1)\n",
    "qcTest.cx(0, 1)\n",
    "qcTest.draw('mpl')"
   ]
  },
  {
   "cell_type": "code",
   "execution_count": 7,
   "id": "d77f35e9",
   "metadata": {},
   "outputs": [
    {
     "name": "stdout",
     "output_type": "stream",
     "text": [
      "[[0.65290845+0.j 0.43482602+0.j]\n",
      " [0.43482602+0.j 0.34709155+0.j]]\n"
     ]
    }
   ],
   "source": [
    "psi = np.array(DensityMatrix.from_instruction(qcTest.reverse_bits()))\n",
    "rho = pt(psi, [2], [2, 2]) #rho_S\n",
    "print(rho)"
   ]
  },
  {
   "cell_type": "code",
   "execution_count": 8,
   "id": "e2bd4d30",
   "metadata": {},
   "outputs": [
    {
     "name": "stdout",
     "output_type": "stream",
     "text": [
      "WARN: A->p (column pointers) not strictly increasing, column 20 empty\n",
      "WARN: A->p (column pointers) not strictly increasing, column 25 empty\n",
      "Root Fidelity is : 0.8641947708227969\n"
     ]
    }
   ],
   "source": [
    "shape = rho.shape\n",
    "\n",
    "X = cp.Variable(shape, complex=True)\n",
    "omega = cp.Variable(np.kron(I, I).shape, complex=True)\n",
    "G = cp.bmat([[rho, X.H],[X, pt(omega, [2], [2, 2])]])\n",
    "\n",
    "c = [omega>>0, G>>0, cp.real(cp.trace(omega))==1]\n",
    "\n",
    "for item in lis:\n",
    "    c.append(omega@item == item@omega)\n",
    "\n",
    "obj = cp.Maximize(cp.real(cp.trace(X)))\n",
    "problem = cp.Problem(obj, constraints = c)\n",
    "rootFid = problem.solve()\n",
    "print(\"Root Fidelity is : \" + str(rootFid))"
   ]
  },
  {
   "cell_type": "code",
   "execution_count": 9,
   "id": "88930506",
   "metadata": {},
   "outputs": [
    {
     "name": "stdout",
     "output_type": "stream",
     "text": [
      "Fidelity is : 0.7468326019174665\n"
     ]
    }
   ],
   "source": [
    "print(\"Fidelity is : \" + str(rootFid**2))"
   ]
  },
  {
   "cell_type": "code",
   "execution_count": null,
   "id": "f8f9e977",
   "metadata": {},
   "outputs": [],
   "source": []
  }
 ],
 "metadata": {
  "kernelspec": {
   "display_name": "Python 3",
   "language": "python",
   "name": "python3"
  },
  "language_info": {
   "codemirror_mode": {
    "name": "ipython",
    "version": 3
   },
   "file_extension": ".py",
   "mimetype": "text/x-python",
   "name": "python",
   "nbconvert_exporter": "python",
   "pygments_lexer": "ipython3",
   "version": "3.9.6"
  }
 },
 "nbformat": 4,
 "nbformat_minor": 5
}
