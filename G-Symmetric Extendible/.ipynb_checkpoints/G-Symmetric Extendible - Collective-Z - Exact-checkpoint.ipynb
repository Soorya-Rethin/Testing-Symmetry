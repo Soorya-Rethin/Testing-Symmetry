{
 "cells": [
  {
   "cell_type": "code",
   "execution_count": 1,
   "id": "0e2cf47a",
   "metadata": {},
   "outputs": [],
   "source": [
    "#Import Relevant Libraries\n",
    "import random\n",
    "import numpy as np\n",
    "import cvxpy as cp\n",
    "\n",
    "from qiskit import QuantumCircuit, execute, Aer, IBMQ, BasicAer\n",
    "from qiskit.visualization import plot_histogram, plot_state_qsphere as plot_q\n",
    "from qiskit.quantum_info import Statevector\n",
    "\n",
    "from qiskit import quantum_info as qi\n",
    "from toqito.channel_metrics import channel_fidelity\n",
    "\n",
    "from toqito.state_metrics import fidelity\n",
    "from toqito.channels import partial_trace as pt\n",
    "from qiskit.quantum_info import DensityMatrix, state_fidelity, partial_trace"
   ]
  },
  {
   "cell_type": "code",
   "execution_count": 2,
   "id": "0a73ceb2",
   "metadata": {},
   "outputs": [],
   "source": [
    "unitary_param_1 = [4.76597606, 4.47050986, 4.19269861, 3.72124531, 4.94472091, 1.61563712,\n",
    "                   3.44120060, 3.24526326, 0.91836107, 1.32971456, 4.80863498, 0.54593609]"
   ]
  },
  {
   "cell_type": "code",
   "execution_count": 3,
   "id": "780cd4b6",
   "metadata": {},
   "outputs": [
    {
     "data": {
      "image/png": "[encoded data removed]",
      "text/plain": [
       "<Figure size 789.163x284.278 with 1 Axes>"
      ]
     },
     "execution_count": 3,
     "metadata": {},
     "output_type": "execute_result"
    }
   ],
   "source": [
    "#State \\rho_SR\n",
    "size = 3\n",
    "layers = 2\n",
    "state = QuantumCircuit(size)\n",
    "for j in range(layers):\n",
    "    for i in range(size):\n",
    "        state.rx(unitary_param_1[j*size*2 + i], i)\n",
    "        state.ry(unitary_param_1[j*2*size + i + size], i)\n",
    "\n",
    "    for i in range(size-1):\n",
    "        state.cx(i, i+1)\n",
    "\n",
    "state.draw('mpl')"
   ]
  },
  {
   "cell_type": "code",
   "execution_count": 11,
   "id": "7b8f3a34",
   "metadata": {},
   "outputs": [],
   "source": [
    "I = np.array([[1, 0], [0, 1]])\n",
    "U1_1qubit = np.array([[1, 0], [0, 1j]], dtype=complex)\n",
    "U1 = np.kron(np.kron(U1_1qubit, U1_1qubit), U1_1qubit)\n",
    "U2 = np.matmul(U1, U1)\n",
    "U3 = np.matmul(U2, U1)"
   ]
  },
  {
   "cell_type": "code",
   "execution_count": 12,
   "id": "696d63ca",
   "metadata": {},
   "outputs": [],
   "source": [
    "lis = []\n",
    "lis.append(np.kron(I, np.kron(I, I)))\n",
    "lis.append(U1)\n",
    "lis.append(U2)\n",
    "lis.append(U3)"
   ]
  },
  {
   "cell_type": "code",
   "execution_count": 77,
   "id": "5640a517",
   "metadata": {},
   "outputs": [
    {
     "data": {
      "image/png": "[encoded data removed]",
      "text/plain": [
       "<Figure size 371.107x284.278 with 1 Axes>"
      ]
     },
     "execution_count": 77,
     "metadata": {},
     "output_type": "execute_result"
    }
   ],
   "source": [
    "qcTest = QuantumCircuit(3)\n",
    "qcTest.rx(np.pi/4, 0)\n",
    "qcTest.ry(np.pi/4, 0)\n",
    "qcTest.rx(np.pi/4, 1)\n",
    "qcTest.ry(np.pi/4, 1)\n",
    "qcTest.cx(0, 1)\n",
    "qcTest.draw('mpl')"
   ]
  },
  {
   "cell_type": "code",
   "execution_count": 84,
   "id": "d77f35e9",
   "metadata": {},
   "outputs": [
    {
     "name": "stdout",
     "output_type": "stream",
     "text": [
      "[[0.75 +0.j        0.125+0.1767767j]\n",
      " [0.125-0.1767767j 0.25 +0.j       ]]\n"
     ]
    }
   ],
   "source": [
    "psi = np.array(DensityMatrix.from_instruction(qcTest.reverse_bits()))\n",
    "rho = pt(psi, [2, 3], [2, 2, 2]) #rho_S\n",
    "print(rho)"
   ]
  },
  {
   "cell_type": "code",
   "execution_count": 85,
   "id": "e2bd4d30",
   "metadata": {},
   "outputs": [
    {
     "name": "stdout",
     "output_type": "stream",
     "text": [
      "WARN: A->p (column pointers) not strictly increasing, column 68 empty\n",
      "WARN: A->p (column pointers) not strictly increasing, column 77 empty\n",
      "WARN: A->p (column pointers) not strictly increasing, column 86 empty\n",
      "WARN: A->p (column pointers) not strictly increasing, column 95 empty\n",
      "WARN: A->p (column pointers) not strictly increasing, column 104 empty\n",
      "WARN: A->p (column pointers) not strictly increasing, column 113 empty\n",
      "WARN: A->p (column pointers) not strictly increasing, column 122 empty\n",
      "WARN: A->p (column pointers) not strictly increasing, column 131 empty\n",
      "Root Fidelity is : 0.9750353374848533\n"
     ]
    }
   ],
   "source": [
    "shape = rho.shape\n",
    "\n",
    "X = cp.Variable(shape, complex=True)\n",
    "omega = cp.Variable(U1.shape, complex=True)\n",
    "G = cp.bmat([[rho, X.H],[X, pt(omega, [2, 3], [2, 2, 2])]])\n",
    "\n",
    "c = [omega>>0, G>>0, cp.real(cp.trace(omega))==1]\n",
    "\n",
    "for item in lis:\n",
    "    c.append(omega@item == item@omega)\n",
    "\n",
    "obj = cp.Maximize(cp.real(cp.trace(X)))\n",
    "problem = cp.Problem(obj, constraints = c)\n",
    "rootFid = problem.solve()\n",
    "print(\"Root Fidelity is : \" + str(rootFid))"
   ]
  },
  {
   "cell_type": "code",
   "execution_count": 86,
   "id": "88930506",
   "metadata": {},
   "outputs": [
    {
     "name": "stdout",
     "output_type": "stream",
     "text": [
      "Fidelity is : 0.9506939093442017\n"
     ]
    }
   ],
   "source": [
    "print(\"Fidelity is : \" + str(rootFid**2))"
   ]
  },
  {
   "cell_type": "code",
   "execution_count": null,
   "id": "f8f9e977",
   "metadata": {},
   "outputs": [],
   "source": []
  }
 ],
 "metadata": {
  "kernelspec": {
   "display_name": "Python 3",
   "language": "python",
   "name": "python3"
  },
  "language_info": {
   "codemirror_mode": {
    "name": "ipython",
    "version": 3
   },
   "file_extension": ".py",
   "mimetype": "text/x-python",
   "name": "python",
   "nbconvert_exporter": "python",
   "pygments_lexer": "ipython3",
   "version": "3.9.6"
  }
 },
 "nbformat": 4,
 "nbformat_minor": 5
}
