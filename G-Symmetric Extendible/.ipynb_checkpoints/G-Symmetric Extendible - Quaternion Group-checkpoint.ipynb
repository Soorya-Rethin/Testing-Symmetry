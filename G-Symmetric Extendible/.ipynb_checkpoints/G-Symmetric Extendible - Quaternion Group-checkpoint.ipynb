{
 "cells": [
  {
   "cell_type": "code",
   "execution_count": 1,
   "id": "442a0c10",
   "metadata": {},
   "outputs": [],
   "source": [
    "import math\n",
    "import random\n",
    "import numpy as np\n",
    "from itertools import product\n",
    "\n",
    "from qiskit import *\n",
    "\n",
    "# Importing standard Qiskit libraries\n",
    "from qiskit.tools.jupyter import *\n",
    "from qiskit.visualization import *\n",
    "from qiskit.providers.aer import QasmSimulator\n",
    "\n",
    "import matplotlib.pyplot as plt\n",
    "plt.rcParams['font.size'] = 14\n",
    "\n",
    "from qiskit.utils import QuantumInstance\n",
    "\n",
    "from qiskit.opflow import I, X, Y, Z\n",
    "from qiskit.opflow import StateFn\n",
    "from qiskit.opflow import Gradient\n",
    "from qiskit.opflow import CircuitSampler\n",
    "from qiskit.opflow.primitive_ops import MatrixOp\n",
    "\n",
    "from qiskit.circuit import Parameter\n",
    "from qiskit.circuit import QuantumCircuit\n",
    "from qiskit.circuit import ParameterVector\n",
    "from qiskit.circuit.library import RealAmplitudes\n",
    "\n",
    "from qiskit.algorithms.optimizers import SPSA\n",
    "from qiskit.algorithms.optimizers import GradientDescent\n",
    "from qiskit.algorithms.optimizers import ADAM\n",
    "\n",
    "from qiskit.providers.aer.noise import NoiseModel\n",
    "\n",
    "from qiskit.quantum_info import Statevector\n",
    "from qiskit.ignis.mitigation.measurement import CompleteMeasFitter"
   ]
  },
  {
   "cell_type": "code",
   "execution_count": 2,
   "id": "eb0f23d2",
   "metadata": {},
   "outputs": [],
   "source": [
    "provider = IBMQ.load_account()"
   ]
  },
  {
   "cell_type": "code",
   "execution_count": 3,
   "id": "5951164c",
   "metadata": {},
   "outputs": [],
   "source": [
    "def rand_numb(low_in,high_in):\n",
    "    return np.random.uniform(low=low_in, high=np.nextafter(high_in, np.inf))\n",
    "\n",
    "#just to keep the upper limit included in the random number generation. "
   ]
  },
  {
   "cell_type": "code",
   "execution_count": 4,
   "id": "3b8b7b5b",
   "metadata": {},
   "outputs": [],
   "source": [
    "def append(list1, list2):\n",
    "    temp = []\n",
    "    temp.extend(list1)\n",
    "    temp.extend(list2)\n",
    "    return temp"
   ]
  },
  {
   "cell_type": "code",
   "execution_count": 5,
   "id": "e5b5f3e1",
   "metadata": {},
   "outputs": [],
   "source": [
    "def createActual(x, L):\n",
    "    temp = []\n",
    "    for i in range(L):\n",
    "        temp = np.append(temp, x)\n",
    "    return temp"
   ]
  },
  {
   "cell_type": "code",
   "execution_count": 14,
   "id": "a273122f",
   "metadata": {},
   "outputs": [
    {
     "data": {
      "text/html": [
       "<pre style=\"word-wrap: normal;white-space: pre;background: #fff0;line-height: 1.1;font-family: &quot;Courier New&quot;,Courier,monospace\">     ┌───────┐\n",
       "q_0: ┤ Rx(π) ├\n",
       "     └───────┘</pre>"
      ],
      "text/plain": [
       "     ┌───────┐\n",
       "q_0: ┤ Rx(π) ├\n",
       "     └───────┘"
      ]
     },
     "execution_count": 14,
     "metadata": {},
     "output_type": "execute_result"
    }
   ],
   "source": [
    "mix = QuantumCircuit(1)\n",
    "mix.rx(np.pi, 0)\n",
    "\n",
    "ix = QuantumCircuit(1)\n",
    "ix.rx(3*np.pi, 0)\n",
    "mix.draw()"
   ]
  },
  {
   "cell_type": "code",
   "execution_count": 15,
   "id": "1f26dd50",
   "metadata": {},
   "outputs": [
    {
     "data": {
      "text/html": [
       "<pre style=\"word-wrap: normal;white-space: pre;background: #fff0;line-height: 1.1;font-family: &quot;Courier New&quot;,Courier,monospace\">     ┌───────┐\n",
       "q_0: ┤ Ry(π) ├\n",
       "     └───────┘</pre>"
      ],
      "text/plain": [
       "     ┌───────┐\n",
       "q_0: ┤ Ry(π) ├\n",
       "     └───────┘"
      ]
     },
     "execution_count": 15,
     "metadata": {},
     "output_type": "execute_result"
    }
   ],
   "source": [
    "miy = QuantumCircuit(1)\n",
    "miy.ry(np.pi, 0)\n",
    "miy.draw()"
   ]
  },
  {
   "cell_type": "code",
   "execution_count": 16,
   "id": "f7e1dcd7",
   "metadata": {},
   "outputs": [
    {
     "data": {
      "text/html": [
       "<pre style=\"word-wrap: normal;white-space: pre;background: #fff0;line-height: 1.1;font-family: &quot;Courier New&quot;,Courier,monospace\">     ┌───────┐\n",
       "q_0: ┤ Rz(π) ├\n",
       "     └───────┘</pre>"
      ],
      "text/plain": [
       "     ┌───────┐\n",
       "q_0: ┤ Rz(π) ├\n",
       "     └───────┘"
      ]
     },
     "execution_count": 16,
     "metadata": {},
     "output_type": "execute_result"
    }
   ],
   "source": [
    "miz = QuantumCircuit(1)\n",
    "miz.rz(np.pi, 0)\n",
    "\n",
    "iz = QuantumCircuit(1)\n",
    "iz.rz(3*np.pi, 0)\n",
    "miz.draw()"
   ]
  },
  {
   "cell_type": "code",
   "execution_count": 17,
   "id": "fd179103",
   "metadata": {},
   "outputs": [
    {
     "data": {
      "text/html": [
       "<pre style=\"word-wrap: normal;white-space: pre;background: #fff0;line-height: 1.1;font-family: &quot;Courier New&quot;,Courier,monospace\">     ┌────────┐\n",
       "q_0: ┤ Rz(2π) ├\n",
       "     └────────┘</pre>"
      ],
      "text/plain": [
       "     ┌────────┐\n",
       "q_0: ┤ Rz(2π) ├\n",
       "     └────────┘"
      ]
     },
     "execution_count": 17,
     "metadata": {},
     "output_type": "execute_result"
    }
   ],
   "source": [
    "mi = QuantumCircuit(1)\n",
    "mi.rz(2*np.pi, 0)\n",
    "mi.draw()"
   ]
  },
  {
   "cell_type": "code",
   "execution_count": 18,
   "id": "0b39d195",
   "metadata": {},
   "outputs": [],
   "source": [
    "numLayer = 3\n",
    "numQubit = 3\n",
    "global iterations\n",
    "global noisy"
   ]
  },
  {
   "cell_type": "code",
   "execution_count": 19,
   "id": "80fe7e12",
   "metadata": {},
   "outputs": [],
   "source": [
    "#Create unitaries here\n",
    "unitary_param_1 = np.array([])\n",
    "for i in range(0, 8):\n",
    "    unitary_param_1 = np.append(unitary_param_1, np.array([rand_numb(0,2*np.pi)]))\n",
    "\n",
    "unitary_param_1 = [3.24383098, 3.50187279, 1.26248366, 1.99354817, 4.28031102, 5.99851666, 3.03466457, 4.21065453]"
   ]
  },
  {
   "cell_type": "code",
   "execution_count": 20,
   "id": "e30234ee",
   "metadata": {},
   "outputs": [
    {
     "name": "stdout",
     "output_type": "stream",
     "text": [
      "[3.24383098, 3.50187279, 1.26248366, 1.99354817, 4.28031102, 5.99851666, 3.03466457, 4.21065453]\n"
     ]
    }
   ],
   "source": [
    "print(unitary_param_1)"
   ]
  },
  {
   "cell_type": "code",
   "execution_count": 21,
   "id": "f7b2580e",
   "metadata": {},
   "outputs": [
    {
     "data": {
      "image/png": "[encoded data removed]",
      "text/plain": [
       "<Figure size 621.739x200.667 with 1 Axes>"
      ]
     },
     "execution_count": 21,
     "metadata": {},
     "output_type": "execute_result"
    }
   ],
   "source": [
    "# First unitary\n",
    "size = 2\n",
    "layers = 2\n",
    "state = QuantumCircuit(size)\n",
    "for j in range(layers):\n",
    "    for i in range(size):\n",
    "        state.rx(unitary_param_1[j*size*2 + i], i)\n",
    "        state.ry(unitary_param_1[j*2*size + i + size], i)\n",
    "\n",
    "    for i in range(size-1):\n",
    "        state.cx(i, i+1)\n",
    "\n",
    "state.draw('mpl')"
   ]
  },
  {
   "cell_type": "code",
   "execution_count": 22,
   "id": "a70b9bce",
   "metadata": {},
   "outputs": [],
   "source": [
    "def createProver(numQubit, numLayer):\n",
    "    numparam = numQubit*numLayer*2\n",
    "    prover = QuantumCircuit(numQubit)\n",
    "    param_vector = ParameterVector(\"params\", numparam)\n",
    "    \n",
    "    for j in range(numLayer):\n",
    "        for i in range(numQubit):\n",
    "            prover.rx(param_vector[j*2*numQubit + i], i)\n",
    "            prover.ry(param_vector[j*2*numQubit + i + numQubit], i)\n",
    "\n",
    "        for i in range(numQubit-1):\n",
    "            prover.cx(i, i+1)\n",
    "            \n",
    "    return prover"
   ]
  },
  {
   "cell_type": "code",
   "execution_count": 23,
   "id": "4fcd4cfb",
   "metadata": {},
   "outputs": [],
   "source": [
    "def createEqSuperposQuaternionSE():\n",
    "    temp = QuantumCircuit(3)\n",
    "    temp.h(0)\n",
    "    temp.h(1)\n",
    "    temp.h(2)\n",
    "    return temp"
   ]
  },
  {
   "cell_type": "code",
   "execution_count": 58,
   "id": "6691b676",
   "metadata": {},
   "outputs": [
    {
     "data": {
      "image/png": "[encoded data removed]",
      "text/plain": [
       "<Figure size 203.683x200.667 with 1 Axes>"
      ]
     },
     "execution_count": 58,
     "metadata": {},
     "output_type": "execute_result"
    }
   ],
   "source": [
    "qcTest = QuantumCircuit(2)\n",
    "qcTest.x(0)\n",
    "qcTest.draw('mpl')"
   ]
  },
  {
   "cell_type": "code",
   "execution_count": 70,
   "id": "e4092139",
   "metadata": {},
   "outputs": [],
   "source": [
    "def createQuantumCircuit(numQubit, numLayer):\n",
    "    circ = QuantumCircuit(7)\n",
    "    #Create Quantum Circuit here\n",
    "    \n",
    "    superPosCircuit = createEqSuperposQuaternionSE()\n",
    "    circ.append(superPosCircuit, [0, 1, 2])\n",
    "\n",
    "    circ.append(state, [3, 4])\n",
    "    \n",
    "    prover = createProver(numQubit, numLayer)\n",
    "    circ.append(prover, [4, 5, 6])\n",
    "    \n",
    "    custom = miz.to_gate().control(2)\n",
    "    circ.append(custom, [0, 3, 4])\n",
    "    custom = iz.to_gate().control(2)\n",
    "    circ.append(custom, [0, 5, 6])\n",
    "    \n",
    "    custom = miy.to_gate().control(2)\n",
    "    circ.append(custom, [1, 3, 4])\n",
    "    circ.append(custom, [1, 5, 6])\n",
    "\n",
    "    custom = mix.to_gate().control(2)\n",
    "    circ.append(custom, [2, 3, 4])\n",
    "    custom = ix.to_gate().control(2)\n",
    "    circ.append(custom, [2, 5, 6])\n",
    "\n",
    "    circ.x(0)\n",
    "    custom = mi.to_gate().control(3)\n",
    "    circ.append(custom, [0, 2, 3, 4])\n",
    "    circ.append(custom, [0, 2, 5, 6])\n",
    "    circ.x(0)\n",
    "    \n",
    "    circ.append(superPosCircuit.inverse(), [0, 1, 2])\n",
    "    \n",
    "    return circ"
   ]
  },
  {
   "cell_type": "code",
   "execution_count": 71,
   "id": "c0893246",
   "metadata": {},
   "outputs": [
    {
     "data": {
      "image/png": "[encoded data removed]",
      "text/plain": [
       "<Figure size 2210.55x1287.61 with 1 Axes>"
      ]
     },
     "execution_count": 71,
     "metadata": {},
     "output_type": "execute_result"
    }
   ],
   "source": [
    "qCirc = createQuantumCircuit(numQubit, numLayer)\n",
    "qCirc.draw('mpl')"
   ]
  },
  {
   "cell_type": "code",
   "execution_count": 72,
   "id": "2ad3343b",
   "metadata": {},
   "outputs": [],
   "source": [
    "#use if noiseless\n",
    "noiseless_backend = Aer.get_backend('statevector_simulator')\n",
    "noiseless_q_instance = QuantumInstance(noiseless_backend)\n",
    "noiseless_sampler = CircuitSampler(noiseless_q_instance)"
   ]
  },
  {
   "cell_type": "code",
   "execution_count": 73,
   "id": "c13d9298",
   "metadata": {},
   "outputs": [],
   "source": [
    "#Use if noisy\n",
    "provider = IBMQ.get_provider(hub='ibm-q')\n",
    "noisy_backend = Aer.get_backend(\"qasm_simulator\")\n",
    "device = provider.get_backend(\"ibmq_lima\")\n",
    "coupling_map = device.configuration().coupling_map\n",
    "noise_model = NoiseModel.from_backend(device.properties())\n",
    "noisy_q_instance = QuantumInstance(backend=noisy_backend, \n",
    "                           shots=8192, \n",
    "                           noise_model=noise_model, \n",
    "                           coupling_map=coupling_map,\n",
    "                           measurement_error_mitigation_cls=CompleteMeasFitter,\n",
    "                           cals_matrix_refresh_period=30)\n",
    "noisy_sampler = CircuitSampler(noisy_q_instance)"
   ]
  },
  {
   "cell_type": "code",
   "execution_count": 74,
   "id": "03d15a2c",
   "metadata": {},
   "outputs": [],
   "source": [
    "#Create Hamiltonian here\n",
    "hamiltonian = I^I^I^I^MatrixOp(np.array([[1, 0], [0, 0]]))^MatrixOp(np.array([[1, 0], [0, 0]]))^MatrixOp(np.array([[1, 0], [0, 0]]))"
   ]
  },
  {
   "cell_type": "code",
   "execution_count": 75,
   "id": "360335df",
   "metadata": {},
   "outputs": [],
   "source": [
    "def costf(params):\n",
    "    expectation = StateFn(hamiltonian, is_measurement=True).compose(StateFn(qCirc))\n",
    "    value_dict = dict(zip(qCirc.parameters, params))\n",
    "    \n",
    "    if noisy:\n",
    "        result = noisy_sampler.convert(expectation, params=value_dict).eval()  \n",
    "    else:\n",
    "        result = noiseless_sampler.convert(expectation, params=value_dict).eval()  \n",
    "    \n",
    "    return -1*np.real(result)"
   ]
  },
  {
   "cell_type": "code",
   "execution_count": 76,
   "id": "fc3dce38",
   "metadata": {},
   "outputs": [],
   "source": [
    "def gradient(params):\n",
    "    expectation = StateFn(hamiltonian, is_measurement=True).compose(StateFn(qCirc))\n",
    "    value_dict = dict(zip(qCirc.parameters, params))\n",
    "    gradient = Gradient().convert(expectation)\n",
    "    \n",
    "    if noisy:\n",
    "        result = noisy_sampler.convert(gradient, params=value_dict).eval()  \n",
    "    else:\n",
    "        result = noiseless_sampler.convert(gradient, params=value_dict).eval()  \n",
    "    \n",
    "    return -1*np.real(result)"
   ]
  },
  {
   "cell_type": "code",
   "execution_count": 77,
   "id": "14898389",
   "metadata": {},
   "outputs": [
    {
     "name": "stdout",
     "output_type": "stream",
     "text": [
      "ParameterView([ParameterVectorElement(params[0]), ParameterVectorElement(params[1]), ParameterVectorElement(params[2]), ParameterVectorElement(params[3]), ParameterVectorElement(params[4]), ParameterVectorElement(params[5]), ParameterVectorElement(params[6]), ParameterVectorElement(params[7]), ParameterVectorElement(params[8]), ParameterVectorElement(params[9]), ParameterVectorElement(params[10]), ParameterVectorElement(params[11]), ParameterVectorElement(params[12]), ParameterVectorElement(params[13]), ParameterVectorElement(params[14]), ParameterVectorElement(params[15]), ParameterVectorElement(params[16]), ParameterVectorElement(params[17])])\n"
     ]
    }
   ],
   "source": [
    "print(qCirc.parameters)"
   ]
  },
  {
   "cell_type": "code",
   "execution_count": 96,
   "id": "341cf860",
   "metadata": {},
   "outputs": [],
   "source": [
    "def autospsa_callback(nfev, x, fx, stepsize, accepted = False):\n",
    "    if (noisy == True):\n",
    "        noisy_loss.append(-1*fx)\n",
    "    else:\n",
    "        noiseless_loss.append(-1*fx)\n",
    "    print(\"Loss Value : \", -1*fx, str(nfev/3)+\"%\")"
   ]
  },
  {
   "cell_type": "code",
   "execution_count": 97,
   "id": "fa2e5fc8",
   "metadata": {},
   "outputs": [
    {
     "name": "stdout",
     "output_type": "stream",
     "text": [
      "[5.77351582 0.71503032 4.36630877 3.97211599]\n",
      "Initial Cost :  0.5\n"
     ]
    }
   ],
   "source": [
    "numParam = 2*numQubit*numLayer\n",
    "noisy = False\n",
    "paramProver = []\n",
    "for i in range(0, numParam):\n",
    "    paramProver = np.append(paramProver, np.array([rand_numb(0,2*np.pi)]))\n",
    "print(paramProver)\n",
    "\n",
    "print(\"Initial Cost : \", -1*costf(paramProver))"
   ]
  },
  {
   "cell_type": "code",
   "execution_count": 98,
   "id": "fe0462e1",
   "metadata": {},
   "outputs": [],
   "source": [
    "true_value = 0.5"
   ]
  },
  {
   "cell_type": "code",
   "execution_count": 99,
   "id": "b4798d57",
   "metadata": {},
   "outputs": [
    {
     "name": "stdout",
     "output_type": "stream",
     "text": [
      "Initial Cost :  0.5\n",
      "Loss Value :  0.49999999999999983 1.0%\n",
      "Loss Value :  0.49999999999999983 2.0%\n",
      "Loss Value :  0.49999999999999994 3.0%\n",
      "Loss Value :  0.4999999999999999 4.0%\n",
      "Loss Value :  0.4999999999999999 5.0%\n",
      "Loss Value :  0.4999999999999999 6.0%\n",
      "Loss Value :  0.4999999999999999 7.0%\n",
      "Loss Value :  0.5000000000000001 8.0%\n",
      "Loss Value :  0.4999999999999999 9.0%\n",
      "Loss Value :  0.49999999999999994 10.0%\n",
      "Loss Value :  0.4999999999999999 11.0%\n",
      "Loss Value :  0.49999999999999983 12.0%\n",
      "Loss Value :  0.4999999999999999 13.0%\n",
      "Loss Value :  0.5 14.0%\n",
      "Loss Value :  0.4999999999999997 15.0%\n",
      "Loss Value :  0.49999999999999983 16.0%\n",
      "Loss Value :  0.49999999999999983 17.0%\n",
      "Loss Value :  0.5 18.0%\n",
      "Loss Value :  0.5000000000000002 19.0%\n",
      "Loss Value :  0.4999999999999999 20.0%\n",
      "Loss Value :  0.4999999999999999 21.0%\n",
      "Loss Value :  0.49999999999999994 22.0%\n",
      "Loss Value :  0.49999999999999967 23.0%\n",
      "Loss Value :  0.49999999999999967 24.0%\n",
      "Loss Value :  0.5 25.0%\n",
      "Loss Value :  0.5000000000000002 26.0%\n",
      "Loss Value :  0.49999999999999983 27.0%\n",
      "Loss Value :  0.5000000000000002 28.0%\n",
      "Loss Value :  0.5000000000000002 29.0%\n",
      "Loss Value :  0.49999999999999983 30.0%\n",
      "Loss Value :  0.4999999999999999 31.0%\n",
      "Loss Value :  0.5000000000000001 32.0%\n",
      "Loss Value :  0.49999999999999967 33.0%\n",
      "Loss Value :  0.49999999999999983 34.0%\n",
      "Loss Value :  0.49999999999999994 35.0%\n",
      "Loss Value :  0.5000000000000001 36.0%\n",
      "Loss Value :  0.4999999999999999 37.0%\n",
      "Loss Value :  0.49999999999999967 38.0%\n",
      "Loss Value :  0.5 39.0%\n",
      "Loss Value :  0.5 40.0%\n",
      "Loss Value :  0.49999999999999983 41.0%\n",
      "Loss Value :  0.5000000000000001 42.0%\n",
      "Loss Value :  0.5000000000000001 43.0%\n",
      "Loss Value :  0.5000000000000001 44.0%\n",
      "Loss Value :  0.5000000000000001 45.0%\n",
      "Loss Value :  0.5000000000000001 46.0%\n",
      "Loss Value :  0.5000000000000001 47.0%\n",
      "Loss Value :  0.5000000000000001 48.0%\n",
      "Loss Value :  0.5 49.0%\n",
      "Loss Value :  0.5000000000000002 50.0%\n",
      "Loss Value :  0.49999999999999944 51.0%\n",
      "Loss Value :  0.5000000000000001 52.0%\n",
      "Loss Value :  0.49999999999999967 53.0%\n",
      "Loss Value :  0.5000000000000004 54.0%\n",
      "Loss Value :  0.49999999999999956 55.0%\n",
      "Loss Value :  0.5 56.0%\n",
      "Loss Value :  0.4999999999999999 57.0%\n",
      "Loss Value :  0.5000000000000002 58.0%\n",
      "Loss Value :  0.5000000000000002 59.0%\n",
      "Loss Value :  0.5 60.0%\n",
      "Loss Value :  0.5 61.0%\n",
      "Loss Value :  0.5 62.0%\n",
      "Loss Value :  0.49999999999999967 63.0%\n",
      "Loss Value :  0.49999999999999983 64.0%\n",
      "Loss Value :  0.49999999999999983 65.0%\n",
      "Loss Value :  0.49999999999999983 66.0%\n",
      "Loss Value :  0.49999999999999983 67.0%\n",
      "Loss Value :  0.5 68.0%\n",
      "Loss Value :  0.49999999999999994 69.0%\n",
      "Loss Value :  0.49999999999999983 70.0%\n",
      "Loss Value :  0.5000000000000003 71.0%\n",
      "Loss Value :  0.49999999999999967 72.0%\n",
      "Loss Value :  0.49999999999999983 73.0%\n",
      "Loss Value :  0.4999999999999999 74.0%\n",
      "Loss Value :  0.49999999999999994 75.0%\n",
      "Loss Value :  0.4999999999999999 76.0%\n",
      "Loss Value :  0.4999999999999999 77.0%\n",
      "Loss Value :  0.5 78.0%\n",
      "Loss Value :  0.5000000000000003 79.0%\n",
      "Loss Value :  0.5000000000000003 80.0%\n",
      "Loss Value :  0.49999999999999967 81.0%\n",
      "Loss Value :  0.49999999999999967 82.0%\n",
      "Loss Value :  0.5000000000000001 83.0%\n",
      "Loss Value :  0.49999999999999994 84.0%\n",
      "Loss Value :  0.49999999999999994 85.0%\n",
      "Loss Value :  0.5000000000000002 86.0%\n",
      "Loss Value :  0.4999999999999996 87.0%\n",
      "Loss Value :  0.5000000000000001 88.0%\n",
      "Loss Value :  0.5000000000000001 89.0%\n",
      "Loss Value :  0.49999999999999994 90.0%\n",
      "Loss Value :  0.4999999999999997 91.0%\n",
      "Loss Value :  0.49999999999999994 92.0%\n",
      "Loss Value :  0.4999999999999999 93.0%\n",
      "Loss Value :  0.5000000000000001 94.0%\n",
      "Loss Value :  0.5000000000000001 95.0%\n",
      "Loss Value :  0.49999999999999983 96.0%\n",
      "Loss Value :  0.49999999999999983 97.0%\n",
      "Loss Value :  0.5000000000000001 98.0%\n",
      "Loss Value :  0.5000000000000001 99.0%\n",
      "Loss Value :  0.5000000000000001 100.0%\n"
     ]
    }
   ],
   "source": [
    "noisy = False\n",
    "noiseless_loss = []\n",
    "noiselessParam = np.copy(paramProver)\n",
    "print(\"Initial Cost : \", -1*costf(noiselessParam))\n",
    "autospsa = SPSA(maxiter=100, learning_rate=None, perturbation=None, callback=autospsa_callback)\n",
    "x_opt, fx_opt, nfevs = autospsa.optimize(numParam, costf, initial_point=noiselessParam)"
   ]
  },
  {
   "cell_type": "code",
   "execution_count": 100,
   "id": "7aa8a97d",
   "metadata": {},
   "outputs": [
    {
     "name": "stdout",
     "output_type": "stream",
     "text": [
      "Initial Cost :  0.41562930402880666\n",
      "Loss Value :  0.4244331871073281 1.0%\n",
      "Loss Value :  0.41026576822223493 2.0%\n",
      "Loss Value :  0.40713290512710854 3.0%\n",
      "Loss Value :  0.42265729111743405 4.0%\n",
      "Loss Value :  0.41352569347512064 5.0%\n",
      "Loss Value :  0.427625168110794 6.0%\n",
      "Loss Value :  0.4204061108041355 7.0%\n",
      "Loss Value :  0.404917059622967 8.0%\n",
      "Loss Value :  0.4132546139364989 9.0%\n",
      "Loss Value :  0.4188557480985191 10.0%\n",
      "Loss Value :  0.3979251212212385 11.0%\n",
      "Loss Value :  0.41940240185906275 12.0%\n",
      "Loss Value :  0.4003978027638712 13.0%\n",
      "Loss Value :  0.41546361314827307 14.0%\n",
      "Loss Value :  0.425782950299369 15.0%\n",
      "Loss Value :  0.40229047885703695 16.0%\n",
      "Loss Value :  0.4185394058126512 17.0%\n",
      "Loss Value :  0.4125590654976764 18.0%\n",
      "Loss Value :  0.4089455066735391 19.0%\n",
      "Loss Value :  0.4160453350122186 20.0%\n",
      "Loss Value :  0.41749788557957696 21.0%\n",
      "Loss Value :  0.41075056555660744 22.0%\n",
      "Loss Value :  0.39404008186656053 23.0%\n",
      "Loss Value :  0.4062433255759425 24.0%\n",
      "Loss Value :  0.4199581790051211 25.0%\n",
      "Loss Value :  0.4223157285781899 26.0%\n",
      "Loss Value :  0.4107382351833881 27.0%\n",
      "Loss Value :  0.40253669833967054 28.0%\n",
      "Loss Value :  0.41107954379507405 29.0%\n",
      "Loss Value :  0.3964891461681701 30.0%\n",
      "Loss Value :  0.4083356701794923 31.0%\n",
      "Loss Value :  0.40686817930887076 32.0%\n",
      "Loss Value :  0.4051278479849735 33.0%\n",
      "Loss Value :  0.393870723523262 34.0%\n",
      "Loss Value :  0.41447065862148713 35.0%\n",
      "Loss Value :  0.4092454599526992 36.0%\n",
      "Loss Value :  0.4259834568798924 37.0%\n",
      "Loss Value :  0.4191979616544719 38.0%\n",
      "Loss Value :  0.4138929579376933 39.0%\n",
      "Loss Value :  0.40489190567844074 40.0%\n",
      "Loss Value :  0.3992322703727488 41.0%\n",
      "Loss Value :  0.3808438478307481 42.0%\n",
      "Loss Value :  0.4096938581097694 43.0%\n",
      "Loss Value :  0.4111191338678949 44.0%\n",
      "Loss Value :  0.40590897394419057 45.0%\n",
      "Loss Value :  0.43307351705665037 46.0%\n",
      "Loss Value :  0.41361395539132173 47.0%\n",
      "Loss Value :  0.3917593410496056 48.0%\n",
      "Loss Value :  0.4021244107257329 49.0%\n",
      "Loss Value :  0.3956895012850276 50.0%\n",
      "Loss Value :  0.4018776753590784 51.0%\n",
      "Loss Value :  0.3973880794772462 52.0%\n",
      "Loss Value :  0.4170709759376387 53.0%\n",
      "Loss Value :  0.38801733033779234 54.0%\n",
      "Loss Value :  0.40505204416682317 55.0%\n",
      "Loss Value :  0.4211589301280673 56.0%\n",
      "Loss Value :  0.4013865079226411 57.0%\n",
      "Loss Value :  0.39718046974065974 58.0%\n",
      "Loss Value :  0.4180055279810837 59.0%\n",
      "Loss Value :  0.41266133822862805 60.0%\n",
      "Loss Value :  0.413033960028156 61.0%\n",
      "Loss Value :  0.4364159160752345 62.0%\n",
      "Loss Value :  0.4024373455733424 63.0%\n",
      "Loss Value :  0.4236100217869591 64.0%\n",
      "Loss Value :  0.41941259862731667 65.0%\n",
      "Loss Value :  0.4059318265434771 66.0%\n",
      "Loss Value :  0.4114129944353786 67.0%\n",
      "Loss Value :  0.3956932811697283 68.0%\n",
      "Loss Value :  0.41856234616554866 69.0%\n",
      "Loss Value :  0.40730920608720417 70.0%\n",
      "Loss Value :  0.3924646453126906 71.0%\n",
      "Loss Value :  0.4087414437254187 72.0%\n",
      "Loss Value :  0.40944109652022737 73.0%\n",
      "Loss Value :  0.4249168313922025 74.0%\n",
      "Loss Value :  0.4312286519926959 75.0%\n",
      "Loss Value :  0.4159198542650826 76.0%\n",
      "Loss Value :  0.41509092012596277 77.0%\n",
      "Loss Value :  0.41574452080166396 78.0%\n",
      "Loss Value :  0.39804037107048845 79.0%\n",
      "Loss Value :  0.40317616252435157 80.0%\n",
      "Loss Value :  0.42139118289313154 81.0%\n",
      "Loss Value :  0.411338788376412 82.0%\n",
      "Loss Value :  0.4284307524116006 83.0%\n",
      "Loss Value :  0.4202017198218547 84.0%\n",
      "Loss Value :  0.40741299750866733 85.0%\n",
      "Loss Value :  0.4002445444968808 86.0%\n",
      "Loss Value :  0.3988024449166144 87.0%\n",
      "Loss Value :  0.41142814654173726 88.0%\n",
      "Loss Value :  0.42331954640552055 89.0%\n",
      "Loss Value :  0.42704359665215996 90.0%\n",
      "Loss Value :  0.4201501346498694 91.0%\n",
      "Loss Value :  0.40142719693721857 92.0%\n",
      "Loss Value :  0.433540079279986 93.0%\n",
      "Loss Value :  0.3999126870289638 94.0%\n",
      "Loss Value :  0.4165758184648051 95.0%\n",
      "Loss Value :  0.4182595857994014 96.0%\n",
      "Loss Value :  0.4064764237954254 97.0%\n",
      "Loss Value :  0.4137058493833864 98.0%\n",
      "Loss Value :  0.3959720088928531 99.0%\n",
      "Loss Value :  0.4000534346511256 100.0%\n"
     ]
    }
   ],
   "source": [
    "noisy = True\n",
    "noisy_loss = []\n",
    "noisyParam = np.copy(paramProver)\n",
    "-1*costf(noisyParam)\n",
    "print(\"Initial Cost : \", -1*costf(noisyParam))\n",
    "autospsa = SPSA(maxiter=100, learning_rate=None, perturbation=None, callback=autospsa_callback)\n",
    "x_opt, fx_opt, nfevs = autospsa.optimize(numParam, costf, initial_point=noisyParam)"
   ]
  },
  {
   "cell_type": "code",
   "execution_count": 101,
   "id": "ffd2bf76",
   "metadata": {},
   "outputs": [
    {
     "name": "stdout",
     "output_type": "stream",
     "text": [
      "0.49999999999999994\n"
     ]
    }
   ],
   "source": [
    "noisy = False\n",
    "noiseResilientValue = -1*costf(x_opt)\n",
    "print(noiseResilientValue)"
   ]
  },
  {
   "cell_type": "code",
   "execution_count": 102,
   "id": "be9764ba",
   "metadata": {},
   "outputs": [
    {
     "name": "stdout",
     "output_type": "stream",
     "text": [
      "True Value :  0.5\n",
      "Noiseless :  0.5000000000000001\n",
      "Noisy :  0.4000534346511256\n",
      "Noise Resilient Value :  0.49999999999999994\n"
     ]
    }
   ],
   "source": [
    "print(\"True Value : \", true_value)\n",
    "print(\"Noiseless : \", noiseless_loss[-1])\n",
    "print(\"Noisy : \", noisy_loss[-1])\n",
    "print(\"Noise Resilient Value : \", noiseResilientValue)"
   ]
  },
  {
   "cell_type": "code",
   "execution_count": 103,
   "id": "ef74d462",
   "metadata": {},
   "outputs": [],
   "source": [
    "def writeToFile():\n",
    "    file = open(\"Q8_GBSE.txt\", \"w+\")\n",
    "    file.write(str(true_value)+\"\\n\")\n",
    "    file.write(str(noiseResilientValue)+\"\\n\")\n",
    "\n",
    "    file.write(str(len(noiseless_loss))+\"\\n\")\n",
    "    L = [str(i)+\"\\n\" for i in noiseless_loss]\n",
    "    file.writelines(L)\n",
    "    \n",
    "    file.write(str(len(noisy_loss))+\"\\n\")\n",
    "    L = [str(i)+\"\\n\" for i in noisy_loss[0:len(noisy_loss)-1]]\n",
    "    file.writelines(L)\n",
    "    \n",
    "    file.write(str(noisy_loss[-1]))\n",
    "    \n",
    "    file.close()"
   ]
  },
  {
   "cell_type": "code",
   "execution_count": 104,
   "id": "8aa97bc6",
   "metadata": {},
   "outputs": [],
   "source": [
    "writeToFile()"
   ]
  },
  {
   "cell_type": "code",
   "execution_count": null,
   "id": "384eb98c",
   "metadata": {},
   "outputs": [],
   "source": []
  }
 ],
 "metadata": {
  "kernelspec": {
   "display_name": "Python 3",
   "language": "python",
   "name": "python3"
  },
  "language_info": {
   "codemirror_mode": {
    "name": "ipython",
    "version": 3
   },
   "file_extension": ".py",
   "mimetype": "text/x-python",
   "name": "python",
   "nbconvert_exporter": "python",
   "pygments_lexer": "ipython3",
   "version": "3.9.6"
  }
 },
 "nbformat": 4,
 "nbformat_minor": 5
}
