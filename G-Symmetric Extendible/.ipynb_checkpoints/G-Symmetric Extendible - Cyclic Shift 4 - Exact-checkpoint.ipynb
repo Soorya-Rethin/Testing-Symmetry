{
 "cells": [
  {
   "cell_type": "code",
   "execution_count": 17,
   "id": "0e2cf47a",
   "metadata": {},
   "outputs": [],
   "source": [
    "#Import Relevant Libraries\n",
    "import random\n",
    "import numpy as np\n",
    "import cvxpy as cp\n",
    "\n",
    "from qiskit import QuantumCircuit, execute, Aer, IBMQ, BasicAer\n",
    "from qiskit.visualization import plot_histogram, plot_state_qsphere as plot_q\n",
    "from qiskit.quantum_info import Statevector\n",
    "\n",
    "from qiskit import quantum_info as qi\n",
    "from toqito.channel_metrics import channel_fidelity\n",
    "\n",
    "from toqito.state_metrics import fidelity\n",
    "from toqito.channels import partial_trace as pt\n",
    "from qiskit.quantum_info import DensityMatrix, state_fidelity, partial_trace"
   ]
  },
  {
   "cell_type": "code",
   "execution_count": 18,
   "id": "0a73ceb2",
   "metadata": {},
   "outputs": [],
   "source": [
    "unitary_param_1 = [3.24383098, 3.50187279, 1.26248366, 1.99354817, 4.28031102, 5.99851666, 3.03466457, 4.21065453]"
   ]
  },
  {
   "cell_type": "code",
   "execution_count": 19,
   "id": "780cd4b6",
   "metadata": {},
   "outputs": [
    {
     "data": {
      "image/png": "[encoded data removed]",
      "text/plain": [
       "<Figure size 621.739x200.667 with 1 Axes>"
      ]
     },
     "execution_count": 19,
     "metadata": {},
     "output_type": "execute_result"
    }
   ],
   "source": [
    "#State \\rho_SR\n",
    "size = 2\n",
    "layers = 2\n",
    "state = QuantumCircuit(size)\n",
    "for j in range(layers):\n",
    "    for i in range(size):\n",
    "        state.rx(unitary_param_1[j*size*2 + i], i)\n",
    "        state.ry(unitary_param_1[j*2*size + i + size], i)\n",
    "\n",
    "    for i in range(size-1):\n",
    "        state.cx(i, i+1)\n",
    "\n",
    "state.draw('mpl')"
   ]
  },
  {
   "cell_type": "code",
   "execution_count": 20,
   "id": "5640a517",
   "metadata": {},
   "outputs": [
    {
     "data": {
      "image/png": "[encoded data removed]",
      "text/plain": [
       "<Figure size 203.683x200.667 with 1 Axes>"
      ]
     },
     "execution_count": 20,
     "metadata": {},
     "output_type": "execute_result"
    }
   ],
   "source": [
    "qcTest = QuantumCircuit(2)\n",
    "qcTest.x(0)\n",
    "#qcTest.cx(0, 1)\n",
    "qcTest.draw('mpl')"
   ]
  },
  {
   "cell_type": "code",
   "execution_count": 21,
   "id": "7b8f3a34",
   "metadata": {},
   "outputs": [],
   "source": [
    "I = np.array([[1, 0], [0, 1]])\n",
    "X = np.array([[0, 1], [1, 0]])\n",
    "X0 = np.kron(X, I)\n",
    "SWAP = np.array([[1, 0, 0, 0], [0, 0, 1, 0], [0, 1, 0, 0], [0, 0, 0, 1]])"
   ]
  },
  {
   "cell_type": "code",
   "execution_count": 22,
   "id": "696d63ca",
   "metadata": {},
   "outputs": [],
   "source": [
    "lis = []\n",
    "lis.append(np.kron(I, I))\n",
    "temp = np.matmul(X0, SWAP)\n",
    "lis.append(temp)\n",
    "lis.append(np.matmul(temp, temp))\n",
    "lis.append(np.matmul(temp, np.matmul(temp, temp)))"
   ]
  },
  {
   "cell_type": "code",
   "execution_count": 23,
   "id": "d77f35e9",
   "metadata": {},
   "outputs": [
    {
     "name": "stdout",
     "output_type": "stream",
     "text": [
      "[[0.+0.j 0.+0.j]\n",
      " [0.+0.j 1.+0.j]]\n"
     ]
    }
   ],
   "source": [
    "psi = np.array(DensityMatrix.from_instruction(qcTest.reverse_bits()))\n",
    "rho = pt(psi, [2], [2, 2]) #rho_S\n",
    "print(rho)"
   ]
  },
  {
   "cell_type": "code",
   "execution_count": 24,
   "id": "e2bd4d30",
   "metadata": {},
   "outputs": [
    {
     "name": "stdout",
     "output_type": "stream",
     "text": [
      "Root Fidelity is : 0.7071053582181109\n"
     ]
    }
   ],
   "source": [
    "shape = rho.shape\n",
    "\n",
    "X = cp.Variable(shape, complex=True)\n",
    "omega = cp.Variable(np.kron(I, I).shape, complex=True)\n",
    "G = cp.bmat([[rho, X.H],[X, pt(omega, [2], [2, 2])]])\n",
    "\n",
    "c = [omega>>0, G>>0, cp.real(cp.trace(omega))==1]\n",
    "\n",
    "for item in lis:\n",
    "    c.append(omega@item == item@omega)\n",
    "\n",
    "obj = cp.Maximize(cp.real(cp.trace(X)))\n",
    "problem = cp.Problem(obj, constraints = c)\n",
    "rootFid = problem.solve()\n",
    "print(\"Root Fidelity is : \" + str(rootFid))"
   ]
  },
  {
   "cell_type": "code",
   "execution_count": 25,
   "id": "88930506",
   "metadata": {},
   "outputs": [
    {
     "name": "stdout",
     "output_type": "stream",
     "text": [
      "Fidelity is : 0.499997987620763\n"
     ]
    }
   ],
   "source": [
    "print(\"Fidelity is : \" + str(rootFid**2))"
   ]
  },
  {
   "cell_type": "code",
   "execution_count": null,
   "id": "f8f9e977",
   "metadata": {},
   "outputs": [],
   "source": []
  }
 ],
 "metadata": {
  "kernelspec": {
   "display_name": "Python 3",
   "language": "python",
   "name": "python3"
  },
  "language_info": {
   "codemirror_mode": {
    "name": "ipython",
    "version": 3
   },
   "file_extension": ".py",
   "mimetype": "text/x-python",
   "name": "python",
   "nbconvert_exporter": "python",
   "pygments_lexer": "ipython3",
   "version": "3.9.6"
  }
 },
 "nbformat": 4,
 "nbformat_minor": 5
}
