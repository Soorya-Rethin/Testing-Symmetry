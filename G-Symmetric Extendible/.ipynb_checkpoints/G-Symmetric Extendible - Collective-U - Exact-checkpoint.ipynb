{
 "cells": [
  {
   "cell_type": "code",
   "execution_count": 1,
   "id": "0e2cf47a",
   "metadata": {},
   "outputs": [],
   "source": [
    "#Import Relevant Libraries\n",
    "import random\n",
    "import numpy as np\n",
    "import cvxpy as cp\n",
    "\n",
    "from qiskit import QuantumCircuit, execute, Aer, IBMQ, BasicAer\n",
    "from qiskit.visualization import plot_histogram, plot_state_qsphere as plot_q\n",
    "from qiskit.quantum_info import Statevector\n",
    "\n",
    "from qiskit import quantum_info as qi\n",
    "from toqito.channel_metrics import channel_fidelity\n",
    "\n",
    "from toqito.state_metrics import fidelity\n",
    "from toqito.channels import partial_trace as pt\n",
    "from qiskit.quantum_info import DensityMatrix, state_fidelity, partial_trace"
   ]
  },
  {
   "cell_type": "code",
   "execution_count": 2,
   "id": "015531f3",
   "metadata": {},
   "outputs": [],
   "source": [
    "def prune(oper):\n",
    "    '''\n",
    "    Takes in a matrix and removes the fractional part below 1e-6. Needed to pretty print output.\n",
    "    '''\n",
    "    for i in range(oper.shape[0]):\n",
    "        for j in range(oper.shape[1]):\n",
    "            x = np.real(oper[i, j])\n",
    "            y = np.imag(oper[i, j] )\n",
    "            tx = np.round_(x, 6)\n",
    "            ty = np.round_(y, 6)\n",
    "            oper[i, j] = tx + 1j*ty\n",
    "    return oper"
   ]
  },
  {
   "cell_type": "code",
   "execution_count": 6,
   "id": "0a73ceb2",
   "metadata": {},
   "outputs": [],
   "source": [
    "'''\n",
    "Defines parameters that specify the purification of state to be tested. Create a QuantumCircuit object that\n",
    "creates the purification on (size) number of qubits.\n",
    "'''\n",
    "unitary_param_1 = [4.76597606, 4.47050986, 4.19269861, 3.72124531, 4.94472091, 1.61563712,\n",
    "                   3.44120060, 3.24526326]\n",
    "\n",
    "size = 2\n",
    "layers = 2\n",
    "state = QuantumCircuit(size)\n",
    "for j in range(layers):\n",
    "    for i in range(size):\n",
    "        state.rx(unitary_param_1[j*size*2 + i], i)\n",
    "        state.ry(unitary_param_1[j*2*size + i + size], i)\n",
    "\n",
    "    for i in range(size-1):\n",
    "        state.cx(i, i+1)\n",
    "\n",
    "state.draw('mpl')"
   ]
  },
  {
   "cell_type": "code",
   "execution_count": 27,
   "id": "d77f35e9",
   "metadata": {},
   "outputs": [
    {
     "name": "stdout",
     "output_type": "stream",
     "text": [
      "[[0.5+0.j 0. +0.j]\n",
      " [0. +0.j 0.5+0.j]]\n"
     ]
    }
   ],
   "source": [
    "'''\n",
    "Extract the matrix representation of the state \\rho_S\n",
    "'''\n",
    "psi = np.array(DensityMatrix.from_instruction(state.reverse_bits()))\n",
    "rho = pt(psi, [2], [2, 2]) "
   ]
  },
  {
   "cell_type": "code",
   "execution_count": 3,
   "id": "7b8f3a34",
   "metadata": {},
   "outputs": [],
   "source": [
    "'''\n",
    "Define matrix representation of Rx, Ry, Rz gate\n",
    "'''\n",
    "def Rx(theta):\n",
    "    return np.matrix([[np.cos(theta/2), -1j*np.sin(theta/2)], [-1j*np.sin(theta/2), np.cos(theta/2)]], dtype=complex)\n",
    "\n",
    "def Ry(theta):\n",
    "    return np.matrix([[np.cos(theta/2), -np.sin(theta/2)], [np.sin(theta/2), np.cos(theta/2)]], dtype=complex)\n",
    "\n",
    "def Rz(theta):\n",
    "    return np.matrix([[np.exp(-1j*theta/2), 0], [0, np.exp(1j*theta/2)]], dtype=complex)"
   ]
  },
  {
   "cell_type": "code",
   "execution_count": 4,
   "id": "7f07e42b",
   "metadata": {},
   "outputs": [],
   "source": [
    "'''\n",
    "Define bilateral rotation Bx, By, Bz\n",
    "'''\n",
    "def Bx():\n",
    "    return prune(np.kron(Rx(-np.pi/2), Rx(-np.pi/2)))\n",
    "\n",
    "def By():\n",
    "    return prune(np.kron(Ry(-np.pi/2), Ry(-np.pi/2)))\n",
    "\n",
    "def Bz():\n",
    "    return prune(np.kron(Rz(-np.pi/2), Rz(-np.pi/2)))"
   ]
  },
  {
   "cell_type": "code",
   "execution_count": 5,
   "id": "696d63ca",
   "metadata": {},
   "outputs": [],
   "source": [
    "def createOplist():\n",
    "    '''\n",
    "    Create list of group elements.\n",
    "    '''\n",
    "    opList = []\n",
    "    opList.append(np.kron(np.eye(2), np.eye(2)))\n",
    "    \n",
    "    opList.append(prune(np.matmul(Bx(), Bx())))\n",
    "    opList.append(prune(np.matmul(By(), By())))\n",
    "    opList.append(prune(np.matmul(Bz(), Bz())))\n",
    "    \n",
    "    opList.append(prune(np.matmul(Bx(), By())))\n",
    "    opList.append(prune(np.matmul(By(), Bz())))\n",
    "    opList.append(prune(np.matmul(Bz(), Bx())))\n",
    "    opList.append(prune(np.matmul(By(), Bx())))\n",
    "    \n",
    "    temp = prune(np.matmul(Bx(), By()))\n",
    "    opList.append(prune(np.matmul(temp, temp)))\n",
    "    \n",
    "    temp = prune(np.matmul(By(), Bz()))\n",
    "    opList.append(prune(np.matmul(temp, temp)))\n",
    "    \n",
    "    temp = prune(np.matmul(Bz(), Bx()))\n",
    "    opList.append(prune(np.matmul(temp, temp)))\n",
    "    \n",
    "    temp = prune(np.matmul(By(), Bx()))\n",
    "    opList.append(prune(np.matmul(temp, temp)))\n",
    "    \n",
    "    return opList"
   ]
  },
  {
   "cell_type": "code",
   "execution_count": 9,
   "id": "376f4da8",
   "metadata": {},
   "outputs": [],
   "source": [
    "lis = createOplist()"
   ]
  },
  {
   "cell_type": "code",
   "execution_count": 28,
   "id": "e2bd4d30",
   "metadata": {},
   "outputs": [
    {
     "name": "stdout",
     "output_type": "stream",
     "text": [
      "Root Fidelity is : 0.9999996086850755\n"
     ]
    }
   ],
   "source": [
    "'''\n",
    "SDP to calculate the Fidelity. Refer to Section 5.\n",
    "'''\n",
    "shape = rho.shape\n",
    "\n",
    "X = cp.Variable(shape, complex=True)\n",
    "omega = cp.Variable(lis[0].shape, complex=True)\n",
    "G = cp.bmat([[rho, X.H],[X, pt(omega, [2], [2, 2])]])\n",
    "\n",
    "c = [omega>>0, G>>0, cp.real(cp.trace(omega))==1]\n",
    "\n",
    "'''\n",
    "Add the constraint to ensure that sig is G-Symmetric extendible\n",
    "'''\n",
    "for item in lis:\n",
    "    c.append(omega@item == item@omega)\n",
    "\n",
    "obj = cp.Maximize(cp.real(cp.trace(X)))\n",
    "problem = cp.Problem(obj, constraints = c)\n",
    "rootFid = problem.solve()\n",
    "print(\"Root Fidelity is : \" + str(rootFid))"
   ]
  },
  {
   "cell_type": "code",
   "execution_count": 29,
   "id": "88930506",
   "metadata": {},
   "outputs": [
    {
     "name": "stdout",
     "output_type": "stream",
     "text": [
      "Fidelity is : 0.9999992173703042\n"
     ]
    }
   ],
   "source": [
    "print(\"Fidelity is : \" + str(rootFid**2))"
   ]
  },
  {
   "cell_type": "code",
   "execution_count": null,
   "id": "f8f9e977",
   "metadata": {},
   "outputs": [],
   "source": []
  }
 ],
 "metadata": {
  "kernelspec": {
   "display_name": "Python 3",
   "language": "python",
   "name": "python3"
  },
  "language_info": {
   "codemirror_mode": {
    "name": "ipython",
    "version": 3
   },
   "file_extension": ".py",
   "mimetype": "text/x-python",
   "name": "python",
   "nbconvert_exporter": "python",
   "pygments_lexer": "ipython3",
   "version": "3.9.6"
  }
 },
 "nbformat": 4,
 "nbformat_minor": 5
}
