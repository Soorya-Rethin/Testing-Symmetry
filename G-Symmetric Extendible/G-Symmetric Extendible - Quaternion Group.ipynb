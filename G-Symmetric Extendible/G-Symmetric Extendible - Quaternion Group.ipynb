{
 "cells": [
  {
   "cell_type": "code",
   "execution_count": 1,
   "id": "442a0c10",
   "metadata": {},
   "outputs": [],
   "source": [
    "import math\n",
    "import random\n",
    "import numpy as np\n",
    "from itertools import product\n",
    "\n",
    "from qiskit import *\n",
    "\n",
    "# Importing standard Qiskit libraries\n",
    "from qiskit.tools.jupyter import *\n",
    "from qiskit.visualization import *\n",
    "from qiskit.providers.aer import QasmSimulator\n",
    "\n",
    "import matplotlib.pyplot as plt\n",
    "plt.rcParams['font.size'] = 14\n",
    "\n",
    "from qiskit.utils import QuantumInstance\n",
    "\n",
    "from qiskit.opflow import I, X, Y, Z\n",
    "from qiskit.opflow import StateFn\n",
    "from qiskit.opflow import Gradient\n",
    "from qiskit.opflow import CircuitSampler\n",
    "from qiskit.opflow.primitive_ops import MatrixOp\n",
    "\n",
    "from qiskit.circuit import Parameter\n",
    "from qiskit.circuit import QuantumCircuit\n",
    "from qiskit.circuit import ParameterVector\n",
    "from qiskit.circuit.library import RealAmplitudes\n",
    "\n",
    "from qiskit.algorithms.optimizers import SPSA\n",
    "from qiskit.algorithms.optimizers import GradientDescent\n",
    "from qiskit.algorithms.optimizers import ADAM\n",
    "\n",
    "from qiskit.providers.aer.noise import NoiseModel\n",
    "\n",
    "from qiskit.quantum_info import Statevector\n",
    "from qiskit.ignis.mitigation.measurement import CompleteMeasFitter"
   ]
  },
  {
   "cell_type": "code",
   "execution_count": 2,
   "id": "eb0f23d2",
   "metadata": {},
   "outputs": [],
   "source": [
    "provider = IBMQ.load_account()"
   ]
  },
  {
   "cell_type": "code",
   "execution_count": 3,
   "id": "5951164c",
   "metadata": {},
   "outputs": [],
   "source": [
    "def rand_numb(low_in,high_in):\n",
    "    return np.random.uniform(low=low_in, high=np.nextafter(high_in, np.inf))\n",
    "\n",
    "#just to keep the upper limit included in the random number generation. "
   ]
  },
  {
   "cell_type": "code",
   "execution_count": 4,
   "id": "a273122f",
   "metadata": {},
   "outputs": [
    {
     "data": {
      "text/html": [
       "<pre style=\"word-wrap: normal;white-space: pre;background: #fff0;line-height: 1.1;font-family: &quot;Courier New&quot;,Courier,monospace\">     ┌───────┐\n",
       "q_0: ┤ Rx(π) ├\n",
       "     └───────┘</pre>"
      ],
      "text/plain": [
       "     ┌───────┐\n",
       "q_0: ┤ Rx(π) ├\n",
       "     └───────┘"
      ]
     },
     "execution_count": 4,
     "metadata": {},
     "output_type": "execute_result"
    }
   ],
   "source": [
    "mix = QuantumCircuit(1)\n",
    "mix.rx(np.pi, 0)\n",
    "\n",
    "ix = QuantumCircuit(1)\n",
    "ix.rx(3*np.pi, 0)\n",
    "mix.draw()"
   ]
  },
  {
   "cell_type": "code",
   "execution_count": 5,
   "id": "1f26dd50",
   "metadata": {},
   "outputs": [
    {
     "data": {
      "text/html": [
       "<pre style=\"word-wrap: normal;white-space: pre;background: #fff0;line-height: 1.1;font-family: &quot;Courier New&quot;,Courier,monospace\">     ┌───────┐\n",
       "q_0: ┤ Ry(π) ├\n",
       "     └───────┘</pre>"
      ],
      "text/plain": [
       "     ┌───────┐\n",
       "q_0: ┤ Ry(π) ├\n",
       "     └───────┘"
      ]
     },
     "execution_count": 5,
     "metadata": {},
     "output_type": "execute_result"
    }
   ],
   "source": [
    "miy = QuantumCircuit(1)\n",
    "miy.ry(np.pi, 0)\n",
    "miy.draw()"
   ]
  },
  {
   "cell_type": "code",
   "execution_count": 6,
   "id": "f7e1dcd7",
   "metadata": {},
   "outputs": [
    {
     "data": {
      "text/html": [
       "<pre style=\"word-wrap: normal;white-space: pre;background: #fff0;line-height: 1.1;font-family: &quot;Courier New&quot;,Courier,monospace\">     ┌───────┐\n",
       "q_0: ┤ Rz(π) ├\n",
       "     └───────┘</pre>"
      ],
      "text/plain": [
       "     ┌───────┐\n",
       "q_0: ┤ Rz(π) ├\n",
       "     └───────┘"
      ]
     },
     "execution_count": 6,
     "metadata": {},
     "output_type": "execute_result"
    }
   ],
   "source": [
    "miz = QuantumCircuit(1)\n",
    "miz.rz(np.pi, 0)\n",
    "\n",
    "iz = QuantumCircuit(1)\n",
    "iz.rz(3*np.pi, 0)\n",
    "miz.draw()"
   ]
  },
  {
   "cell_type": "code",
   "execution_count": 7,
   "id": "fd179103",
   "metadata": {},
   "outputs": [
    {
     "data": {
      "text/html": [
       "<pre style=\"word-wrap: normal;white-space: pre;background: #fff0;line-height: 1.1;font-family: &quot;Courier New&quot;,Courier,monospace\">     ┌────────┐\n",
       "q_0: ┤ Rz(2π) ├\n",
       "     └────────┘</pre>"
      ],
      "text/plain": [
       "     ┌────────┐\n",
       "q_0: ┤ Rz(2π) ├\n",
       "     └────────┘"
      ]
     },
     "execution_count": 7,
     "metadata": {},
     "output_type": "execute_result"
    }
   ],
   "source": [
    "mi = QuantumCircuit(1)\n",
    "mi.rz(2*np.pi, 0)\n",
    "mi.draw()"
   ]
  },
  {
   "cell_type": "code",
   "execution_count": 52,
   "id": "0b39d195",
   "metadata": {},
   "outputs": [],
   "source": [
    "numLayer = 3\n",
    "numQubit = 3\n",
    "global iterations\n",
    "global noisy"
   ]
  },
  {
   "cell_type": "code",
   "execution_count": 53,
   "id": "80fe7e12",
   "metadata": {},
   "outputs": [],
   "source": [
    "#Create unitaries here\n",
    "unitary_param_1 = np.array([])\n",
    "for i in range(0, 8):\n",
    "    unitary_param_1 = np.append(unitary_param_1, np.array([rand_numb(0,2*np.pi)]))\n",
    "\n",
    "unitary_param_1 = [3.24383098, 3.50187279, 1.26248366, 1.99354817, 4.28031102, 5.99851666, 3.03466457, 4.21065453]"
   ]
  },
  {
   "cell_type": "code",
   "execution_count": 54,
   "id": "e30234ee",
   "metadata": {},
   "outputs": [
    {
     "name": "stdout",
     "output_type": "stream",
     "text": [
      "[3.24383098, 3.50187279, 1.26248366, 1.99354817, 4.28031102, 5.99851666, 3.03466457, 4.21065453]\n"
     ]
    }
   ],
   "source": [
    "print(unitary_param_1)"
   ]
  },
  {
   "cell_type": "code",
   "execution_count": 55,
   "id": "f7b2580e",
   "metadata": {},
   "outputs": [
    {
     "data": {
      "image/png": "[encoded data removed]",
      "text/plain": [
       "<Figure size 621.739x200.667 with 1 Axes>"
      ]
     },
     "execution_count": 55,
     "metadata": {},
     "output_type": "execute_result"
    }
   ],
   "source": [
    "# First unitary\n",
    "size = 2\n",
    "layers = 2\n",
    "state = QuantumCircuit(size)\n",
    "for j in range(layers):\n",
    "    for i in range(size):\n",
    "        state.rx(unitary_param_1[j*size*2 + i], i)\n",
    "        state.ry(unitary_param_1[j*2*size + i + size], i)\n",
    "\n",
    "    for i in range(size-1):\n",
    "        state.cx(i, i+1)\n",
    "\n",
    "state.draw('mpl')"
   ]
  },
  {
   "cell_type": "code",
   "execution_count": 56,
   "id": "a70b9bce",
   "metadata": {},
   "outputs": [],
   "source": [
    "def createProver(numQubit, numLayer):\n",
    "    numparam = numQubit*numLayer*2\n",
    "    prover = QuantumCircuit(numQubit)\n",
    "    param_vector = ParameterVector(\"params\", numparam)\n",
    "    \n",
    "    for j in range(numLayer):\n",
    "        for i in range(numQubit):\n",
    "            prover.rx(param_vector[j*2*numQubit + i], i)\n",
    "            prover.ry(param_vector[j*2*numQubit + i + numQubit], i)\n",
    "\n",
    "        for i in range(numQubit-1):\n",
    "            prover.cx(i, i+1)\n",
    "            \n",
    "    return prover"
   ]
  },
  {
   "cell_type": "code",
   "execution_count": 57,
   "id": "4fcd4cfb",
   "metadata": {},
   "outputs": [],
   "source": [
    "def createEqSuperposQuaternionSE():\n",
    "    temp = QuantumCircuit(3)\n",
    "    temp.h(0)\n",
    "    temp.h(1)\n",
    "    temp.h(2)\n",
    "    return temp"
   ]
  },
  {
   "cell_type": "code",
   "execution_count": 74,
   "id": "6691b676",
   "metadata": {},
   "outputs": [
    {
     "data": {
      "image/png": "[encoded data removed]",
      "text/plain": [
       "<Figure size 203.683x200.667 with 1 Axes>"
      ]
     },
     "execution_count": 74,
     "metadata": {},
     "output_type": "execute_result"
    }
   ],
   "source": [
    "qcTest = QuantumCircuit(2)\n",
    "qcTest.h(0)\n",
    "qcTest.draw('mpl')"
   ]
  },
  {
   "cell_type": "code",
   "execution_count": 75,
   "id": "e4092139",
   "metadata": {},
   "outputs": [],
   "source": [
    "def createQuantumCircuit(state, numQubit, numLayer):\n",
    "    circ = QuantumCircuit(7)\n",
    "    #Create Quantum Circuit here\n",
    "    \n",
    "    superPosCircuit = createEqSuperposQuaternionSE()\n",
    "    circ.append(superPosCircuit, [0, 1, 2])\n",
    "\n",
    "    circ.append(state, [3, 4])\n",
    "    \n",
    "    prover = createProver(numQubit, numLayer)\n",
    "    circ.append(prover, [4, 5, 6])\n",
    "    \n",
    "    custom = miz.to_gate().control(2)\n",
    "    circ.append(custom, [0, 3, 4])\n",
    "    custom = iz.to_gate().control(2)\n",
    "    circ.append(custom, [0, 5, 6])\n",
    "    \n",
    "    custom = miy.to_gate().control(2)\n",
    "    circ.append(custom, [1, 3, 4])\n",
    "    circ.append(custom, [1, 5, 6])\n",
    "\n",
    "    custom = mix.to_gate().control(2)\n",
    "    circ.append(custom, [2, 3, 4])\n",
    "    custom = ix.to_gate().control(2)\n",
    "    circ.append(custom, [2, 5, 6])\n",
    "\n",
    "    circ.x(0)\n",
    "    custom = mi.to_gate().control(3)\n",
    "    circ.append(custom, [0, 2, 3, 4])\n",
    "    circ.append(custom, [0, 2, 5, 6])\n",
    "    circ.x(0)\n",
    "    \n",
    "    circ.append(superPosCircuit.inverse(), [0, 1, 2])\n",
    "    \n",
    "    return circ"
   ]
  },
  {
   "cell_type": "code",
   "execution_count": 76,
   "id": "c0893246",
   "metadata": {},
   "outputs": [
    {
     "data": {
      "image/png": "[encoded data removed]",
      "text/plain": [
       "<Figure size 2210.55x1287.61 with 1 Axes>"
      ]
     },
     "execution_count": 76,
     "metadata": {},
     "output_type": "execute_result"
    }
   ],
   "source": [
    "qCirc = createQuantumCircuit(qcTest, numQubit, numLayer)\n",
    "qCirc.draw('mpl')"
   ]
  },
  {
   "cell_type": "code",
   "execution_count": 77,
   "id": "2ad3343b",
   "metadata": {},
   "outputs": [],
   "source": [
    "#use if noiseless\n",
    "noiseless_backend = Aer.get_backend('statevector_simulator')\n",
    "noiseless_q_instance = QuantumInstance(noiseless_backend)\n",
    "noiseless_sampler = CircuitSampler(noiseless_q_instance)"
   ]
  },
  {
   "cell_type": "code",
   "execution_count": 78,
   "id": "c13d9298",
   "metadata": {},
   "outputs": [],
   "source": [
    "#Use if noisy\n",
    "provider = IBMQ.get_provider(hub=\"ibm-q-research\", group=\"louisiana-st-uni-1\", project=\"main\")\n",
    "noisy_backend = Aer.get_backend(\"qasm_simulator\")\n",
    "device = provider.get_backend(\"ibmq_jakarta\")\n",
    "coupling_map = device.configuration().coupling_map\n",
    "noise_model = NoiseModel.from_backend(device.properties())\n",
    "noisy_q_instance = QuantumInstance(backend=noisy_backend, \n",
    "                           shots=8192, \n",
    "                           noise_model=noise_model, \n",
    "                           coupling_map=coupling_map,\n",
    "                           measurement_error_mitigation_cls=CompleteMeasFitter,\n",
    "                           cals_matrix_refresh_period=30)\n",
    "noisy_sampler = CircuitSampler(noisy_q_instance)"
   ]
  },
  {
   "cell_type": "code",
   "execution_count": 79,
   "id": "03d15a2c",
   "metadata": {},
   "outputs": [],
   "source": [
    "#Create Hamiltonian here\n",
    "hamiltonian = I^I^I^I^MatrixOp(np.array([[1, 0], [0, 0]]))^MatrixOp(np.array([[1, 0], [0, 0]]))^MatrixOp(np.array([[1, 0], [0, 0]]))"
   ]
  },
  {
   "cell_type": "code",
   "execution_count": 80,
   "id": "360335df",
   "metadata": {},
   "outputs": [],
   "source": [
    "def costf(params):\n",
    "    expectation = StateFn(hamiltonian, is_measurement=True).compose(StateFn(qCirc))\n",
    "    value_dict = dict(zip(qCirc.parameters, params))\n",
    "    \n",
    "    if noisy:\n",
    "        result = noisy_sampler.convert(expectation, params=value_dict).eval()  \n",
    "    else:\n",
    "        result = noiseless_sampler.convert(expectation, params=value_dict).eval()  \n",
    "    \n",
    "    return -1*np.real(result)"
   ]
  },
  {
   "cell_type": "code",
   "execution_count": 81,
   "id": "fc3dce38",
   "metadata": {},
   "outputs": [],
   "source": [
    "def gradient(params):\n",
    "    expectation = StateFn(hamiltonian, is_measurement=True).compose(StateFn(qCirc))\n",
    "    value_dict = dict(zip(qCirc.parameters, params))\n",
    "    gradient = Gradient().convert(expectation)\n",
    "    \n",
    "    if noisy:\n",
    "        result = noisy_sampler.convert(gradient, params=value_dict).eval()  \n",
    "    else:\n",
    "        result = noiseless_sampler.convert(gradient, params=value_dict).eval()  \n",
    "    \n",
    "    return -1*np.real(result)"
   ]
  },
  {
   "cell_type": "code",
   "execution_count": 82,
   "id": "14898389",
   "metadata": {},
   "outputs": [
    {
     "name": "stdout",
     "output_type": "stream",
     "text": [
      "ParameterView([ParameterVectorElement(params[0]), ParameterVectorElement(params[1]), ParameterVectorElement(params[2]), ParameterVectorElement(params[3]), ParameterVectorElement(params[4]), ParameterVectorElement(params[5]), ParameterVectorElement(params[6]), ParameterVectorElement(params[7]), ParameterVectorElement(params[8]), ParameterVectorElement(params[9]), ParameterVectorElement(params[10]), ParameterVectorElement(params[11]), ParameterVectorElement(params[12]), ParameterVectorElement(params[13]), ParameterVectorElement(params[14]), ParameterVectorElement(params[15]), ParameterVectorElement(params[16]), ParameterVectorElement(params[17])])\n"
     ]
    }
   ],
   "source": [
    "print(qCirc.parameters)"
   ]
  },
  {
   "cell_type": "code",
   "execution_count": 83,
   "id": "341cf860",
   "metadata": {},
   "outputs": [],
   "source": [
    "def autospsa_callback(nfev, x, fx, stepsize, accepted = False):\n",
    "    if (noisy == True):\n",
    "        noisy_loss.append(-1*fx)\n",
    "    else:\n",
    "        noiseless_loss.append(-1*fx)\n",
    "    print(\"Loss Value : \", -1*fx, str(nfev/3)+\"%\")"
   ]
  },
  {
   "cell_type": "code",
   "execution_count": 84,
   "id": "fa2e5fc8",
   "metadata": {},
   "outputs": [
    {
     "name": "stdout",
     "output_type": "stream",
     "text": [
      "[3.96527549 1.2810046  1.27327102 2.72123741 0.2337085  0.53530433\n",
      " 6.10799016 5.07635962 0.89558565 4.41698122 3.92710756 5.95927123\n",
      " 3.95712534 0.25155782 4.55556477 3.25369515 0.381679   5.41287541]\n",
      "Initial Cost :  0.3939867026546672\n"
     ]
    }
   ],
   "source": [
    "numParam = 2*numQubit*numLayer\n",
    "noisy = False\n",
    "paramProver = []\n",
    "for i in range(0, numParam):\n",
    "    paramProver = np.append(paramProver, np.array([rand_numb(0,2*np.pi)]))\n",
    "print(paramProver)\n",
    "\n",
    "print(\"Initial Cost : \", -1*costf(paramProver))"
   ]
  },
  {
   "cell_type": "code",
   "execution_count": 85,
   "id": "fe0462e1",
   "metadata": {},
   "outputs": [],
   "source": [
    "true_value = 0.5"
   ]
  },
  {
   "cell_type": "code",
   "execution_count": 87,
   "id": "b4798d57",
   "metadata": {},
   "outputs": [
    {
     "name": "stdout",
     "output_type": "stream",
     "text": [
      "Initial Cost :  0.3939867026546672\n",
      "Loss Value :  0.3206163846921405 1.0%\n",
      "Loss Value :  0.3204857431879437 2.0%\n",
      "Loss Value :  0.32084275194287215 3.0%\n",
      "Loss Value :  0.32084136054890144 4.0%\n",
      "Loss Value :  0.33430385055958084 5.0%\n",
      "Loss Value :  0.4308816808418475 6.0%\n",
      "Loss Value :  0.4307512264673119 7.0%\n",
      "Loss Value :  0.37017440292975295 8.0%\n",
      "Loss Value :  0.37401077843024877 9.0%\n",
      "Loss Value :  0.3740238580659881 10.0%\n",
      "Loss Value :  0.3982447155719614 11.0%\n",
      "Loss Value :  0.44498231671642213 12.0%\n",
      "Loss Value :  0.485959366262754 13.0%\n",
      "Loss Value :  0.4859548583336819 14.0%\n",
      "Loss Value :  0.4859314249156643 15.0%\n",
      "Loss Value :  0.49029014677062493 16.0%\n",
      "Loss Value :  0.49021749239469287 17.0%\n",
      "Loss Value :  0.4902999833314423 18.0%\n",
      "Loss Value :  0.4903956984989959 19.0%\n",
      "Loss Value :  0.49039183274141446 20.0%\n",
      "Loss Value :  0.491473285551042 21.0%\n",
      "Loss Value :  0.4919132140440308 22.0%\n",
      "Loss Value :  0.491845679563284 23.0%\n",
      "Loss Value :  0.4926784711248831 24.0%\n",
      "Loss Value :  0.49424805019346174 25.0%\n",
      "Loss Value :  0.49430850385194447 26.0%\n",
      "Loss Value :  0.495132030702726 27.0%\n",
      "Loss Value :  0.4950728632903314 28.0%\n",
      "Loss Value :  0.4951229310804143 29.0%\n",
      "Loss Value :  0.49609019261236714 30.0%\n",
      "Loss Value :  0.4966264291350123 31.0%\n",
      "Loss Value :  0.49679917655961764 32.0%\n",
      "Loss Value :  0.4968237933981513 33.0%\n",
      "Loss Value :  0.49687790512171504 34.0%\n",
      "Loss Value :  0.4970789771918788 35.0%\n",
      "Loss Value :  0.4971284936701525 36.0%\n",
      "Loss Value :  0.4973658821714692 37.0%\n",
      "Loss Value :  0.4973660819989334 38.0%\n",
      "Loss Value :  0.49740714598578645 39.0%\n",
      "Loss Value :  0.49741074809986385 40.0%\n",
      "Loss Value :  0.49754048362632214 41.0%\n",
      "Loss Value :  0.49777653885904544 42.0%\n",
      "Loss Value :  0.49778104439327797 43.0%\n",
      "Loss Value :  0.49803277851809463 44.0%\n",
      "Loss Value :  0.49858648066705263 45.0%\n",
      "Loss Value :  0.49858564828319407 46.0%\n",
      "Loss Value :  0.4985968974760061 47.0%\n",
      "Loss Value :  0.4986288509289578 48.0%\n",
      "Loss Value :  0.4985950446981908 49.0%\n",
      "Loss Value :  0.49860355699890396 50.0%\n",
      "Loss Value :  0.4985984962092629 51.0%\n",
      "Loss Value :  0.4988971383165841 52.0%\n",
      "Loss Value :  0.4993941333517043 53.0%\n",
      "Loss Value :  0.49933974503736606 54.0%\n",
      "Loss Value :  0.49934601869035955 55.0%\n",
      "Loss Value :  0.4993263247279071 56.0%\n",
      "Loss Value :  0.49934954517898245 57.0%\n",
      "Loss Value :  0.49940329032814823 58.0%\n",
      "Loss Value :  0.49941729787775757 59.0%\n",
      "Loss Value :  0.49945703288304266 60.0%\n",
      "Loss Value :  0.49946008233382044 61.0%\n",
      "Loss Value :  0.4994613180167312 62.0%\n",
      "Loss Value :  0.4994520237699822 63.0%\n",
      "Loss Value :  0.4994406908318446 64.0%\n",
      "Loss Value :  0.4994220923970753 65.0%\n",
      "Loss Value :  0.49942618038422065 66.0%\n",
      "Loss Value :  0.49943886668160864 67.0%\n",
      "Loss Value :  0.4994315616303351 68.0%\n",
      "Loss Value :  0.4994375523416306 69.0%\n",
      "Loss Value :  0.49950265749929457 70.0%\n",
      "Loss Value :  0.4995828930177626 71.0%\n",
      "Loss Value :  0.4995756167329437 72.0%\n",
      "Loss Value :  0.49960097061120634 73.0%\n",
      "Loss Value :  0.49960507403044535 74.0%\n",
      "Loss Value :  0.4994689501650205 75.0%\n",
      "Loss Value :  0.4993469476923269 76.0%\n",
      "Loss Value :  0.49934981618262786 77.0%\n",
      "Loss Value :  0.4993534089870248 78.0%\n",
      "Loss Value :  0.49951460795929403 79.0%\n",
      "Loss Value :  0.4995438061987199 80.0%\n",
      "Loss Value :  0.49955442024108165 81.0%\n",
      "Loss Value :  0.49962698396251004 82.0%\n",
      "Loss Value :  0.499572474564652 83.0%\n",
      "Loss Value :  0.4995658986129106 84.0%\n",
      "Loss Value :  0.4996056346160631 85.0%\n",
      "Loss Value :  0.4995860371473097 86.0%\n",
      "Loss Value :  0.4996072242783066 87.0%\n",
      "Loss Value :  0.49959738859484826 88.0%\n",
      "Loss Value :  0.4996024822879082 89.0%\n",
      "Loss Value :  0.49963335389609587 90.0%\n",
      "Loss Value :  0.49961385281292836 91.0%\n",
      "Loss Value :  0.49962012511222054 92.0%\n",
      "Loss Value :  0.4996293801619549 93.0%\n",
      "Loss Value :  0.4996375381938218 94.0%\n",
      "Loss Value :  0.4996484258469191 95.0%\n",
      "Loss Value :  0.4996824446638498 96.0%\n",
      "Loss Value :  0.49966503601876133 97.0%\n",
      "Loss Value :  0.49966483092203673 98.0%\n",
      "Loss Value :  0.4997043177704962 99.0%\n",
      "Loss Value :  0.4997107096258435 100.0%\n",
      "Loss Value :  0.49971409911678316 101.0%\n",
      "Loss Value :  0.49972763516480967 102.0%\n",
      "Loss Value :  0.4997523775589796 103.0%\n",
      "Loss Value :  0.4997561696908498 104.0%\n",
      "Loss Value :  0.49975733663307803 105.0%\n",
      "Loss Value :  0.499761867811277 106.0%\n",
      "Loss Value :  0.4997776578203553 107.0%\n",
      "Loss Value :  0.4997685446083263 108.0%\n",
      "Loss Value :  0.49976633160202993 109.0%\n",
      "Loss Value :  0.4997699143165141 110.0%\n",
      "Loss Value :  0.4997669183338792 111.0%\n",
      "Loss Value :  0.49976524001972855 112.0%\n",
      "Loss Value :  0.4997551008164869 113.0%\n",
      "Loss Value :  0.49975538269268976 114.0%\n",
      "Loss Value :  0.49975335604813265 115.0%\n",
      "Loss Value :  0.49978661732126484 116.0%\n",
      "Loss Value :  0.49977334624452635 117.0%\n",
      "Loss Value :  0.4997853885959494 118.0%\n",
      "Loss Value :  0.4998197268876864 119.0%\n",
      "Loss Value :  0.4998413311564489 120.0%\n",
      "Loss Value :  0.49984040086057535 121.0%\n",
      "Loss Value :  0.4998397989121726 122.0%\n",
      "Loss Value :  0.4998387765561326 123.0%\n",
      "Loss Value :  0.49983830841589655 124.0%\n",
      "Loss Value :  0.49983752303672235 125.0%\n",
      "Loss Value :  0.4998376651565134 126.0%\n",
      "Loss Value :  0.4998384399791843 127.0%\n",
      "Loss Value :  0.49983950543050815 128.0%\n",
      "Loss Value :  0.49983763693798977 129.0%\n",
      "Loss Value :  0.4998379735482981 130.0%\n",
      "Loss Value :  0.4998407523594054 131.0%\n",
      "Loss Value :  0.4998392405755235 132.0%\n",
      "Loss Value :  0.4998397424494253 133.0%\n",
      "Loss Value :  0.499849685236863 134.0%\n",
      "Loss Value :  0.4998521050977181 135.0%\n",
      "Loss Value :  0.49985379143447217 136.0%\n",
      "Loss Value :  0.4998583543747315 137.0%\n",
      "Loss Value :  0.4998561492689841 138.0%\n",
      "Loss Value :  0.4998688768425527 139.0%\n",
      "Loss Value :  0.4998723847697485 140.0%\n",
      "Loss Value :  0.4998721970445663 141.0%\n",
      "Loss Value :  0.49986556570091983 142.0%\n",
      "Loss Value :  0.4998604302593834 143.0%\n",
      "Loss Value :  0.4998645305198467 144.0%\n",
      "Loss Value :  0.49986748299795003 145.0%\n",
      "Loss Value :  0.4998849164370751 146.0%\n",
      "Loss Value :  0.499885322786631 147.0%\n",
      "Loss Value :  0.4998608608568432 148.0%\n",
      "Loss Value :  0.4998794723676722 149.0%\n",
      "Loss Value :  0.49987773527927654 150.0%\n",
      "Loss Value :  0.4998895651845286 151.0%\n",
      "Loss Value :  0.49988556077727403 152.0%\n",
      "Loss Value :  0.4998989074771703 153.0%\n",
      "Loss Value :  0.4999019371787832 154.0%\n",
      "Loss Value :  0.4998997600728138 155.0%\n",
      "Loss Value :  0.49989960837865854 156.0%\n",
      "Loss Value :  0.4998998946225794 157.0%\n",
      "Loss Value :  0.49989415953819816 158.0%\n",
      "Loss Value :  0.49989688710615743 159.0%\n",
      "Loss Value :  0.499902893953012 160.0%\n",
      "Loss Value :  0.49990313474333914 161.0%\n",
      "Loss Value :  0.49986652483051275 162.0%\n",
      "Loss Value :  0.4998688425506478 163.0%\n",
      "Loss Value :  0.49988780739222327 164.0%\n",
      "Loss Value :  0.4998899163169763 165.0%\n",
      "Loss Value :  0.49988909971118023 166.0%\n",
      "Loss Value :  0.4998926799641623 167.0%\n",
      "Loss Value :  0.4998998132109434 168.0%\n",
      "Loss Value :  0.4998990062562932 169.0%\n",
      "Loss Value :  0.49990339660180827 170.0%\n",
      "Loss Value :  0.4999026076965496 171.0%\n",
      "Loss Value :  0.49990344956024757 172.0%\n",
      "Loss Value :  0.49991265514833966 173.0%\n",
      "Loss Value :  0.49992262126521714 174.0%\n",
      "Loss Value :  0.49992422547008997 175.0%\n",
      "Loss Value :  0.4999072370587144 176.0%\n",
      "Loss Value :  0.4999077996709971 177.0%\n",
      "Loss Value :  0.4999114868119153 178.0%\n",
      "Loss Value :  0.4999098592204615 179.0%\n",
      "Loss Value :  0.4999081820237603 180.0%\n",
      "Loss Value :  0.4998961230042901 181.0%\n",
      "Loss Value :  0.4998923044991954 182.0%\n",
      "Loss Value :  0.4999132320099357 183.0%\n",
      "Loss Value :  0.49991860031663493 184.0%\n",
      "Loss Value :  0.49992936124562637 185.0%\n",
      "Loss Value :  0.49992721100048937 186.0%\n",
      "Loss Value :  0.499942210033412 187.0%\n",
      "Loss Value :  0.4999414548654042 188.0%\n",
      "Loss Value :  0.4999463136699187 189.0%\n",
      "Loss Value :  0.4999489248170173 190.0%\n",
      "Loss Value :  0.4999521879055199 191.0%\n",
      "Loss Value :  0.49995213843654274 192.0%\n",
      "Loss Value :  0.4999424959151349 193.0%\n",
      "Loss Value :  0.4999443013516579 194.0%\n",
      "Loss Value :  0.4999450191511553 195.0%\n",
      "Loss Value :  0.4999450166876258 196.0%\n",
      "Loss Value :  0.4999509593641618 197.0%\n",
      "Loss Value :  0.4999488350581085 198.0%\n",
      "Loss Value :  0.499950116981036 199.0%\n",
      "Loss Value :  0.4999502888735285 200.0%\n"
     ]
    }
   ],
   "source": [
    "noisy = False\n",
    "noiseless_loss = []\n",
    "noiselessParam = np.copy(paramProver)\n",
    "print(\"Initial Cost : \", -1*costf(noiselessParam))\n",
    "autospsa = SPSA(maxiter=200, learning_rate=None, perturbation=None, callback=autospsa_callback)\n",
    "x_opt, fx_opt, nfevs = autospsa.optimize(numParam, costf, initial_point=noiselessParam)"
   ]
  },
  {
   "cell_type": "code",
   "execution_count": 88,
   "id": "7aa8a97d",
   "metadata": {},
   "outputs": [
    {
     "name": "stdout",
     "output_type": "stream",
     "text": [
      "Initial Cost :  0.2551250951477954\n",
      "Loss Value :  0.2590862744717391 1.0%\n",
      "Loss Value :  0.2588222353446963 2.0%\n",
      "Loss Value :  0.2588730375625269 3.0%\n",
      "Loss Value :  0.29304410358938937 4.0%\n",
      "Loss Value :  0.27150431671265157 5.0%\n",
      "Loss Value :  0.2946825255503111 6.0%\n",
      "Loss Value :  0.32035909111323496 7.0%\n",
      "Loss Value :  0.3082330617465437 8.0%\n",
      "Loss Value :  0.291350858314262 9.0%\n",
      "Loss Value :  0.3113909732838532 10.0%\n",
      "Loss Value :  0.32018184052921544 11.0%\n",
      "Loss Value :  0.3154427320970308 12.0%\n",
      "Loss Value :  0.32062554249250513 13.0%\n",
      "Loss Value :  0.3148827297429241 14.0%\n",
      "Loss Value :  0.3048634578286246 15.0%\n",
      "Loss Value :  0.2952421164928567 16.0%\n",
      "Loss Value :  0.3123973076603362 17.0%\n",
      "Loss Value :  0.311064317009859 18.0%\n",
      "Loss Value :  0.31594018031688614 19.0%\n",
      "Loss Value :  0.32382175543147285 20.0%\n",
      "Loss Value :  0.3084335462476388 21.0%\n",
      "Loss Value :  0.3056636898732405 22.0%\n",
      "Loss Value :  0.3046781541715973 23.0%\n",
      "Loss Value :  0.30867537153081986 24.0%\n",
      "Loss Value :  0.3197315607098888 25.0%\n",
      "Loss Value :  0.3081881007705742 26.0%\n",
      "Loss Value :  0.32098352266177094 27.0%\n",
      "Loss Value :  0.3014871663556297 28.0%\n",
      "Loss Value :  0.32860951154482154 29.0%\n",
      "Loss Value :  0.32068908913935995 30.0%\n",
      "Loss Value :  0.3089517277364063 31.0%\n",
      "Loss Value :  0.31769846055057765 32.0%\n",
      "Loss Value :  0.32357388181114993 33.0%\n",
      "Loss Value :  0.3090470960031459 34.0%\n",
      "Loss Value :  0.29702072949798897 35.0%\n",
      "Loss Value :  0.34385202519839797 36.0%\n",
      "Loss Value :  0.32462122146801076 37.0%\n",
      "Loss Value :  0.31804976040096533 38.0%\n",
      "Loss Value :  0.33266648052985526 39.0%\n",
      "Loss Value :  0.32471679365542844 40.0%\n",
      "Loss Value :  0.30754026514096633 41.0%\n",
      "Loss Value :  0.3217932794301668 42.0%\n",
      "Loss Value :  0.3123295727996485 43.0%\n",
      "Loss Value :  0.3257649144423383 44.0%\n",
      "Loss Value :  0.32499773145428484 45.0%\n",
      "Loss Value :  0.34186937602920175 46.0%\n",
      "Loss Value :  0.3313034506413863 47.0%\n",
      "Loss Value :  0.32906932922216775 48.0%\n",
      "Loss Value :  0.3215366588343253 49.0%\n",
      "Loss Value :  0.337590571240657 50.0%\n",
      "Loss Value :  0.3268669173120478 51.0%\n",
      "Loss Value :  0.30360155429386165 52.0%\n",
      "Loss Value :  0.32413425903954063 53.0%\n",
      "Loss Value :  0.34165697731408556 54.0%\n",
      "Loss Value :  0.3308816512971864 55.0%\n",
      "Loss Value :  0.3343932164422531 56.0%\n",
      "Loss Value :  0.3116306718264546 57.0%\n",
      "Loss Value :  0.33999470204833 58.0%\n",
      "Loss Value :  0.3350040699703306 59.0%\n",
      "Loss Value :  0.32861741238806175 60.0%\n",
      "Loss Value :  0.3236388631366031 61.0%\n",
      "Loss Value :  0.33836742003721343 62.0%\n",
      "Loss Value :  0.3288990558751731 63.0%\n",
      "Loss Value :  0.3160129022273995 64.0%\n",
      "Loss Value :  0.33205661880360604 65.0%\n",
      "Loss Value :  0.33067239180016805 66.0%\n",
      "Loss Value :  0.3167165045669588 67.0%\n",
      "Loss Value :  0.3310250911298768 68.0%\n",
      "Loss Value :  0.3421557892942322 69.0%\n",
      "Loss Value :  0.3268346867419261 70.0%\n",
      "Loss Value :  0.32871218402817765 71.0%\n",
      "Loss Value :  0.3232909254485777 72.0%\n",
      "Loss Value :  0.3230214664093847 73.0%\n",
      "Loss Value :  0.3153088547990415 74.0%\n",
      "Loss Value :  0.3275526554100727 75.0%\n",
      "Loss Value :  0.30732311835514514 76.0%\n",
      "Loss Value :  0.32501440993546393 77.0%\n",
      "Loss Value :  0.3279286583654895 78.0%\n",
      "Loss Value :  0.34126860002372833 79.0%\n",
      "Loss Value :  0.32126614910359713 80.0%\n",
      "Loss Value :  0.3140427477301362 81.0%\n",
      "Loss Value :  0.33309399961496505 82.0%\n",
      "Loss Value :  0.335229814795442 83.0%\n",
      "Loss Value :  0.3358625907850402 84.0%\n",
      "Loss Value :  0.32016600709939713 85.0%\n",
      "Loss Value :  0.32614962320224083 86.0%\n",
      "Loss Value :  0.3151355190097292 87.0%\n",
      "Loss Value :  0.3351455837571911 88.0%\n",
      "Loss Value :  0.33731166985144023 89.0%\n",
      "Loss Value :  0.3526069498463952 90.0%\n",
      "Loss Value :  0.3372726292329535 91.0%\n",
      "Loss Value :  0.32359115086730683 92.0%\n",
      "Loss Value :  0.33343178008816693 93.0%\n",
      "Loss Value :  0.3285059136295764 94.0%\n",
      "Loss Value :  0.3219051621536064 95.0%\n",
      "Loss Value :  0.32114933332722556 96.0%\n",
      "Loss Value :  0.32795307183255873 97.0%\n",
      "Loss Value :  0.30556605745316745 98.0%\n",
      "Loss Value :  0.3142089439292468 99.0%\n",
      "Loss Value :  0.3260874532868612 100.0%\n",
      "Loss Value :  0.3247588388050634 101.0%\n",
      "Loss Value :  0.3118298735123645 102.0%\n",
      "Loss Value :  0.329936923666223 103.0%\n",
      "Loss Value :  0.32824569807670123 104.0%\n",
      "Loss Value :  0.3212998862349045 105.0%\n",
      "Loss Value :  0.32903079981462785 106.0%\n",
      "Loss Value :  0.3364275758988675 107.0%\n",
      "Loss Value :  0.31687704452133664 108.0%\n",
      "Loss Value :  0.33061908893848385 109.0%\n",
      "Loss Value :  0.21704645750006368 110.0%\n",
      "Loss Value :  0.24497736976614215 111.0%\n",
      "Loss Value :  0.27821911709795666 112.0%\n",
      "Loss Value :  0.25899910428467815 113.0%\n",
      "Loss Value :  0.26085909204136576 114.0%\n",
      "Loss Value :  0.26785757411472333 115.0%\n",
      "Loss Value :  0.26827642049718875 116.0%\n",
      "Loss Value :  0.28038383747192075 117.0%\n",
      "Loss Value :  0.2754932568118044 118.0%\n",
      "Loss Value :  0.29178645884000876 119.0%\n",
      "Loss Value :  0.27534036297111225 120.0%\n",
      "Loss Value :  0.2914161409303331 121.0%\n",
      "Loss Value :  0.28691637839081113 122.0%\n",
      "Loss Value :  0.28312851626510493 123.0%\n",
      "Loss Value :  0.2967526329328574 124.0%\n",
      "Loss Value :  0.2848945032484372 125.0%\n",
      "Loss Value :  0.2966817385518635 126.0%\n",
      "Loss Value :  0.31065236735177754 127.0%\n",
      "Loss Value :  0.2874953276575878 128.0%\n",
      "Loss Value :  0.30451566350346465 129.0%\n",
      "Loss Value :  0.3058305035153545 130.0%\n",
      "Loss Value :  0.3203476587454958 131.0%\n",
      "Loss Value :  0.3027385643702721 132.0%\n",
      "Loss Value :  0.29810808508213565 133.0%\n",
      "Loss Value :  0.30278753626238597 134.0%\n",
      "Loss Value :  0.31887092589791516 135.0%\n",
      "Loss Value :  0.31432853679032857 136.0%\n",
      "Loss Value :  0.3133577206878857 137.0%\n",
      "Loss Value :  0.2846715486263223 138.0%\n",
      "Loss Value :  0.3098358174432898 139.0%\n",
      "Loss Value :  0.2841313237429718 140.0%\n",
      "Loss Value :  0.28434096215923016 141.0%\n",
      "Loss Value :  0.30248970463520375 142.0%\n",
      "Loss Value :  0.29478483306015324 143.0%\n",
      "Loss Value :  0.29659722691368934 144.0%\n",
      "Loss Value :  0.29866402122887076 145.0%\n",
      "Loss Value :  0.30085690539534926 146.0%\n",
      "Loss Value :  0.30622887678770766 147.0%\n",
      "Loss Value :  0.30750317995959336 148.0%\n",
      "Loss Value :  0.312023003999149 149.0%\n",
      "Loss Value :  0.3067779707762547 150.0%\n",
      "Loss Value :  0.3110196786190667 151.0%\n",
      "Loss Value :  0.3223757936329124 152.0%\n",
      "Loss Value :  0.3112422049915794 153.0%\n",
      "Loss Value :  0.2922647741419334 154.0%\n",
      "Loss Value :  0.3127472524126116 155.0%\n",
      "Loss Value :  0.31326796777692084 156.0%\n",
      "Loss Value :  0.31086041797187375 157.0%\n",
      "Loss Value :  0.3014557117106908 158.0%\n",
      "Loss Value :  0.2951116872903865 159.0%\n",
      "Loss Value :  0.30325594867045014 160.0%\n",
      "Loss Value :  0.2823279554396961 161.0%\n",
      "Loss Value :  0.29721164643736586 162.0%\n",
      "Loss Value :  0.2815183777887584 163.0%\n",
      "Loss Value :  0.2993034638780924 164.0%\n",
      "Loss Value :  0.30183009836140307 165.0%\n",
      "Loss Value :  0.30127596070899104 166.0%\n",
      "Loss Value :  0.2982035791569364 167.0%\n",
      "Loss Value :  0.2899907220914338 168.0%\n",
      "Loss Value :  0.29939090014606307 169.0%\n",
      "Loss Value :  0.2904534891027909 170.0%\n",
      "Loss Value :  0.3141065429571314 171.0%\n",
      "Loss Value :  0.3027195522908664 172.0%\n",
      "Loss Value :  0.30990707240835913 173.0%\n",
      "Loss Value :  0.3126774452648504 174.0%\n",
      "Loss Value :  0.31355325267242423 175.0%\n",
      "Loss Value :  0.31454863268674427 176.0%\n",
      "Loss Value :  0.3134588265106933 177.0%\n",
      "Loss Value :  0.3118263084227606 178.0%\n",
      "Loss Value :  0.3055163953451036 179.0%\n",
      "Loss Value :  0.30868206834725775 180.0%\n",
      "Loss Value :  0.3133219564219317 181.0%\n",
      "Loss Value :  0.30997664756082477 182.0%\n",
      "Loss Value :  0.30071056392739487 183.0%\n",
      "Loss Value :  0.3122724941231005 184.0%\n",
      "Loss Value :  0.3079978589101329 185.0%\n",
      "Loss Value :  0.32348152519118456 186.0%\n",
      "Loss Value :  0.31734156977895855 187.0%\n",
      "Loss Value :  0.30297030730355534 188.0%\n",
      "Loss Value :  0.30056547507773396 189.0%\n",
      "Loss Value :  0.3039528342052325 190.0%\n",
      "Loss Value :  0.31492071005662203 191.0%\n",
      "Loss Value :  0.34178281739001054 192.0%\n",
      "Loss Value :  0.3061603510324761 193.0%\n",
      "Loss Value :  0.315370074125477 194.0%\n",
      "Loss Value :  0.3210911465054274 195.0%\n",
      "Loss Value :  0.3043002238189014 196.0%\n",
      "Loss Value :  0.3252589852754541 197.0%\n",
      "Loss Value :  0.3157341883342277 198.0%\n",
      "Loss Value :  0.3008457076968226 199.0%\n",
      "Loss Value :  0.29189788473527356 200.0%\n"
     ]
    }
   ],
   "source": [
    "noisy = True\n",
    "noisy_loss = []\n",
    "noisyParam = np.copy(paramProver)\n",
    "-1*costf(noisyParam)\n",
    "print(\"Initial Cost : \", -1*costf(noisyParam))\n",
    "autospsa = SPSA(maxiter=200, learning_rate=None, perturbation=None, callback=autospsa_callback)\n",
    "x_opt, fx_opt, nfevs = autospsa.optimize(numParam, costf, initial_point=noisyParam)"
   ]
  },
  {
   "cell_type": "code",
   "execution_count": 89,
   "id": "ffd2bf76",
   "metadata": {},
   "outputs": [
    {
     "name": "stdout",
     "output_type": "stream",
     "text": [
      "0.4974204488032991\n"
     ]
    }
   ],
   "source": [
    "noisy = False\n",
    "noiseResilientValue = -1*costf(x_opt)\n",
    "print(noiseResilientValue)"
   ]
  },
  {
   "cell_type": "code",
   "execution_count": 90,
   "id": "be9764ba",
   "metadata": {},
   "outputs": [
    {
     "name": "stdout",
     "output_type": "stream",
     "text": [
      "True Value :  0.5\n",
      "Noiseless :  0.4999502888735285\n",
      "Noisy :  0.29189788473527356\n",
      "Noise Resilient Value :  0.4974204488032991\n"
     ]
    }
   ],
   "source": [
    "print(\"True Value : \", true_value)\n",
    "print(\"Noiseless : \", noiseless_loss[-1])\n",
    "print(\"Noisy : \", noisy_loss[-1])\n",
    "print(\"Noise Resilient Value : \", noiseResilientValue)"
   ]
  },
  {
   "cell_type": "code",
   "execution_count": 49,
   "id": "ef74d462",
   "metadata": {},
   "outputs": [],
   "source": [
    "def writeToFile():\n",
    "    file = open(\"Q8_GSE.txt\", \"w+\")\n",
    "    file.write(str(true_value)+\"\\n\")\n",
    "    file.write(str(noiseResilientValue)+\"\\n\")\n",
    "\n",
    "    file.write(str(len(noiseless_loss))+\"\\n\")\n",
    "    L = [str(i)+\"\\n\" for i in noiseless_loss]\n",
    "    file.writelines(L)\n",
    "    \n",
    "    file.write(str(len(noisy_loss))+\"\\n\")\n",
    "    L = [str(i)+\"\\n\" for i in noisy_loss[0:len(noisy_loss)-1]]\n",
    "    file.writelines(L)\n",
    "    \n",
    "    file.write(str(noisy_loss[-1]))\n",
    "    \n",
    "    file.close()"
   ]
  },
  {
   "cell_type": "code",
   "execution_count": 50,
   "id": "8aa97bc6",
   "metadata": {},
   "outputs": [],
   "source": [
    "writeToFile()"
   ]
  },
  {
   "cell_type": "code",
   "execution_count": null,
   "id": "469a24a9",
   "metadata": {},
   "outputs": [],
   "source": []
  }
 ],
 "metadata": {
  "kernelspec": {
   "display_name": "Python 3",
   "language": "python",
   "name": "python3"
  },
  "language_info": {
   "codemirror_mode": {
    "name": "ipython",
    "version": 3
   },
   "file_extension": ".py",
   "mimetype": "text/x-python",
   "name": "python",
   "nbconvert_exporter": "python",
   "pygments_lexer": "ipython3",
   "version": "3.9.6"
  }
 },
 "nbformat": 4,
 "nbformat_minor": 5
}
