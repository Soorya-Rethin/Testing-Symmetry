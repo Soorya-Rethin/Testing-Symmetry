{
 "cells": [
  {
   "cell_type": "code",
   "execution_count": 130,
   "id": "0e2cf47a",
   "metadata": {},
   "outputs": [],
   "source": [
    "#Import Relevant Libraries\n",
    "import random\n",
    "import numpy as np\n",
    "import cvxpy as cp\n",
    "\n",
    "from qiskit import QuantumCircuit, execute, Aer, IBMQ, BasicAer\n",
    "from qiskit.visualization import plot_histogram, plot_state_qsphere as plot_q\n",
    "from qiskit.quantum_info import Statevector\n",
    "from qiskit.circuit.library.standard_gates import CRYGate\n",
    "\n",
    "from qiskit import quantum_info as qi\n",
    "from toqito.channel_metrics import channel_fidelity\n",
    "\n",
    "from toqito.state_metrics import fidelity\n",
    "from toqito.channels import partial_trace as pt\n",
    "from qiskit.quantum_info import DensityMatrix, state_fidelity, partial_trace"
   ]
  },
  {
   "cell_type": "code",
   "execution_count": 131,
   "id": "0a73ceb2",
   "metadata": {},
   "outputs": [],
   "source": [
    "unitary_param_1 = [0.23288344, 6.07542937, 2.29621914, 2.27711725, 6.10457256, 3.24950874, 3.62347064, 3.32597717,\n",
    "                   1.95721634, 4.3379869, 6.15892826, 6.05637137]"
   ]
  },
  {
   "cell_type": "code",
   "execution_count": 132,
   "id": "7b8f3a34",
   "metadata": {},
   "outputs": [],
   "source": [
    "I = np.array([[1, 0], [0, 1]])\n",
    "SWAP = np.array([[1, 0, 0, 0], [0, 0, 1, 0], [0, 1, 0, 0], [0, 0, 0, 1]])\n",
    "phiPlus = np.matrix([[0.5, 0, 0, 0.5], [0, 0, 0, 0], [0, 0, 0, 0], [0.5, 0, 0, 0.5]], dtype=complex)\n",
    "phiMinus = np.matrix([[0.5, 0, 0, -0.5], [0, 0, 0, 0], [0, 0, 0, 0], [-0.5, 0, 0, 0.5]], dtype=complex)\n",
    "psiPlus = np.matrix([[0, 0, 0, 0], [0, 0.5, 0.5, 0], [0, 0.5, 0.5, 0], [0, 0, 0, 0]], dtype=complex)\n",
    "psiMinus = np.matrix([[0, 0, 0, 0], [0, 0.5, -0.5, 0], [0, -0.5, 0.5, 0], [0, 0, 0, 0]], dtype=complex)"
   ]
  },
  {
   "cell_type": "code",
   "execution_count": 133,
   "id": "780cd4b6",
   "metadata": {},
   "outputs": [
    {
     "data": {
      "image/png": "[encoded data removed]",
      "text/plain": [
       "<Figure size 789.163x284.278 with 1 Axes>"
      ]
     },
     "execution_count": 133,
     "metadata": {},
     "output_type": "execute_result"
    }
   ],
   "source": [
    "#State \\rho_SR\n",
    "size = 3\n",
    "layers = 2\n",
    "state = QuantumCircuit(size)\n",
    "for j in range(layers):\n",
    "    for i in range(size):\n",
    "        state.rx(unitary_param_1[j*size*2 + i], i)\n",
    "        state.ry(unitary_param_1[j*2*size + i + size], i)\n",
    "\n",
    "    for i in range(size-1):\n",
    "        state.cx(i, i+1)\n",
    "\n",
    "state.draw('mpl')"
   ]
  },
  {
   "cell_type": "code",
   "execution_count": 134,
   "id": "4342e7a4",
   "metadata": {},
   "outputs": [],
   "source": [
    "G1_SR = np.kron(np.kron(I, I), I)\n",
    "G2_SR = np.kron(I, SWAP)"
   ]
  },
  {
   "cell_type": "code",
   "execution_count": 135,
   "id": "600d2377",
   "metadata": {},
   "outputs": [],
   "source": [
    "def createWernerMatrix(F):\n",
    "    werner = np.zeros((4, 4), dtype=complex)\n",
    "    werner += F*psiMinus\n",
    "    werner += ((1-F)/3)*psiPlus\n",
    "    werner += ((1-F)/3)*phiPlus\n",
    "    werner += ((1-F)/3)*phiMinus\n",
    "\n",
    "    return werner"
   ]
  },
  {
   "cell_type": "code",
   "execution_count": 175,
   "id": "ac3b52e5",
   "metadata": {},
   "outputs": [],
   "source": [
    "def createWernerState(F):\n",
    "    theta1 = 2*np.arccos(np.sqrt(0.667*(1-F)))\n",
    "    theta2 = 2*np.arctan(np.sqrt(3*F/(1-F)))\n",
    "    \n",
    "    state = QuantumCircuit(3)\n",
    "    state.ry(theta1, 0)\n",
    "    state.append(CRYGate(theta2), [0, 1])\n",
    "    state.x(0)\n",
    "    state.ch(0, 1)\n",
    "    state.x(0)\n",
    "    \n",
    "    return state"
   ]
  },
  {
   "cell_type": "code",
   "execution_count": 176,
   "id": "5640a517",
   "metadata": {},
   "outputs": [
    {
     "data": {
      "image/png": "[encoded data removed]",
      "text/plain": [
       "<Figure size 454.719x284.278 with 1 Axes>"
      ]
     },
     "execution_count": 176,
     "metadata": {},
     "output_type": "execute_result"
    }
   ],
   "source": [
    "qcTest = QuantumCircuit(3)\n",
    "qcTest.h(0)\n",
    "qcTest.cx(0, 1)\n",
    "qcTest.z(1)\n",
    "qcTest.x(1)\n",
    "qcTest.draw('mpl')"
   ]
  },
  {
   "cell_type": "code",
   "execution_count": 177,
   "id": "73f2a2cb",
   "metadata": {},
   "outputs": [
    {
     "name": "stdout",
     "output_type": "stream",
     "text": [
      "[[0.16675   +0.j 0.16675   +0.j 0.16668749+0.j 0.2887112 +0.j]\n",
      " [0.16675   +0.j 0.16675   +0.j 0.16668749+0.j 0.2887112 +0.j]\n",
      " [0.16668749+0.j 0.16668749+0.j 0.166625  +0.j 0.28860297+0.j]\n",
      " [0.2887112 +0.j 0.2887112 +0.j 0.28860297+0.j 0.499875  +0.j]]\n"
     ]
    }
   ],
   "source": [
    "psi = np.array(DensityMatrix.from_instruction(createWernerState(0.5).reverse_bits()))\n",
    "rho = pt(psi, [3], [2, 2, 2]) #rho_S\n",
    "print(rho)"
   ]
  },
  {
   "cell_type": "code",
   "execution_count": 178,
   "id": "4e1627b0",
   "metadata": {},
   "outputs": [
    {
     "name": "stdout",
     "output_type": "stream",
     "text": [
      "WARN: A->p (column pointers) not strictly increasing, column 80 empty\n",
      "WARN: A->p (column pointers) not strictly increasing, column 107 empty\n",
      "WARN: A->p (column pointers) not strictly increasing, column 116 empty\n",
      "WARN: A->p (column pointers) not strictly increasing, column 143 empty\n",
      "Root Fidelity is : 1.0000007528361223\n"
     ]
    }
   ],
   "source": [
    "shape = rho.shape\n",
    "\n",
    "X = cp.Variable(shape, complex=True)\n",
    "omega = cp.Variable(G2_SR.shape, complex=True)\n",
    "G = cp.bmat([[createWernerMatrix(0.5), X.H],[X, pt(omega, [3], [2, 2, 2])]])\n",
    "\n",
    "c = [omega>>0, G>>0, cp.real(cp.trace(omega))==1]\n",
    "\n",
    "c.append(omega@G2_SR == G2_SR@omega)\n",
    "\n",
    "obj = cp.Maximize(cp.real(cp.trace(X)))\n",
    "problem = cp.Problem(obj, constraints = c)\n",
    "rootFid = problem.solve()\n",
    "print(\"Root Fidelity is : \" + str(rootFid))"
   ]
  },
  {
   "cell_type": "code",
   "execution_count": 179,
   "id": "0d74322a",
   "metadata": {},
   "outputs": [
    {
     "name": "stdout",
     "output_type": "stream",
     "text": [
      "Fidelity is : 1.0000015056728113\n"
     ]
    }
   ],
   "source": [
    "print(\"Fidelity is : \" + str(rootFid**2))"
   ]
  },
  {
   "cell_type": "code",
   "execution_count": null,
   "id": "ec7f3f66",
   "metadata": {},
   "outputs": [],
   "source": []
  }
 ],
 "metadata": {
  "kernelspec": {
   "display_name": "Python 3",
   "language": "python",
   "name": "python3"
  },
  "language_info": {
   "codemirror_mode": {
    "name": "ipython",
    "version": 3
   },
   "file_extension": ".py",
   "mimetype": "text/x-python",
   "name": "python",
   "nbconvert_exporter": "python",
   "pygments_lexer": "ipython3",
   "version": "3.9.6"
  }
 },
 "nbformat": 4,
 "nbformat_minor": 5
}
