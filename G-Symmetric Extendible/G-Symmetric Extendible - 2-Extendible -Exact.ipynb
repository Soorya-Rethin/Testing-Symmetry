{
 "cells": [
  {
   "cell_type": "code",
   "execution_count": 130,
   "id": "0e2cf47a",
   "metadata": {},
   "outputs": [],
   "source": [
    "#Import Relevant Libraries\n",
    "import random\n",
    "import numpy as np\n",
    "import cvxpy as cp\n",
    "\n",
    "from qiskit import QuantumCircuit, execute, Aer, IBMQ, BasicAer\n",
    "from qiskit.visualization import plot_histogram, plot_state_qsphere as plot_q\n",
    "from qiskit.quantum_info import Statevector\n",
    "from qiskit.circuit.library.standard_gates import CRYGate\n",
    "\n",
    "from qiskit import quantum_info as qi\n",
    "from toqito.channel_metrics import channel_fidelity\n",
    "\n",
    "from toqito.state_metrics import fidelity\n",
    "from toqito.channels import partial_trace as pt\n",
    "from qiskit.quantum_info import DensityMatrix, state_fidelity, partial_trace"
   ]
  },
  {
   "cell_type": "code",
   "execution_count": 131,
   "id": "0a73ceb2",
   "metadata": {},
   "outputs": [],
   "source": [
    "'''\n",
    "Defines parameters that specify the purification of state to be tested. Create a QuantumCircuit object that\n",
    "creates the purification on (size) number of qubits.\n",
    "'''\n",
    "unitary_param_1 = [0.23288344, 6.07542937, 2.29621914, 2.27711725, 6.10457256, 3.24950874, 3.62347064, 3.32597717,\n",
    "                   1.95721634, 4.3379869, 6.15892826, 6.05637137]\n",
    "\n",
    "size = 3\n",
    "layers = 2\n",
    "state = QuantumCircuit(size)\n",
    "for j in range(layers):\n",
    "    for i in range(size):\n",
    "        state.rx(unitary_param_1[j*size*2 + i], i)\n",
    "        state.ry(unitary_param_1[j*2*size + i + size], i)\n",
    "\n",
    "    for i in range(size-1):\n",
    "        state.cx(i, i+1)\n",
    "\n",
    "state.draw('mpl')"
   ]
  },
  {
   "cell_type": "code",
   "execution_count": 177,
   "id": "73f2a2cb",
   "metadata": {},
   "outputs": [
    {
     "name": "stdout",
     "output_type": "stream",
     "text": [
      "[[0.16675   +0.j 0.16675   +0.j 0.16668749+0.j 0.2887112 +0.j]\n",
      " [0.16675   +0.j 0.16675   +0.j 0.16668749+0.j 0.2887112 +0.j]\n",
      " [0.16668749+0.j 0.16668749+0.j 0.166625  +0.j 0.28860297+0.j]\n",
      " [0.2887112 +0.j 0.2887112 +0.j 0.28860297+0.j 0.499875  +0.j]]\n"
     ]
    }
   ],
   "source": [
    "'''\n",
    "Extract the matrix representation of the state \\rho_S\n",
    "'''\n",
    "psi = np.array(DensityMatrix.from_instruction(state.reverse_bits()))\n",
    "rho = pt(psi, [3], [2, 2, 2]) "
   ]
  },
  {
   "cell_type": "code",
   "execution_count": 132,
   "id": "7b8f3a34",
   "metadata": {},
   "outputs": [],
   "source": [
    "'''\n",
    "Define matrix representations of required gates.\n",
    "'''\n",
    "I = np.array([[1, 0], [0, 1]])\n",
    "SWAP = np.array([[1, 0, 0, 0], [0, 0, 1, 0], [0, 1, 0, 0], [0, 0, 0, 1]])\n",
    "phiPlus = np.matrix([[0.5, 0, 0, 0.5], [0, 0, 0, 0], [0, 0, 0, 0], [0.5, 0, 0, 0.5]], dtype=complex)\n",
    "phiMinus = np.matrix([[0.5, 0, 0, -0.5], [0, 0, 0, 0], [0, 0, 0, 0], [-0.5, 0, 0, 0.5]], dtype=complex)\n",
    "psiPlus = np.matrix([[0, 0, 0, 0], [0, 0.5, 0.5, 0], [0, 0.5, 0.5, 0], [0, 0, 0, 0]], dtype=complex)\n",
    "psiMinus = np.matrix([[0, 0, 0, 0], [0, 0.5, -0.5, 0], [0, -0.5, 0.5, 0], [0, 0, 0, 0]], dtype=complex)"
   ]
  },
  {
   "cell_type": "code",
   "execution_count": 134,
   "id": "4342e7a4",
   "metadata": {},
   "outputs": [],
   "source": [
    "'''\n",
    "Create list of group elements.\n",
    "'''\n",
    "G1_SR = np.kron(np.kron(I, I), I)\n",
    "G2_SR = np.kron(I, SWAP)"
   ]
  },
  {
   "cell_type": "code",
   "execution_count": 178,
   "id": "4e1627b0",
   "metadata": {},
   "outputs": [
    {
     "name": "stdout",
     "output_type": "stream",
     "text": [
      "WARN: A->p (column pointers) not strictly increasing, column 80 empty\n",
      "WARN: A->p (column pointers) not strictly increasing, column 107 empty\n",
      "WARN: A->p (column pointers) not strictly increasing, column 116 empty\n",
      "WARN: A->p (column pointers) not strictly increasing, column 143 empty\n",
      "Root Fidelity is : 1.0000007528361223\n"
     ]
    }
   ],
   "source": [
    "'''\n",
    "SDP to calculate the Fidelity. Refer to Section 5.\n",
    "'''\n",
    "shape = rho.shape\n",
    "\n",
    "X = cp.Variable(shape, complex=True)\n",
    "omega = cp.Variable(G2_SR.shape, complex=True)\n",
    "G = cp.bmat([[createWernerMatrix(0.5), X.H],[X, pt(omega, [3], [2, 2, 2])]])\n",
    "\n",
    "c = [omega>>0, G>>0, cp.real(cp.trace(omega))==1]\n",
    "\n",
    "'''\n",
    "Add the constraint to ensure that sig is G-Symmetric extendible\n",
    "'''\n",
    "c.append(omega@G2_SR == G2_SR@omega)\n",
    "\n",
    "obj = cp.Maximize(cp.real(cp.trace(X)))\n",
    "problem = cp.Problem(obj, constraints = c)\n",
    "rootFid = problem.solve()\n",
    "print(\"Root Fidelity is : \" + str(rootFid))"
   ]
  },
  {
   "cell_type": "code",
   "execution_count": 179,
   "id": "0d74322a",
   "metadata": {},
   "outputs": [
    {
     "name": "stdout",
     "output_type": "stream",
     "text": [
      "Fidelity is : 1.0000015056728113\n"
     ]
    }
   ],
   "source": [
    "print(\"Fidelity is : \" + str(rootFid**2))"
   ]
  },
  {
   "cell_type": "code",
   "execution_count": null,
   "id": "ec7f3f66",
   "metadata": {},
   "outputs": [],
   "source": []
  }
 ],
 "metadata": {
  "kernelspec": {
   "display_name": "Python 3",
   "language": "python",
   "name": "python3"
  },
  "language_info": {
   "codemirror_mode": {
    "name": "ipython",
    "version": 3
   },
   "file_extension": ".py",
   "mimetype": "text/x-python",
   "name": "python",
   "nbconvert_exporter": "python",
   "pygments_lexer": "ipython3",
   "version": "3.9.6"
  }
 },
 "nbformat": 4,
 "nbformat_minor": 5
}
