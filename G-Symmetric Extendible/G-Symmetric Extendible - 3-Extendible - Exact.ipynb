{
 "cells": [
  {
   "cell_type": "code",
   "execution_count": 21,
   "id": "0e2cf47a",
   "metadata": {},
   "outputs": [],
   "source": [
    "#Import Relevant Libraries\n",
    "import random\n",
    "import numpy as np\n",
    "import cvxpy as cp\n",
    "\n",
    "from qiskit import QuantumCircuit, execute, Aer, IBMQ, BasicAer\n",
    "from qiskit.visualization import plot_histogram, plot_state_qsphere as plot_q\n",
    "from qiskit.quantum_info import Statevector\n",
    "\n",
    "from qiskit import quantum_info as qi\n",
    "from toqito.channel_metrics import channel_fidelity\n",
    "from qiskit.circuit.library.standard_gates import CRYGate\n",
    "from toqito.state_metrics import fidelity\n",
    "from toqito.channels import partial_trace as pt\n",
    "from qiskit.quantum_info import DensityMatrix, state_fidelity, partial_trace"
   ]
  },
  {
   "cell_type": "code",
   "execution_count": 2,
   "id": "0a73ceb2",
   "metadata": {},
   "outputs": [],
   "source": [
    "'''\n",
    "Defines parameters that specify the purification of state to be tested. Create a QuantumCircuit object that\n",
    "creates the purification on (size) number of qubits.\n",
    "'''\n",
    "unitary_param_1 = [3.6394377, 1.98700556, 4.48988233, 4.29453371, 0.99316018, 0.41805292,\n",
    "                   2.50177143, 3.00526562, 3.68954483, 6.10950746, 5.17815346, 1.62734164,\n",
    "                   4.37865732, 0.8921942,  6.12110679, 4.63305539]\n",
    "\n",
    "size = 4\n",
    "layers = 2\n",
    "state = QuantumCircuit(size)\n",
    "for j in range(layers):\n",
    "    for i in range(size):\n",
    "        state.rx(unitary_param_1[j*size*2 + i], i)\n",
    "        state.ry(unitary_param_1[j*2*size + i + size], i)\n",
    "\n",
    "    for i in range(size-1):\n",
    "        state.cx(i, i+1)\n",
    "\n",
    "state.draw('mpl')"
   ]
  },
  {
   "cell_type": "code",
   "execution_count": 116,
   "id": "d77f35e9",
   "metadata": {},
   "outputs": [
    {
     "name": "stdout",
     "output_type": "stream",
     "text": [
      "[[ 0.03335   +0.j  0.        +0.j  0.        +0.j  0.        +0.j]\n",
      " [ 0.        +0.j  0.46665   +0.j -0.43331786+0.j  0.        +0.j]\n",
      " [ 0.        +0.j -0.43331786+0.j  0.46665   +0.j  0.        +0.j]\n",
      " [ 0.        +0.j  0.        +0.j  0.        +0.j  0.03335   +0.j]]\n"
     ]
    }
   ],
   "source": [
    "'''\n",
    "Extract the matrix representation of the state \\rho_S\n",
    "'''\n",
    "psi = np.array(DensityMatrix.from_instruction(state.reverse_bits()))\n",
    "rho = pt(psi, [3, 4], [2, 2, 2, 2])"
   ]
  },
  {
   "cell_type": "code",
   "execution_count": 26,
   "id": "7b8f3a34",
   "metadata": {},
   "outputs": [],
   "source": [
    "'''\n",
    "Define matrix representations of required gates.\n",
    "'''\n",
    "I = np.array([[1, 0], [0, 1]])\n",
    "SWAP = np.array([[1, 0, 0, 0], [0, 0, 1, 0], [0, 1, 0, 0], [0, 0, 0, 1]])\n",
    "S12 = np.kron(SWAP, I)\n",
    "S23 = np.kron(I, SWAP)\n",
    "S13 = np.array([[1,0,0,0,0,0,0,0], [0,0,0,0,1,0,0,0], [0,0,1,0,0,0,0,0], [0,0,0,0,0,0,1,0], \n",
    "                [0,1,0,0,0,0,0,0], [0,0,0,0,0,1,0,0], [0,0,0,1,0,0,0,0], [0,0,0,0,0,0,0,1]])\n",
    "S12S23 = np.matmul(S12, S23)\n",
    "S13S23 = np.matmul(S13, S23)"
   ]
  },
  {
   "cell_type": "code",
   "execution_count": 28,
   "id": "8c90ef05",
   "metadata": {},
   "outputs": [],
   "source": [
    "'''\n",
    "Create list of group elements.\n",
    "'''\n",
    "lis = []\n",
    "lis.append(np.kron(np.kron(I, I), I)) \n",
    "lis.append(S23)\n",
    "lis.append(S13)\n",
    "lis.append(S13S23)\n",
    "lis.append(S12)\n",
    "lis.append(S12S23)"
   ]
  },
  {
   "cell_type": "code",
   "execution_count": 117,
   "id": "e2bd4d30",
   "metadata": {},
   "outputs": [
    {
     "name": "stdout",
     "output_type": "stream",
     "text": [
      "WARN: A->p (column pointers) not strictly increasing, column 272 empty\n",
      "WARN: A->p (column pointers) not strictly increasing, column 391 empty\n",
      "WARN: A->p (column pointers) not strictly increasing, column 408 empty\n",
      "WARN: A->p (column pointers) not strictly increasing, column 527 empty\n",
      "Root Fidelity is : 0.9571878844285074\n"
     ]
    }
   ],
   "source": [
    "'''\n",
    "SDP to calculate the Fidelity. Refer to Section 5.\n",
    "'''\n",
    "shape = rho.shape\n",
    "\n",
    "X = cp.Variable(shape, complex=True)\n",
    "omega = cp.Variable(np.kron(I, S12).shape, complex=True)\n",
    "G = cp.bmat([[rho, X.H],[X, pt(omega, [3, 4], [2, 2, 2, 2])]])\n",
    "\n",
    "c = [omega>>0, G>>0, cp.real(cp.trace(omega))==1]\n",
    "\n",
    "'''\n",
    "Add the constraint to ensure that sig is G-Symmetric extendible\n",
    "'''\n",
    "for item in lis:\n",
    "    c.append(omega@np.kron(I, item) == np.kron(I, item)@omega)\n",
    "\n",
    "obj = cp.Maximize(cp.real(cp.trace(X)))\n",
    "problem = cp.Problem(obj, constraints = c)\n",
    "rootFid = problem.solve()\n",
    "print(\"Root Fidelity is : \" + str(rootFid))"
   ]
  },
  {
   "cell_type": "code",
   "execution_count": 118,
   "id": "88930506",
   "metadata": {},
   "outputs": [
    {
     "name": "stdout",
     "output_type": "stream",
     "text": [
      "Fidelity is : 0.9162086460967217\n"
     ]
    }
   ],
   "source": [
    "print(\"Fidelity is : \" + str(rootFid**2))"
   ]
  },
  {
   "cell_type": "code",
   "execution_count": null,
   "id": "f8f9e977",
   "metadata": {},
   "outputs": [],
   "source": []
  }
 ],
 "metadata": {
  "kernelspec": {
   "display_name": "Python 3",
   "language": "python",
   "name": "python3"
  },
  "language_info": {
   "codemirror_mode": {
    "name": "ipython",
    "version": 3
   },
   "file_extension": ".py",
   "mimetype": "text/x-python",
   "name": "python",
   "nbconvert_exporter": "python",
   "pygments_lexer": "ipython3",
   "version": "3.9.6"
  }
 },
 "nbformat": 4,
 "nbformat_minor": 5
}
